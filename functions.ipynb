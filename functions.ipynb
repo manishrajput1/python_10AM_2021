{
 "cells": [
  {
   "cell_type": "markdown",
   "id": "e15d8aee",
   "metadata": {},
   "source": [
    "    Functions:\n",
    "        block of  code\n",
    "        code reusable\n",
    "        "
   ]
  },
  {
   "cell_type": "code",
   "execution_count": 2,
   "id": "e582e3c6",
   "metadata": {},
   "outputs": [],
   "source": [
    "import builtins"
   ]
  },
  {
   "cell_type": "code",
   "execution_count": 3,
   "id": "b0965cc0",
   "metadata": {},
   "outputs": [
    {
     "name": "stdout",
     "output_type": "stream",
     "text": [
      "['ArithmeticError', 'AssertionError', 'AttributeError', 'BaseException', 'BlockingIOError', 'BrokenPipeError', 'BufferError', 'BytesWarning', 'ChildProcessError', 'ConnectionAbortedError', 'ConnectionError', 'ConnectionRefusedError', 'ConnectionResetError', 'DeprecationWarning', 'EOFError', 'Ellipsis', 'EnvironmentError', 'Exception', 'False', 'FileExistsError', 'FileNotFoundError', 'FloatingPointError', 'FutureWarning', 'GeneratorExit', 'IOError', 'ImportError', 'ImportWarning', 'IndentationError', 'IndexError', 'InterruptedError', 'IsADirectoryError', 'KeyError', 'KeyboardInterrupt', 'LookupError', 'MemoryError', 'ModuleNotFoundError', 'NameError', 'None', 'NotADirectoryError', 'NotImplemented', 'NotImplementedError', 'OSError', 'OverflowError', 'PendingDeprecationWarning', 'PermissionError', 'ProcessLookupError', 'RecursionError', 'ReferenceError', 'ResourceWarning', 'RuntimeError', 'RuntimeWarning', 'StopAsyncIteration', 'StopIteration', 'SyntaxError', 'SyntaxWarning', 'SystemError', 'SystemExit', 'TabError', 'TimeoutError', 'True', 'TypeError', 'UnboundLocalError', 'UnicodeDecodeError', 'UnicodeEncodeError', 'UnicodeError', 'UnicodeTranslateError', 'UnicodeWarning', 'UserWarning', 'ValueError', 'Warning', 'WindowsError', 'ZeroDivisionError', '__IPYTHON__', '__build_class__', '__debug__', '__doc__', '__import__', '__loader__', '__name__', '__package__', '__spec__', 'abs', 'all', 'any', 'ascii', 'bin', 'bool', 'breakpoint', 'bytearray', 'bytes', 'callable', 'chr', 'classmethod', 'compile', 'complex', 'copyright', 'credits', 'delattr', 'dict', 'dir', 'display', 'divmod', 'enumerate', 'eval', 'exec', 'filter', 'float', 'format', 'frozenset', 'get_ipython', 'getattr', 'globals', 'hasattr', 'hash', 'help', 'hex', 'id', 'input', 'int', 'isinstance', 'issubclass', 'iter', 'len', 'license', 'list', 'locals', 'map', 'max', 'memoryview', 'min', 'next', 'object', 'oct', 'open', 'ord', 'pow', 'print', 'property', 'range', 'repr', 'reversed', 'round', 'set', 'setattr', 'slice', 'sorted', 'staticmethod', 'str', 'sum', 'super', 'tuple', 'type', 'vars', 'zip']\n"
     ]
    }
   ],
   "source": [
    "print(dir(builtins))"
   ]
  },
  {
   "cell_type": "markdown",
   "id": "5c3cdbf6",
   "metadata": {},
   "source": [
    "    1. Function definition\n",
    "    2. function docstring\n",
    "    3. function suite\n",
    "    4. funtion return statment\n",
    "    5. function calling"
   ]
  },
  {
   "cell_type": "code",
   "execution_count": null,
   "id": "d80bb143",
   "metadata": {},
   "outputs": [],
   "source": [
    "def function_name():\n",
    "    '''docstring'''\n",
    "    function code\n",
    "    return statement\n",
    "function_name()"
   ]
  },
  {
   "cell_type": "code",
   "execution_count": 7,
   "id": "bdbef362",
   "metadata": {},
   "outputs": [],
   "source": [
    "def greet(name):\n",
    "    '''hello this is docstring'''\n",
    "    p=f'hello {name} good morning....'\n",
    "    return p"
   ]
  },
  {
   "cell_type": "code",
   "execution_count": null,
   "id": "0245dbf9",
   "metadata": {},
   "outputs": [],
   "source": []
  },
  {
   "cell_type": "code",
   "execution_count": null,
   "id": "4825735a",
   "metadata": {},
   "outputs": [],
   "source": []
  },
  {
   "cell_type": "code",
   "execution_count": null,
   "id": "3ce0f69f",
   "metadata": {},
   "outputs": [],
   "source": []
  },
  {
   "cell_type": "code",
   "execution_count": 5,
   "id": "f82732bf",
   "metadata": {},
   "outputs": [
    {
     "data": {
      "text/plain": [
       "'hello manish good morning....'"
      ]
     },
     "execution_count": 5,
     "metadata": {},
     "output_type": "execute_result"
    }
   ],
   "source": [
    "greet('manish')"
   ]
  },
  {
   "cell_type": "code",
   "execution_count": null,
   "id": "9e3d4b8e",
   "metadata": {},
   "outputs": [],
   "source": []
  },
  {
   "cell_type": "code",
   "execution_count": null,
   "id": "4216d5ed",
   "metadata": {},
   "outputs": [],
   "source": []
  },
  {
   "cell_type": "code",
   "execution_count": null,
   "id": "e96c775c",
   "metadata": {},
   "outputs": [],
   "source": []
  },
  {
   "cell_type": "code",
   "execution_count": 6,
   "id": "4deb04da",
   "metadata": {},
   "outputs": [
    {
     "data": {
      "text/plain": [
       "'hello neha good morning....'"
      ]
     },
     "execution_count": 6,
     "metadata": {},
     "output_type": "execute_result"
    }
   ],
   "source": [
    "greet('neha')"
   ]
  },
  {
   "cell_type": "raw",
   "id": "8f4acc81",
   "metadata": {},
   "source": []
  },
  {
   "cell_type": "code",
   "execution_count": null,
   "id": "2bfa056d",
   "metadata": {},
   "outputs": [],
   "source": []
  },
  {
   "cell_type": "code",
   "execution_count": 10,
   "id": "e2678dcb",
   "metadata": {},
   "outputs": [],
   "source": [
    "greet?"
   ]
  },
  {
   "cell_type": "code",
   "execution_count": 9,
   "id": "db2dd2b3",
   "metadata": {},
   "outputs": [],
   "source": [
    "print?"
   ]
  },
  {
   "cell_type": "code",
   "execution_count": 11,
   "id": "9ca4d693",
   "metadata": {},
   "outputs": [
    {
     "name": "stdout",
     "output_type": "stream",
     "text": [
      "hello this is docstring\n"
     ]
    }
   ],
   "source": [
    "print(greet.__doc__)"
   ]
  },
  {
   "cell_type": "code",
   "execution_count": 12,
   "id": "8c90fee7",
   "metadata": {},
   "outputs": [
    {
     "name": "stdout",
     "output_type": "stream",
     "text": [
      "Help on function greet in module __main__:\n",
      "\n",
      "greet(name)\n",
      "    hello this is docstring\n",
      "\n",
      "None\n"
     ]
    }
   ],
   "source": [
    "print(help(greet))"
   ]
  },
  {
   "cell_type": "code",
   "execution_count": 14,
   "id": "7c4c1fca",
   "metadata": {},
   "outputs": [
    {
     "data": {
      "text/plain": [
       "'hello shan good morning....'"
      ]
     },
     "execution_count": 14,
     "metadata": {},
     "output_type": "execute_result"
    }
   ],
   "source": [
    "greet('shan')"
   ]
  },
  {
   "cell_type": "code",
   "execution_count": 15,
   "id": "8be63a9b",
   "metadata": {},
   "outputs": [],
   "source": [
    "n='.manish'"
   ]
  },
  {
   "cell_type": "code",
   "execution_count": 19,
   "id": "0f72560e",
   "metadata": {},
   "outputs": [
    {
     "name": "stdout",
     "output_type": "stream",
     "text": [
      "hello .manish how are you\n"
     ]
    }
   ],
   "source": [
    "print('hello %s how are you'%n)"
   ]
  },
  {
   "cell_type": "code",
   "execution_count": 21,
   "id": "29e4ab6e",
   "metadata": {},
   "outputs": [],
   "source": [
    "def add(a,b):\n",
    "    return a+b\n",
    "def add1(a,b):\n",
    "    print(a+b)"
   ]
  },
  {
   "cell_type": "code",
   "execution_count": 22,
   "id": "4f1e89bc",
   "metadata": {},
   "outputs": [
    {
     "data": {
      "text/plain": [
       "30"
      ]
     },
     "execution_count": 22,
     "metadata": {},
     "output_type": "execute_result"
    }
   ],
   "source": [
    "add(10,20)"
   ]
  },
  {
   "cell_type": "code",
   "execution_count": 23,
   "id": "ed71d695",
   "metadata": {},
   "outputs": [
    {
     "name": "stdout",
     "output_type": "stream",
     "text": [
      "30\n"
     ]
    }
   ],
   "source": [
    "add1(10,20)"
   ]
  },
  {
   "cell_type": "code",
   "execution_count": 24,
   "id": "039cb5e6",
   "metadata": {},
   "outputs": [],
   "source": [
    "c=add(10,20)"
   ]
  },
  {
   "cell_type": "code",
   "execution_count": 25,
   "id": "29e4d941",
   "metadata": {},
   "outputs": [
    {
     "name": "stdout",
     "output_type": "stream",
     "text": [
      "30\n"
     ]
    }
   ],
   "source": [
    "d=add1(10,20)"
   ]
  },
  {
   "cell_type": "code",
   "execution_count": 28,
   "id": "c7d5c3ae",
   "metadata": {},
   "outputs": [
    {
     "name": "stdout",
     "output_type": "stream",
     "text": [
      "30\n"
     ]
    }
   ],
   "source": [
    "print(c)"
   ]
  },
  {
   "cell_type": "code",
   "execution_count": 29,
   "id": "f319a8e6",
   "metadata": {},
   "outputs": [
    {
     "name": "stdout",
     "output_type": "stream",
     "text": [
      "None\n"
     ]
    }
   ],
   "source": [
    "print(d)"
   ]
  },
  {
   "cell_type": "code",
   "execution_count": 30,
   "id": "3ffd7680",
   "metadata": {},
   "outputs": [],
   "source": [
    "# arguments ----> positional , default  , keyword"
   ]
  },
  {
   "cell_type": "code",
   "execution_count": 32,
   "id": "96c5d713",
   "metadata": {},
   "outputs": [],
   "source": [
    "def add(a,b):   # here a and b are positional argument\n",
    "    print('a: ',a)\n",
    "    print('b: ',b)\n",
    "    return a+b"
   ]
  },
  {
   "cell_type": "code",
   "execution_count": 38,
   "id": "a5265f17",
   "metadata": {},
   "outputs": [
    {
     "name": "stdout",
     "output_type": "stream",
     "text": [
      "a:  1\n",
      "b:  2\n"
     ]
    },
    {
     "data": {
      "text/plain": [
       "3"
      ]
     },
     "execution_count": 38,
     "metadata": {},
     "output_type": "execute_result"
    }
   ],
   "source": [
    "add(1,2)"
   ]
  },
  {
   "cell_type": "code",
   "execution_count": 41,
   "id": "bee8490d",
   "metadata": {},
   "outputs": [],
   "source": [
    "def s(a=10,b=20):\n",
    "    print('a: ',a)\n",
    "    print('b: ',b)\n",
    "    return a+b"
   ]
  },
  {
   "cell_type": "code",
   "execution_count": 45,
   "id": "e8aefb48",
   "metadata": {},
   "outputs": [
    {
     "name": "stdout",
     "output_type": "stream",
     "text": [
      "a:  10\n",
      "b:  3\n"
     ]
    },
    {
     "data": {
      "text/plain": [
       "13"
      ]
     },
     "execution_count": 45,
     "metadata": {},
     "output_type": "execute_result"
    }
   ],
   "source": [
    "s(b=3)"
   ]
  },
  {
   "cell_type": "code",
   "execution_count": 49,
   "id": "95b35797",
   "metadata": {},
   "outputs": [],
   "source": [
    "def test(*a):\n",
    "    return sum(a)"
   ]
  },
  {
   "cell_type": "code",
   "execution_count": 50,
   "id": "5d86bac7",
   "metadata": {},
   "outputs": [
    {
     "data": {
      "text/plain": [
       "10"
      ]
     },
     "execution_count": 50,
     "metadata": {},
     "output_type": "execute_result"
    }
   ],
   "source": [
    "test(1,2,3,4)"
   ]
  },
  {
   "cell_type": "markdown",
   "id": "5f7991fc",
   "metadata": {},
   "source": [
    "## Bank Application"
   ]
  },
  {
   "cell_type": "code",
   "execution_count": 52,
   "id": "9f160ac2",
   "metadata": {},
   "outputs": [],
   "source": [
    "# email sendind\n",
    "# hostname ----> 'smtp.gmail.com'\n",
    "# port number---->587, 465\n",
    "# \n"
   ]
  },
  {
   "cell_type": "code",
   "execution_count": 53,
   "id": "fcb6cc1e",
   "metadata": {},
   "outputs": [],
   "source": [
    "import smtplib"
   ]
  },
  {
   "cell_type": "code",
   "execution_count": 58,
   "id": "60d780a8",
   "metadata": {},
   "outputs": [
    {
     "name": "stdout",
     "output_type": "stream",
     "text": [
      "sent....\n"
     ]
    }
   ],
   "source": [
    "con=smtplib.SMTP('smtp.gmail.com',587)\n",
    "con.starttls()\n",
    "#p=getpass()\n",
    "con.login('bankapplication7@gmail.com','Bankapp@')\n",
    "con.sendmail('bankapplication7@gmail.com','rmanish911@gmail.com','Subject: test\\n\\n hello')\n",
    "print('sent....')\n",
    "con.close()"
   ]
  },
  {
   "cell_type": "code",
   "execution_count": 55,
   "id": "b803c76a",
   "metadata": {},
   "outputs": [
    {
     "data": {
      "text/plain": [
       "<smtplib.SMTP at 0x1f33d8895e0>"
      ]
     },
     "execution_count": 55,
     "metadata": {},
     "output_type": "execute_result"
    }
   ],
   "source": []
  },
  {
   "cell_type": "code",
   "execution_count": 66,
   "id": "4c2bcb41",
   "metadata": {},
   "outputs": [
    {
     "data": {
      "text/plain": [
       "'abcdefghijklmnopqrstuvwxyzABCDEFGHIJKLMNOPQRSTUVWXYZ0123456789'"
      ]
     },
     "execution_count": 66,
     "metadata": {},
     "output_type": "execute_result"
    }
   ],
   "source": [
    "import string\n",
    "p=string.ascii_letters+string.digits\n",
    "p"
   ]
  },
  {
   "cell_type": "code",
   "execution_count": 61,
   "id": "64d9cf6a",
   "metadata": {},
   "outputs": [],
   "source": [
    "import random"
   ]
  },
  {
   "cell_type": "code",
   "execution_count": 68,
   "id": "ae8ca915",
   "metadata": {},
   "outputs": [
    {
     "data": {
      "text/plain": [
       "'abcdefghijklmnopqrstuvwxyzABCDEFGHIJKLMNOPQRSTUVWXYZ0123456789'"
      ]
     },
     "execution_count": 68,
     "metadata": {},
     "output_type": "execute_result"
    }
   ],
   "source": [
    "p"
   ]
  },
  {
   "cell_type": "code",
   "execution_count": 77,
   "id": "cf38bc1f",
   "metadata": {},
   "outputs": [
    {
     "name": "stdout",
     "output_type": "stream",
     "text": [
      "rwvF7E\n"
     ]
    }
   ],
   "source": [
    "otp=''\n",
    "for i in range(6):\n",
    "    otp=otp+random.choice(p)\n",
    "    \n",
    "print(otp)"
   ]
  },
  {
   "cell_type": "code",
   "execution_count": 78,
   "id": "9a5a8912",
   "metadata": {},
   "outputs": [],
   "source": [
    "# bank_application"
   ]
  },
  {
   "cell_type": "code",
   "execution_count": 83,
   "id": "b71648f4",
   "metadata": {},
   "outputs": [],
   "source": [
    "data={1001:{'name':'manish rajput','age':23,'email':'rmanish911@gmail.com','pass':'mann@123','bal':100000},\n",
    "     1002:{'name':'shan','age':29,'email':'shan@gmail.com','pass':'shan@123','bal':200000}}"
   ]
  },
  {
   "cell_type": "code",
   "execution_count": 85,
   "id": "7c025eba",
   "metadata": {},
   "outputs": [],
   "source": [
    "def main():\n",
    "    import sys\n",
    "    print('*'*78)\n",
    "    print()\n",
    "    print('Welcome to bank application'.center(80))\n",
    "    print()\n",
    "    print('*'*78)\n",
    "    print()\n",
    "    print('1. Login\\t\\t2. Signup\\t\\t3. Exit')\n",
    "    print()\n",
    "    usr=int(input('Enter your choice: '))\n",
    "    if usr==1:\n",
    "        Login()\n",
    "    elif usr==2:\n",
    "        Signup()\n",
    "    elif usr==3:\n",
    "        sys.exit()\n",
    "    \n",
    "def Login():\n",
    "    import time\n",
    "    from getpass import getpass\n",
    "    ac=int(input('Enter account number: '))\n",
    "    if ac in data.keys():\n",
    "        pas=getpass('Enter password: ')\n",
    "        if data[ac]['pass']==pas:\n",
    "            print('..')\n",
    "            time.sleep(1)\n",
    "            print('..')\n",
    "            time.sleep(1)\n",
    "            print('Login successfully done.....')\n",
    "        else:\n",
    "            print('invalid password....')\n",
    "\n",
    "    else:\n",
    "        print('no data found first go to signup....')\n",
    "        time.sleep(2)\n",
    "        Signup()\n",
    "        \n",
    "    "
   ]
  },
  {
   "cell_type": "code",
   "execution_count": 84,
   "id": "9bc0956d",
   "metadata": {},
   "outputs": [
    {
     "data": {
      "text/plain": [
       "dict_keys([1001, 1002])"
      ]
     },
     "execution_count": 84,
     "metadata": {},
     "output_type": "execute_result"
    }
   ],
   "source": [
    "data.keys()"
   ]
  },
  {
   "cell_type": "code",
   "execution_count": 88,
   "id": "cd6fe4f1",
   "metadata": {},
   "outputs": [
    {
     "name": "stdout",
     "output_type": "stream",
     "text": [
      "******************************************************************************\n",
      "\n",
      "                          Welcome to bank application                           \n",
      "\n",
      "******************************************************************************\n",
      "\n",
      "1. Login\t\t2. Signup\t\t3. Exit\n",
      "\n",
      "Enter your choice: 1\n",
      "Enter account number: 1001\n",
      "Enter password: ········\n",
      "invalid password....\n"
     ]
    }
   ],
   "source": [
    "main()"
   ]
  },
  {
   "cell_type": "code",
   "execution_count": null,
   "id": "289cb1a1",
   "metadata": {},
   "outputs": [],
   "source": []
  }
 ],
 "metadata": {
  "kernelspec": {
   "display_name": "Python 3 (ipykernel)",
   "language": "python",
   "name": "python3"
  },
  "language_info": {
   "codemirror_mode": {
    "name": "ipython",
    "version": 3
   },
   "file_extension": ".py",
   "mimetype": "text/x-python",
   "name": "python",
   "nbconvert_exporter": "python",
   "pygments_lexer": "ipython3",
   "version": "3.9.6"
  }
 },
 "nbformat": 4,
 "nbformat_minor": 5
}
