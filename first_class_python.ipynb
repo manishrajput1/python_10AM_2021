{
 "cells": [
  {
   "cell_type": "code",
   "execution_count": 1,
   "id": "3eae6479",
   "metadata": {},
   "outputs": [
    {
     "data": {
      "text/plain": [
       "'C:\\\\Users\\\\rmani'"
      ]
     },
     "execution_count": 1,
     "metadata": {},
     "output_type": "execute_result"
    }
   ],
   "source": [
    "pwd"
   ]
  },
  {
   "cell_type": "code",
   "execution_count": null,
   "id": "f17a108b",
   "metadata": {},
   "outputs": [],
   "source": []
  },
  {
   "cell_type": "code",
   "execution_count": 4,
   "id": "27024fe4",
   "metadata": {},
   "outputs": [
    {
     "name": "stdout",
     "output_type": "stream",
     "text": [
      "hello world\n"
     ]
    }
   ],
   "source": [
    "print('hello world') # shift +enter"
   ]
  },
  {
   "cell_type": "markdown",
   "id": "ba86e00e",
   "metadata": {},
   "source": [
    "    Data Type:\n",
    "        1. numbers-----> integer (int), float , complex\n",
    "        2. string(str) ----> single line , para\n",
    "        3. tuple---> collection of data type----(immutable)\n",
    "        4. list----> collection of data type (mutable)\n",
    "        5. dict ---> key, value pair \n",
    "        6. set----> un-ordered , and unique\n",
    "        7. bool---> True , False "
   ]
  },
  {
   "cell_type": "markdown",
   "id": "7da573b9",
   "metadata": {},
   "source": [
    "## mutable and immutable"
   ]
  },
  {
   "cell_type": "code",
   "execution_count": 5,
   "id": "cf71c280",
   "metadata": {},
   "outputs": [],
   "source": [
    "#mutable ---> list , dict , set\n",
    "#immutable----> numbers , str , tuple"
   ]
  },
  {
   "cell_type": "markdown",
   "id": "e5cf38fe",
   "metadata": {},
   "source": [
    "# numbers......,."
   ]
  },
  {
   "cell_type": "code",
   "execution_count": 6,
   "id": "67285c8a",
   "metadata": {},
   "outputs": [],
   "source": [
    "# integer -----> def---> real numbers---- without decimal with base 10 e.g=----> 10 , -10 , 30,-30\n",
    "# float ---> with decimal\n",
    "# complex----> collection real part and imaginary part   ---> j  5+7j (a+bj) j="
   ]
  },
  {
   "cell_type": "code",
   "execution_count": 7,
   "id": "911868aa",
   "metadata": {},
   "outputs": [
    {
     "data": {
      "text/plain": [
       "(34+0j)"
      ]
     },
     "execution_count": 7,
     "metadata": {},
     "output_type": "execute_result"
    }
   ],
   "source": [
    "(5+3j)*(5-3j)"
   ]
  },
  {
   "cell_type": "code",
   "execution_count": 8,
   "id": "14832aff",
   "metadata": {},
   "outputs": [
    {
     "data": {
      "text/plain": [
       "3.3333333333333335"
      ]
     },
     "execution_count": 8,
     "metadata": {},
     "output_type": "execute_result"
    }
   ],
   "source": [
    "10/3"
   ]
  },
  {
   "cell_type": "code",
   "execution_count": 9,
   "id": "d095d8b9",
   "metadata": {},
   "outputs": [
    {
     "data": {
      "text/plain": [
       "10.0"
      ]
     },
     "execution_count": 9,
     "metadata": {},
     "output_type": "execute_result"
    }
   ],
   "source": [
    "3.3333333333333335*3"
   ]
  },
  {
   "cell_type": "code",
   "execution_count": 10,
   "id": "32d0d42e",
   "metadata": {},
   "outputs": [],
   "source": [
    "a=897896678978"
   ]
  },
  {
   "cell_type": "code",
   "execution_count": 11,
   "id": "fd4e1ebd",
   "metadata": {},
   "outputs": [
    {
     "data": {
      "text/plain": [
       "int"
      ]
     },
     "execution_count": 11,
     "metadata": {},
     "output_type": "execute_result"
    }
   ],
   "source": [
    "type(a)"
   ]
  },
  {
   "cell_type": "code",
   "execution_count": 12,
   "id": "e6aa1ea5",
   "metadata": {},
   "outputs": [
    {
     "data": {
      "text/plain": [
       "2255267679536"
      ]
     },
     "execution_count": 12,
     "metadata": {},
     "output_type": "execute_result"
    }
   ],
   "source": [
    "id(a)"
   ]
  },
  {
   "cell_type": "code",
   "execution_count": 13,
   "id": "0f18227b",
   "metadata": {},
   "outputs": [
    {
     "name": "stdout",
     "output_type": "stream",
     "text": [
      "<class 'int'>\n"
     ]
    }
   ],
   "source": [
    "print(type(a))"
   ]
  },
  {
   "cell_type": "code",
   "execution_count": 14,
   "id": "5449cdd1",
   "metadata": {},
   "outputs": [
    {
     "name": "stdout",
     "output_type": "stream",
     "text": [
      "897896678978\n"
     ]
    }
   ],
   "source": [
    "print(a)"
   ]
  },
  {
   "cell_type": "code",
   "execution_count": 15,
   "id": "1d6408a1",
   "metadata": {},
   "outputs": [],
   "source": [
    "h=798797."
   ]
  },
  {
   "cell_type": "code",
   "execution_count": 16,
   "id": "dbeaaab7",
   "metadata": {},
   "outputs": [
    {
     "name": "stdout",
     "output_type": "stream",
     "text": [
      "<class 'float'>\n"
     ]
    }
   ],
   "source": [
    "print(type(h))"
   ]
  },
  {
   "cell_type": "code",
   "execution_count": 17,
   "id": "5f71da1c",
   "metadata": {},
   "outputs": [
    {
     "name": "stdout",
     "output_type": "stream",
     "text": [
      "798797.0\n"
     ]
    }
   ],
   "source": [
    "print(h)"
   ]
  },
  {
   "cell_type": "code",
   "execution_count": 19,
   "id": "bb530578",
   "metadata": {},
   "outputs": [
    {
     "data": {
      "text/plain": [
       "2255267679088"
      ]
     },
     "execution_count": 19,
     "metadata": {},
     "output_type": "execute_result"
    }
   ],
   "source": [
    "id(h)"
   ]
  },
  {
   "cell_type": "code",
   "execution_count": 23,
   "id": "dd437871",
   "metadata": {},
   "outputs": [],
   "source": [
    "d=5+7j"
   ]
  },
  {
   "cell_type": "code",
   "execution_count": 24,
   "id": "d9b838a4",
   "metadata": {},
   "outputs": [
    {
     "data": {
      "text/plain": [
       "complex"
      ]
     },
     "execution_count": 24,
     "metadata": {},
     "output_type": "execute_result"
    }
   ],
   "source": [
    "type(d)"
   ]
  },
  {
   "cell_type": "code",
   "execution_count": 25,
   "id": "0cb6b305",
   "metadata": {},
   "outputs": [
    {
     "data": {
      "text/plain": [
       "5.0"
      ]
     },
     "execution_count": 25,
     "metadata": {},
     "output_type": "execute_result"
    }
   ],
   "source": [
    "d.real\n"
   ]
  },
  {
   "cell_type": "code",
   "execution_count": 26,
   "id": "0755c1d2",
   "metadata": {},
   "outputs": [
    {
     "data": {
      "text/plain": [
       "7.0"
      ]
     },
     "execution_count": 26,
     "metadata": {},
     "output_type": "execute_result"
    }
   ],
   "source": [
    "d.imag"
   ]
  },
  {
   "cell_type": "code",
   "execution_count": 27,
   "id": "05528ac0",
   "metadata": {},
   "outputs": [],
   "source": [
    "# str -----> ' ', \" \",''' '''\n",
    "# single line string----> , ' ' , \" \"\n",
    "# para ----> ''' ''"
   ]
  },
  {
   "cell_type": "code",
   "execution_count": 34,
   "id": "8cc6e701",
   "metadata": {},
   "outputs": [],
   "source": [
    "y='''hello \n",
    "    manish\n",
    "    how \n",
    "    are \n",
    "    you'''"
   ]
  },
  {
   "cell_type": "code",
   "execution_count": 35,
   "id": "e2a440c6",
   "metadata": {},
   "outputs": [
    {
     "data": {
      "text/plain": [
       "str"
      ]
     },
     "execution_count": 35,
     "metadata": {},
     "output_type": "execute_result"
    }
   ],
   "source": [
    "type(y)"
   ]
  },
  {
   "cell_type": "code",
   "execution_count": 36,
   "id": "cec33748",
   "metadata": {},
   "outputs": [
    {
     "name": "stdout",
     "output_type": "stream",
     "text": [
      "hello \n",
      "    manish\n",
      "    how \n",
      "    are \n",
      "    you\n"
     ]
    }
   ],
   "source": [
    "print(y)"
   ]
  },
  {
   "cell_type": "code",
   "execution_count": 38,
   "id": "5eb77e5c",
   "metadata": {},
   "outputs": [
    {
     "name": "stdout",
     "output_type": "stream",
     "text": [
      "capitalize\n",
      "casefold\n",
      "center\n",
      "count\n",
      "encode\n",
      "endswith\n",
      "expandtabs\n",
      "find\n",
      "format\n",
      "format_map\n",
      "index\n",
      "isalnum\n",
      "isalpha\n",
      "isascii\n",
      "isdecimal\n",
      "isdigit\n",
      "isidentifier\n",
      "islower\n",
      "isnumeric\n",
      "isprintable\n",
      "isspace\n",
      "istitle\n",
      "isupper\n",
      "join\n",
      "ljust\n",
      "lower\n",
      "lstrip\n",
      "maketrans\n",
      "partition\n",
      "removeprefix\n",
      "removesuffix\n",
      "replace\n",
      "rfind\n",
      "rindex\n",
      "rjust\n",
      "rpartition\n",
      "rsplit\n",
      "rstrip\n",
      "split\n",
      "splitlines\n",
      "startswith\n",
      "strip\n",
      "swapcase\n",
      "title\n",
      "translate\n",
      "upper\n",
      "zfill\n"
     ]
    }
   ],
   "source": [
    "print(*[f for f in dir(str) if f[0].islower()],sep='\\n')"
   ]
  },
  {
   "cell_type": "code",
   "execution_count": 39,
   "id": "2c0d315a",
   "metadata": {},
   "outputs": [
    {
     "name": "stdout",
     "output_type": "stream",
     "text": [
      "['__add__', '__class__', '__contains__', '__delattr__', '__dir__', '__doc__', '__eq__', '__format__', '__ge__', '__getattribute__', '__getitem__', '__getnewargs__', '__gt__', '__hash__', '__init__', '__init_subclass__', '__iter__', '__le__', '__len__', '__lt__', '__mod__', '__mul__', '__ne__', '__new__', '__reduce__', '__reduce_ex__', '__repr__', '__rmod__', '__rmul__', '__setattr__', '__sizeof__', '__str__', '__subclasshook__', 'capitalize', 'casefold', 'center', 'count', 'encode', 'endswith', 'expandtabs', 'find', 'format', 'format_map', 'index', 'isalnum', 'isalpha', 'isascii', 'isdecimal', 'isdigit', 'isidentifier', 'islower', 'isnumeric', 'isprintable', 'isspace', 'istitle', 'isupper', 'join', 'ljust', 'lower', 'lstrip', 'maketrans', 'partition', 'removeprefix', 'removesuffix', 'replace', 'rfind', 'rindex', 'rjust', 'rpartition', 'rsplit', 'rstrip', 'split', 'splitlines', 'startswith', 'strip', 'swapcase', 'title', 'translate', 'upper', 'zfill']\n"
     ]
    }
   ],
   "source": [
    "print(dir(str))# dunder method , special method , magic method"
   ]
  },
  {
   "cell_type": "code",
   "execution_count": 41,
   "id": "7745a3ca",
   "metadata": {},
   "outputs": [],
   "source": [
    "s='hello manisH How ARe you?'"
   ]
  },
  {
   "cell_type": "code",
   "execution_count": 42,
   "id": "65fddab9",
   "metadata": {},
   "outputs": [],
   "source": [
    "s.capitalize?"
   ]
  },
  {
   "cell_type": "code",
   "execution_count": 43,
   "id": "edd773d7",
   "metadata": {},
   "outputs": [],
   "source": [
    "# capitalize\n",
    "# upper \n",
    "# lower\n",
    "# title\n",
    "# swapcase"
   ]
  },
  {
   "cell_type": "code",
   "execution_count": 44,
   "id": "ac40bad5",
   "metadata": {},
   "outputs": [
    {
     "name": "stdout",
     "output_type": "stream",
     "text": [
      "original :  hello manisH How ARe you?\n",
      "capitalize cased:  Hello manish how are you?\n",
      "upper cased:  HELLO MANISH HOW ARE YOU?\n",
      "lower case:  hello manish how are you?\n",
      "titled:  Hello Manish How Are You?\n",
      "swapcase:  HELLO MANISh hOW arE YOU?\n"
     ]
    }
   ],
   "source": [
    "print('original : ',s)\n",
    "print('capitalize cased: ',s.capitalize())\n",
    "print('upper cased: ',s.upper())\n",
    "print('lower case: ',s.lower())\n",
    "print('titled: ',s.title())\n",
    "print('swapcase: ',s.swapcase())"
   ]
  },
  {
   "cell_type": "code",
   "execution_count": 45,
   "id": "a7a7bf67",
   "metadata": {},
   "outputs": [],
   "source": [
    "# isalpha\n",
    "# isdigit\n",
    "# isalnum"
   ]
  },
  {
   "cell_type": "code",
   "execution_count": 48,
   "id": "55828ec1",
   "metadata": {},
   "outputs": [],
   "source": [
    "p='1879jhh'"
   ]
  },
  {
   "cell_type": "code",
   "execution_count": 49,
   "id": "db5eb16f",
   "metadata": {},
   "outputs": [
    {
     "data": {
      "text/plain": [
       "str"
      ]
     },
     "execution_count": 49,
     "metadata": {},
     "output_type": "execute_result"
    }
   ],
   "source": [
    "type(p)"
   ]
  },
  {
   "cell_type": "code",
   "execution_count": 50,
   "id": "8f762f0a",
   "metadata": {},
   "outputs": [
    {
     "data": {
      "text/plain": [
       "'1879jhh'"
      ]
     },
     "execution_count": 50,
     "metadata": {},
     "output_type": "execute_result"
    }
   ],
   "source": [
    "p"
   ]
  },
  {
   "cell_type": "code",
   "execution_count": 51,
   "id": "13d444be",
   "metadata": {},
   "outputs": [
    {
     "data": {
      "text/plain": [
       "False"
      ]
     },
     "execution_count": 51,
     "metadata": {},
     "output_type": "execute_result"
    }
   ],
   "source": [
    "p.isalpha()"
   ]
  },
  {
   "cell_type": "code",
   "execution_count": 52,
   "id": "6adf0f6c",
   "metadata": {},
   "outputs": [
    {
     "data": {
      "text/plain": [
       "False"
      ]
     },
     "execution_count": 52,
     "metadata": {},
     "output_type": "execute_result"
    }
   ],
   "source": [
    "p.isdigit()"
   ]
  },
  {
   "cell_type": "code",
   "execution_count": 53,
   "id": "04d77a43",
   "metadata": {},
   "outputs": [
    {
     "data": {
      "text/plain": [
       "True"
      ]
     },
     "execution_count": 53,
     "metadata": {},
     "output_type": "execute_result"
    }
   ],
   "source": [
    "p.isalnum()"
   ]
  },
  {
   "cell_type": "code",
   "execution_count": 57,
   "id": "7dfdca2f",
   "metadata": {},
   "outputs": [],
   "source": [
    "p='hellomanish'"
   ]
  },
  {
   "cell_type": "code",
   "execution_count": 58,
   "id": "935d8384",
   "metadata": {},
   "outputs": [
    {
     "data": {
      "text/plain": [
       "False"
      ]
     },
     "execution_count": 58,
     "metadata": {},
     "output_type": "execute_result"
    }
   ],
   "source": [
    "p.isdigit()"
   ]
  },
  {
   "cell_type": "code",
   "execution_count": 59,
   "id": "e5c4f7c7",
   "metadata": {},
   "outputs": [
    {
     "data": {
      "text/plain": [
       "True"
      ]
     },
     "execution_count": 59,
     "metadata": {},
     "output_type": "execute_result"
    }
   ],
   "source": [
    "p.isalpha()"
   ]
  },
  {
   "cell_type": "code",
   "execution_count": 60,
   "id": "404eaae4",
   "metadata": {},
   "outputs": [],
   "source": [
    "o='8979070'"
   ]
  },
  {
   "cell_type": "code",
   "execution_count": 61,
   "id": "4c67673a",
   "metadata": {},
   "outputs": [
    {
     "data": {
      "text/plain": [
       "True"
      ]
     },
     "execution_count": 61,
     "metadata": {},
     "output_type": "execute_result"
    }
   ],
   "source": [
    "o.isdigit()"
   ]
  },
  {
   "cell_type": "code",
   "execution_count": 63,
   "id": "e59e93cb",
   "metadata": {},
   "outputs": [],
   "source": [
    "# split\n",
    "# strip\n",
    "# join"
   ]
  },
  {
   "cell_type": "code",
   "execution_count": 64,
   "id": "0b9c889d",
   "metadata": {},
   "outputs": [],
   "source": [
    "l='hello manish hey manish bye manish byebye'"
   ]
  },
  {
   "cell_type": "code",
   "execution_count": 67,
   "id": "a371ea7c",
   "metadata": {},
   "outputs": [],
   "source": [
    "t=l.split('manish')"
   ]
  },
  {
   "cell_type": "code",
   "execution_count": 68,
   "id": "1383cea2",
   "metadata": {},
   "outputs": [
    {
     "data": {
      "text/plain": [
       "'hello manish hey manish bye manish byebye'"
      ]
     },
     "execution_count": 68,
     "metadata": {},
     "output_type": "execute_result"
    }
   ],
   "source": [
    "l"
   ]
  },
  {
   "cell_type": "code",
   "execution_count": 69,
   "id": "136dcc43",
   "metadata": {},
   "outputs": [
    {
     "data": {
      "text/plain": [
       "2255268975120"
      ]
     },
     "execution_count": 69,
     "metadata": {},
     "output_type": "execute_result"
    }
   ],
   "source": [
    "id(l)"
   ]
  },
  {
   "cell_type": "code",
   "execution_count": 70,
   "id": "e94bdf86",
   "metadata": {},
   "outputs": [
    {
     "data": {
      "text/plain": [
       "2255267988800"
      ]
     },
     "execution_count": 70,
     "metadata": {},
     "output_type": "execute_result"
    }
   ],
   "source": [
    "id(t)"
   ]
  },
  {
   "cell_type": "code",
   "execution_count": 71,
   "id": "40afc5fb",
   "metadata": {},
   "outputs": [
    {
     "data": {
      "text/plain": [
       "['hello ', ' hey ', ' bye ', ' byebye']"
      ]
     },
     "execution_count": 71,
     "metadata": {},
     "output_type": "execute_result"
    }
   ],
   "source": [
    "t"
   ]
  },
  {
   "cell_type": "code",
   "execution_count": 72,
   "id": "ce256e55",
   "metadata": {},
   "outputs": [
    {
     "data": {
      "text/plain": [
       "'hello shan hey shan bye shan byebye'"
      ]
     },
     "execution_count": 72,
     "metadata": {},
     "output_type": "execute_result"
    }
   ],
   "source": [
    "' '.join(t)"
   ]
  },
  {
   "cell_type": "code",
   "execution_count": 73,
   "id": "c99665bc",
   "metadata": {},
   "outputs": [
    {
     "data": {
      "text/plain": [
       "'hello manish hey manish bye manish byebye'"
      ]
     },
     "execution_count": 73,
     "metadata": {},
     "output_type": "execute_result"
    }
   ],
   "source": [
    "l"
   ]
  },
  {
   "cell_type": "code",
   "execution_count": 76,
   "id": "e07c4f9d",
   "metadata": {},
   "outputs": [],
   "source": [
    "a='string'\n",
    "b='trigsn'\n",
    "c='sriggn'\n"
   ]
  },
  {
   "cell_type": "code",
   "execution_count": 75,
   "id": "8f87643c",
   "metadata": {},
   "outputs": [
    {
     "data": {
      "text/plain": [
       "False"
      ]
     },
     "execution_count": 75,
     "metadata": {},
     "output_type": "execute_result"
    }
   ],
   "source": [
    "a==b"
   ]
  },
  {
   "cell_type": "code",
   "execution_count": 79,
   "id": "f06c90fb",
   "metadata": {},
   "outputs": [
    {
     "name": "stdout",
     "output_type": "stream",
     "text": [
      "anagram\n",
      "anagram\n",
      "anagram\n",
      "anagram\n",
      "anagram\n",
      "anagram\n"
     ]
    }
   ],
   "source": [
    "for i  in a:\n",
    "    if i in b:\n",
    "        print('anagram')\n",
    "    "
   ]
  },
  {
   "cell_type": "code",
   "execution_count": 80,
   "id": "d67d2e02",
   "metadata": {},
   "outputs": [
    {
     "data": {
      "text/plain": [
       "'string'"
      ]
     },
     "execution_count": 80,
     "metadata": {},
     "output_type": "execute_result"
    }
   ],
   "source": [
    "a"
   ]
  },
  {
   "cell_type": "code",
   "execution_count": 81,
   "id": "633be1d6",
   "metadata": {},
   "outputs": [
    {
     "data": {
      "text/plain": [
       "'trigsn'"
      ]
     },
     "execution_count": 81,
     "metadata": {},
     "output_type": "execute_result"
    }
   ],
   "source": [
    "b"
   ]
  },
  {
   "cell_type": "code",
   "execution_count": 82,
   "id": "f051c882",
   "metadata": {},
   "outputs": [
    {
     "data": {
      "text/plain": [
       "['g', 'i', 'n', 'r', 's', 't']"
      ]
     },
     "execution_count": 82,
     "metadata": {},
     "output_type": "execute_result"
    }
   ],
   "source": [
    "sorted(a)"
   ]
  },
  {
   "cell_type": "code",
   "execution_count": 83,
   "id": "ac4ba84f",
   "metadata": {},
   "outputs": [
    {
     "data": {
      "text/plain": [
       "['g', 'i', 'n', 'r', 's', 't']"
      ]
     },
     "execution_count": 83,
     "metadata": {},
     "output_type": "execute_result"
    }
   ],
   "source": [
    "sorted(b)"
   ]
  },
  {
   "cell_type": "code",
   "execution_count": 85,
   "id": "130a4f3b",
   "metadata": {},
   "outputs": [
    {
     "data": {
      "text/plain": [
       "False"
      ]
     },
     "execution_count": 85,
     "metadata": {},
     "output_type": "execute_result"
    }
   ],
   "source": [
    "sorted(a)==sorted(c)"
   ]
  },
  {
   "cell_type": "code",
   "execution_count": 86,
   "id": "0746aef6",
   "metadata": {},
   "outputs": [],
   "source": [
    "def find_anag(a,b):\n",
    "    l=[]\n",
    "    for i in a:\n",
    "        c=0\n",
    "        for j in b:\n",
    "            if sorted(i)==sorted(j):\n",
    "                c+=1\n",
    "        l.append(c)\n",
    "    return l\n",
    "            "
   ]
  },
  {
   "cell_type": "code",
   "execution_count": 87,
   "id": "513da3dd",
   "metadata": {},
   "outputs": [],
   "source": [
    "a=['rank','nkar','kran','narr','john','hnoj','johh']\n",
    "b=['rank','john']"
   ]
  },
  {
   "cell_type": "code",
   "execution_count": 89,
   "id": "06988953",
   "metadata": {},
   "outputs": [
    {
     "data": {
      "text/plain": [
       "[3, 2]"
      ]
     },
     "execution_count": 89,
     "metadata": {},
     "output_type": "execute_result"
    }
   ],
   "source": [
    "find_anag(b,a)"
   ]
  },
  {
   "cell_type": "code",
   "execution_count": null,
   "id": "1aa42fa9",
   "metadata": {},
   "outputs": [],
   "source": [
    "l=[2,5,6,7,2,1,3]\n"
   ]
  }
 ],
 "metadata": {
  "kernelspec": {
   "display_name": "Python 3 (ipykernel)",
   "language": "python",
   "name": "python3"
  },
  "language_info": {
   "codemirror_mode": {
    "name": "ipython",
    "version": 3
   },
   "file_extension": ".py",
   "mimetype": "text/x-python",
   "name": "python",
   "nbconvert_exporter": "python",
   "pygments_lexer": "ipython3",
   "version": "3.9.6"
  }
 },
 "nbformat": 4,
 "nbformat_minor": 5
}
