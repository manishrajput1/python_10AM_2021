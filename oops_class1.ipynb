{
 "cells": [
  {
   "cell_type": "code",
   "execution_count": 6,
   "id": "1830fb34",
   "metadata": {},
   "outputs": [],
   "source": [
    "class A:\n",
    "    x=100\n",
    "    def get():\n",
    "        return 'this is get method'\n",
    "    def show():\n",
    "        return 'this is show method'"
   ]
  },
  {
   "cell_type": "code",
   "execution_count": 7,
   "id": "c9b14f17",
   "metadata": {},
   "outputs": [],
   "source": [
    "ob=A()"
   ]
  },
  {
   "cell_type": "code",
   "execution_count": 8,
   "id": "af3ee2ce",
   "metadata": {},
   "outputs": [
    {
     "name": "stdout",
     "output_type": "stream",
     "text": [
      "<__main__.A object at 0x000001721391D8E0>\n"
     ]
    }
   ],
   "source": [
    "print(ob)"
   ]
  },
  {
   "cell_type": "code",
   "execution_count": 9,
   "id": "90fc3bbc",
   "metadata": {},
   "outputs": [
    {
     "name": "stdout",
     "output_type": "stream",
     "text": [
      "['__class__', '__delattr__', '__dict__', '__dir__', '__doc__', '__eq__', '__format__', '__ge__', '__getattribute__', '__gt__', '__hash__', '__init__', '__init_subclass__', '__le__', '__lt__', '__module__', '__ne__', '__new__', '__reduce__', '__reduce_ex__', '__repr__', '__setattr__', '__sizeof__', '__str__', '__subclasshook__', '__weakref__', 'get', 'show', 'x']\n"
     ]
    }
   ],
   "source": [
    "print(dir(A))"
   ]
  },
  {
   "cell_type": "code",
   "execution_count": 10,
   "id": "5e1c00d0",
   "metadata": {},
   "outputs": [
    {
     "name": "stdout",
     "output_type": "stream",
     "text": [
      "['__class__', '__delattr__', '__dict__', '__dir__', '__doc__', '__eq__', '__format__', '__ge__', '__getattribute__', '__gt__', '__hash__', '__init__', '__init_subclass__', '__le__', '__lt__', '__module__', '__ne__', '__new__', '__reduce__', '__reduce_ex__', '__repr__', '__setattr__', '__sizeof__', '__str__', '__subclasshook__', '__weakref__', 'get', 'show', 'x']\n"
     ]
    }
   ],
   "source": [
    "print(dir(ob))"
   ]
  },
  {
   "cell_type": "code",
   "execution_count": 11,
   "id": "e96d4fa1",
   "metadata": {},
   "outputs": [],
   "source": [
    "ob.y=500"
   ]
  },
  {
   "cell_type": "code",
   "execution_count": 12,
   "id": "ff231b96",
   "metadata": {},
   "outputs": [
    {
     "name": "stdout",
     "output_type": "stream",
     "text": [
      "['__class__', '__delattr__', '__dict__', '__dir__', '__doc__', '__eq__', '__format__', '__ge__', '__getattribute__', '__gt__', '__hash__', '__init__', '__init_subclass__', '__le__', '__lt__', '__module__', '__ne__', '__new__', '__reduce__', '__reduce_ex__', '__repr__', '__setattr__', '__sizeof__', '__str__', '__subclasshook__', '__weakref__', 'get', 'show', 'x', 'y']\n"
     ]
    }
   ],
   "source": [
    "print(dir(ob))"
   ]
  },
  {
   "cell_type": "code",
   "execution_count": 13,
   "id": "26951f65",
   "metadata": {},
   "outputs": [
    {
     "name": "stdout",
     "output_type": "stream",
     "text": [
      "['__class__', '__delattr__', '__dict__', '__dir__', '__doc__', '__eq__', '__format__', '__ge__', '__getattribute__', '__gt__', '__hash__', '__init__', '__init_subclass__', '__le__', '__lt__', '__module__', '__ne__', '__new__', '__reduce__', '__reduce_ex__', '__repr__', '__setattr__', '__sizeof__', '__str__', '__subclasshook__', '__weakref__', 'get', 'show', 'x']\n"
     ]
    }
   ],
   "source": [
    "print(dir(A))"
   ]
  },
  {
   "cell_type": "code",
   "execution_count": 14,
   "id": "887e0186",
   "metadata": {},
   "outputs": [
    {
     "name": "stdout",
     "output_type": "stream",
     "text": [
      "500\n"
     ]
    }
   ],
   "source": [
    "print(ob.y)"
   ]
  },
  {
   "cell_type": "code",
   "execution_count": 15,
   "id": "9099e3f8",
   "metadata": {},
   "outputs": [],
   "source": [
    "class robot:\n",
    "    def test():\n",
    "        return 'hello test'\n"
   ]
  },
  {
   "cell_type": "code",
   "execution_count": 16,
   "id": "1c8135e8",
   "metadata": {},
   "outputs": [],
   "source": [
    "o=robot()"
   ]
  },
  {
   "cell_type": "code",
   "execution_count": 17,
   "id": "056af213",
   "metadata": {},
   "outputs": [
    {
     "data": {
      "text/plain": [
       "<__main__.robot at 0x1721391d9a0>"
      ]
     },
     "execution_count": 17,
     "metadata": {},
     "output_type": "execute_result"
    }
   ],
   "source": [
    "o"
   ]
  },
  {
   "cell_type": "code",
   "execution_count": 18,
   "id": "f4324e56",
   "metadata": {},
   "outputs": [
    {
     "data": {
      "text/plain": [
       "__main__.robot"
      ]
     },
     "execution_count": 18,
     "metadata": {},
     "output_type": "execute_result"
    }
   ],
   "source": [
    "robot"
   ]
  },
  {
   "cell_type": "code",
   "execution_count": 19,
   "id": "1467ebe6",
   "metadata": {},
   "outputs": [
    {
     "data": {
      "text/plain": [
       "'hello test'"
      ]
     },
     "execution_count": 19,
     "metadata": {},
     "output_type": "execute_result"
    }
   ],
   "source": [
    "robot.test()"
   ]
  },
  {
   "cell_type": "code",
   "execution_count": 20,
   "id": "7a4f73d7",
   "metadata": {},
   "outputs": [
    {
     "ename": "TypeError",
     "evalue": "test() takes 0 positional arguments but 1 was given",
     "output_type": "error",
     "traceback": [
      "\u001b[1;31m---------------------------------------------------------------------------\u001b[0m",
      "\u001b[1;31mTypeError\u001b[0m                                 Traceback (most recent call last)",
      "\u001b[1;32m~\\AppData\\Local\\Temp/ipykernel_12424/4236637221.py\u001b[0m in \u001b[0;36m<module>\u001b[1;34m\u001b[0m\n\u001b[1;32m----> 1\u001b[1;33m \u001b[0mo\u001b[0m\u001b[1;33m.\u001b[0m\u001b[0mtest\u001b[0m\u001b[1;33m(\u001b[0m\u001b[1;33m)\u001b[0m\u001b[1;33m\u001b[0m\u001b[1;33m\u001b[0m\u001b[0m\n\u001b[0m",
      "\u001b[1;31mTypeError\u001b[0m: test() takes 0 positional arguments but 1 was given"
     ]
    }
   ],
   "source": [
    "o.test()"
   ]
  },
  {
   "cell_type": "code",
   "execution_count": 21,
   "id": "acaee4c6",
   "metadata": {},
   "outputs": [],
   "source": [
    "class robot:\n",
    "    def get(self):\n",
    "        print('self: ',self)\n",
    "        return 'testing...'"
   ]
  },
  {
   "cell_type": "code",
   "execution_count": 22,
   "id": "aec112ec",
   "metadata": {},
   "outputs": [],
   "source": [
    "ob=robot()"
   ]
  },
  {
   "cell_type": "code",
   "execution_count": 23,
   "id": "4035c750",
   "metadata": {},
   "outputs": [
    {
     "name": "stdout",
     "output_type": "stream",
     "text": [
      "self:  <__main__.robot object at 0x000001721391D1C0>\n"
     ]
    },
    {
     "data": {
      "text/plain": [
       "'testing...'"
      ]
     },
     "execution_count": 23,
     "metadata": {},
     "output_type": "execute_result"
    }
   ],
   "source": [
    "ob.get()"
   ]
  },
  {
   "cell_type": "code",
   "execution_count": 24,
   "id": "d86a38da",
   "metadata": {},
   "outputs": [
    {
     "name": "stdout",
     "output_type": "stream",
     "text": [
      "<__main__.robot object at 0x000001721391D1C0>\n"
     ]
    }
   ],
   "source": [
    "print(ob)"
   ]
  },
  {
   "cell_type": "code",
   "execution_count": 25,
   "id": "df4b8b62",
   "metadata": {},
   "outputs": [],
   "source": [
    "class A:\n",
    "    def a(s):\n",
    "        print('s: ',s)\n",
    "        print('hello word')\n",
    "    def b(a):\n",
    "        print('a: ',a)\n",
    "        print(' b is method')\n",
    "    def c(m):\n",
    "        print('m: ',m)\n",
    "        print('c is A class method')\n",
    "        \n",
    "        \n",
    "        "
   ]
  },
  {
   "cell_type": "code",
   "execution_count": 26,
   "id": "cff4213b",
   "metadata": {},
   "outputs": [],
   "source": [
    "ob=A()\n",
    "ob1=A()\n",
    "ob2=A()"
   ]
  },
  {
   "cell_type": "code",
   "execution_count": 27,
   "id": "8f140a47",
   "metadata": {},
   "outputs": [
    {
     "data": {
      "text/plain": [
       "<__main__.A at 0x17213831970>"
      ]
     },
     "execution_count": 27,
     "metadata": {},
     "output_type": "execute_result"
    }
   ],
   "source": [
    "ob"
   ]
  },
  {
   "cell_type": "code",
   "execution_count": 28,
   "id": "2c6fca17",
   "metadata": {},
   "outputs": [
    {
     "data": {
      "text/plain": [
       "<__main__.A at 0x172138319d0>"
      ]
     },
     "execution_count": 28,
     "metadata": {},
     "output_type": "execute_result"
    }
   ],
   "source": [
    "ob1"
   ]
  },
  {
   "cell_type": "code",
   "execution_count": 29,
   "id": "10230360",
   "metadata": {},
   "outputs": [
    {
     "data": {
      "text/plain": [
       "<__main__.A at 0x172138563d0>"
      ]
     },
     "execution_count": 29,
     "metadata": {},
     "output_type": "execute_result"
    }
   ],
   "source": [
    "ob2"
   ]
  },
  {
   "cell_type": "code",
   "execution_count": 30,
   "id": "6b8a126e",
   "metadata": {},
   "outputs": [
    {
     "name": "stdout",
     "output_type": "stream",
     "text": [
      "s:  <__main__.A object at 0x0000017213831970>\n",
      "hello word\n"
     ]
    }
   ],
   "source": [
    "ob.a()"
   ]
  },
  {
   "cell_type": "code",
   "execution_count": 31,
   "id": "15ad93ce",
   "metadata": {},
   "outputs": [
    {
     "name": "stdout",
     "output_type": "stream",
     "text": [
      "a:  <__main__.A object at 0x0000017213831970>\n",
      " b is method\n"
     ]
    }
   ],
   "source": [
    "ob.b()"
   ]
  },
  {
   "cell_type": "code",
   "execution_count": 32,
   "id": "3792b41b",
   "metadata": {},
   "outputs": [
    {
     "name": "stdout",
     "output_type": "stream",
     "text": [
      "m:  <__main__.A object at 0x0000017213831970>\n",
      "c is A class method\n"
     ]
    }
   ],
   "source": [
    "ob.c()"
   ]
  },
  {
   "cell_type": "code",
   "execution_count": 33,
   "id": "fb039216",
   "metadata": {},
   "outputs": [
    {
     "name": "stdout",
     "output_type": "stream",
     "text": [
      "s:  <__main__.A object at 0x00000172138319D0>\n",
      "hello word\n"
     ]
    }
   ],
   "source": [
    "ob1.a()"
   ]
  },
  {
   "cell_type": "code",
   "execution_count": 34,
   "id": "db1c7508",
   "metadata": {},
   "outputs": [
    {
     "name": "stdout",
     "output_type": "stream",
     "text": [
      "a:  <__main__.A object at 0x00000172138319D0>\n",
      " b is method\n"
     ]
    }
   ],
   "source": [
    "ob1.b()"
   ]
  },
  {
   "cell_type": "code",
   "execution_count": 35,
   "id": "1604242a",
   "metadata": {},
   "outputs": [],
   "source": [
    "x=100"
   ]
  },
  {
   "cell_type": "code",
   "execution_count": 36,
   "id": "056cbbe7",
   "metadata": {},
   "outputs": [],
   "source": [
    "x=200\n"
   ]
  },
  {
   "cell_type": "code",
   "execution_count": 37,
   "id": "6048a27f",
   "metadata": {},
   "outputs": [],
   "source": [
    "x=500"
   ]
  },
  {
   "cell_type": "code",
   "execution_count": 38,
   "id": "c0af127b",
   "metadata": {},
   "outputs": [
    {
     "name": "stdout",
     "output_type": "stream",
     "text": [
      "500\n"
     ]
    }
   ],
   "source": [
    "print(x)"
   ]
  },
  {
   "cell_type": "code",
   "execution_count": 39,
   "id": "254f6007",
   "metadata": {},
   "outputs": [],
   "source": [
    "name='global scope'\n",
    "class car:\n",
    "    name='class scope'\n",
    "    def show(self):\n",
    "        name='local scope'\n",
    "        print(name)\n",
    "        "
   ]
  },
  {
   "cell_type": "code",
   "execution_count": 40,
   "id": "48119297",
   "metadata": {},
   "outputs": [],
   "source": [
    "obj=car()"
   ]
  },
  {
   "cell_type": "code",
   "execution_count": 41,
   "id": "76823390",
   "metadata": {},
   "outputs": [],
   "source": [
    "obj.name='object scope'"
   ]
  },
  {
   "cell_type": "code",
   "execution_count": 42,
   "id": "999796dc",
   "metadata": {},
   "outputs": [
    {
     "name": "stdout",
     "output_type": "stream",
     "text": [
      "global scope\n"
     ]
    }
   ],
   "source": [
    "print(name)"
   ]
  },
  {
   "cell_type": "code",
   "execution_count": 43,
   "id": "8c0b3982",
   "metadata": {},
   "outputs": [
    {
     "data": {
      "text/plain": [
       "'class scope'"
      ]
     },
     "execution_count": 43,
     "metadata": {},
     "output_type": "execute_result"
    }
   ],
   "source": [
    "car.name"
   ]
  },
  {
   "cell_type": "code",
   "execution_count": 44,
   "id": "f2b43d39",
   "metadata": {},
   "outputs": [
    {
     "name": "stdout",
     "output_type": "stream",
     "text": [
      "local scope\n"
     ]
    }
   ],
   "source": [
    "obj.show()"
   ]
  },
  {
   "cell_type": "code",
   "execution_count": 45,
   "id": "2632eec7",
   "metadata": {},
   "outputs": [
    {
     "data": {
      "text/plain": [
       "'object scope'"
      ]
     },
     "execution_count": 45,
     "metadata": {},
     "output_type": "execute_result"
    }
   ],
   "source": [
    "obj.name"
   ]
  },
  {
   "cell_type": "code",
   "execution_count": 55,
   "id": "fe4e0e0c",
   "metadata": {},
   "outputs": [],
   "source": [
    "m=100\n",
    "class demo:\n",
    "    def change(self):\n",
    "        m=50\n",
    "        print(m)"
   ]
  },
  {
   "cell_type": "code",
   "execution_count": 56,
   "id": "f53d3784",
   "metadata": {},
   "outputs": [],
   "source": [
    "ob=demo()"
   ]
  },
  {
   "cell_type": "code",
   "execution_count": 57,
   "id": "0e6ae74a",
   "metadata": {},
   "outputs": [
    {
     "name": "stdout",
     "output_type": "stream",
     "text": [
      "50\n"
     ]
    }
   ],
   "source": [
    "ob.change()"
   ]
  }
 ],
 "metadata": {
  "kernelspec": {
   "display_name": "Python 3 (ipykernel)",
   "language": "python",
   "name": "python3"
  },
  "language_info": {
   "codemirror_mode": {
    "name": "ipython",
    "version": 3
   },
   "file_extension": ".py",
   "mimetype": "text/x-python",
   "name": "python",
   "nbconvert_exporter": "python",
   "pygments_lexer": "ipython3",
   "version": "3.9.6"
  }
 },
 "nbformat": 4,
 "nbformat_minor": 5
}
