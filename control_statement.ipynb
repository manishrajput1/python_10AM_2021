{
 "cells": [
  {
   "cell_type": "code",
   "execution_count": 1,
   "id": "f9f78c80",
   "metadata": {},
   "outputs": [],
   "source": [
    "# control statement----> code ---> flow ---> control"
   ]
  },
  {
   "cell_type": "code",
   "execution_count": 7,
   "id": "d1ec53c7",
   "metadata": {},
   "outputs": [],
   "source": [
    "if False :\n",
    "    print('samajh aaya')\n",
    "    print('great job')"
   ]
  },
  {
   "cell_type": "code",
   "execution_count": 10,
   "id": "186e3ef0",
   "metadata": {},
   "outputs": [
    {
     "name": "stdout",
     "output_type": "stream",
     "text": [
      "Enter number: 13\n",
      "odd number\n"
     ]
    }
   ],
   "source": [
    "n=int(input('Enter number: '))\n",
    "if n%2:\n",
    "    print('odd number')"
   ]
  },
  {
   "cell_type": "code",
   "execution_count": 11,
   "id": "ee10dad0",
   "metadata": {},
   "outputs": [],
   "source": [
    "# allow \n",
    "# age >18\n",
    "# allow \n"
   ]
  },
  {
   "cell_type": "code",
   "execution_count": 13,
   "id": "d0926bfc",
   "metadata": {},
   "outputs": [
    {
     "name": "stdout",
     "output_type": "stream",
     "text": [
      "Enter your age: 19\n",
      "congratulation\n"
     ]
    }
   ],
   "source": [
    "a=int(input('Enter your age: '))\n",
    "if a>18:\n",
    "    print('congratulation')\n"
   ]
  },
  {
   "cell_type": "code",
   "execution_count": 14,
   "id": "0a3c45bb",
   "metadata": {},
   "outputs": [
    {
     "name": "stdout",
     "output_type": "stream",
     "text": [
      "hello python\n",
      "hello python\n",
      "hello python\n",
      "hello python\n",
      "hello python\n",
      "hello python\n",
      "hello python\n",
      "hello python\n",
      "hello python\n",
      "hello i am exit gate\n"
     ]
    }
   ],
   "source": [
    "c=1\n",
    "while c<10:\n",
    "    print('hello python')\n",
    "    c+=1\n",
    "else:\n",
    "    print('hello i am exit gate')"
   ]
  },
  {
   "cell_type": "code",
   "execution_count": 17,
   "id": "7d508ac3",
   "metadata": {},
   "outputs": [
    {
     "name": "stdout",
     "output_type": "stream",
     "text": [
      "even\n"
     ]
    }
   ],
   "source": [
    "n=12\n",
    "if n%2:\n",
    "    print('odd')\n",
    "else:\n",
    "    print('even')"
   ]
  },
  {
   "cell_type": "code",
   "execution_count": 18,
   "id": "3c4d22ed",
   "metadata": {},
   "outputs": [
    {
     "name": "stdout",
     "output_type": "stream",
     "text": [
      "before if\n",
      "i am in if block\n",
      "i am also nested\n",
      "after if\n"
     ]
    }
   ],
   "source": [
    "print('before if')#\n",
    "if True:\n",
    "    print('i am in if block')#\n",
    "    if False:\n",
    "        print(' i am nested')\n",
    "    else:\n",
    "        print('i am also nested')#\n",
    "else:\n",
    "    if True:\n",
    "        print('i am outer')\n",
    "    else:\n",
    "        print('i am also outer')\n",
    "    \n",
    "print('after if')#"
   ]
  },
  {
   "cell_type": "code",
   "execution_count": null,
   "id": "6b9ab581",
   "metadata": {},
   "outputs": [],
   "source": []
  }
 ],
 "metadata": {
  "kernelspec": {
   "display_name": "Python 3 (ipykernel)",
   "language": "python",
   "name": "python3"
  },
  "language_info": {
   "codemirror_mode": {
    "name": "ipython",
    "version": 3
   },
   "file_extension": ".py",
   "mimetype": "text/x-python",
   "name": "python",
   "nbconvert_exporter": "python",
   "pygments_lexer": "ipython3",
   "version": "3.9.6"
  }
 },
 "nbformat": 4,
 "nbformat_minor": 5
}
