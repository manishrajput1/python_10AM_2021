{
 "cells": [
  {
   "cell_type": "code",
   "execution_count": 1,
   "id": "6c209f11",
   "metadata": {},
   "outputs": [],
   "source": [
    "import time"
   ]
  },
  {
   "cell_type": "raw",
   "id": "dd1a8791",
   "metadata": {},
   "source": []
  },
  {
   "cell_type": "code",
   "execution_count": 4,
   "id": "d70d0e1b",
   "metadata": {},
   "outputs": [
    {
     "data": {
      "text/plain": [
       "'10:25:32'"
      ]
     },
     "execution_count": 4,
     "metadata": {},
     "output_type": "execute_result"
    }
   ],
   "source": [
    "start_time=time.ctime().split()[-2]"
   ]
  },
  {
   "cell_type": "code",
   "execution_count": 5,
   "id": "c5177c41",
   "metadata": {},
   "outputs": [
    {
     "data": {
      "text/plain": [
       "'10:26:32'"
      ]
     },
     "execution_count": 5,
     "metadata": {},
     "output_type": "execute_result"
    }
   ],
   "source": [
    "time.ctime().split()[-2]"
   ]
  },
  {
   "cell_type": "code",
   "execution_count": 2,
   "id": "b869fd29",
   "metadata": {},
   "outputs": [
    {
     "name": "stdout",
     "output_type": "stream",
     "text": [
      "Writing cl.py\n"
     ]
    }
   ],
   "source": [
    "%%writefile cl.py\n",
    "from os import system\n",
    "import time\n",
    "w=0\n",
    "while w<10:\n",
    "    print(time.ctime().split()[-2])\n",
    "    #sys.cls()\n",
    "    system('clear')\n",
    "    w+=1"
   ]
  },
  {
   "cell_type": "code",
   "execution_count": 7,
   "id": "35a1553f",
   "metadata": {},
   "outputs": [
    {
     "name": "stdout",
     "output_type": "stream",
     "text": [
      "8299\n"
     ]
    }
   ],
   "source": [
    "p='0123456789'\n",
    "import random\n",
    "otp=''\n",
    "for i in range(4):\n",
    "    otp=otp+random.choice(p)\n",
    "print(otp)"
   ]
  },
  {
   "cell_type": "code",
   "execution_count": 8,
   "id": "62da327f",
   "metadata": {},
   "outputs": [],
   "source": [
    "t='manish'"
   ]
  },
  {
   "cell_type": "code",
   "execution_count": 9,
   "id": "97f0a689",
   "metadata": {},
   "outputs": [
    {
     "data": {
      "text/plain": [
       "str"
      ]
     },
     "execution_count": 9,
     "metadata": {},
     "output_type": "execute_result"
    }
   ],
   "source": [
    "type(t)"
   ]
  },
  {
   "cell_type": "code",
   "execution_count": 10,
   "id": "71593180",
   "metadata": {},
   "outputs": [],
   "source": [
    "u=b'manish'"
   ]
  },
  {
   "cell_type": "code",
   "execution_count": 11,
   "id": "da0b17a9",
   "metadata": {},
   "outputs": [
    {
     "data": {
      "text/plain": [
       "bytes"
      ]
     },
     "execution_count": 11,
     "metadata": {},
     "output_type": "execute_result"
    }
   ],
   "source": [
    "type(u)"
   ]
  },
  {
   "cell_type": "code",
   "execution_count": 12,
   "id": "69353be0",
   "metadata": {},
   "outputs": [
    {
     "data": {
      "text/plain": [
       "'manish'"
      ]
     },
     "execution_count": 12,
     "metadata": {},
     "output_type": "execute_result"
    }
   ],
   "source": [
    "t"
   ]
  },
  {
   "cell_type": "code",
   "execution_count": 13,
   "id": "2286c648",
   "metadata": {},
   "outputs": [
    {
     "data": {
      "text/plain": [
       "str"
      ]
     },
     "execution_count": 13,
     "metadata": {},
     "output_type": "execute_result"
    }
   ],
   "source": [
    "type(t)"
   ]
  },
  {
   "cell_type": "code",
   "execution_count": 14,
   "id": "a00a9378",
   "metadata": {},
   "outputs": [],
   "source": [
    "e=t.encode()"
   ]
  },
  {
   "cell_type": "code",
   "execution_count": 15,
   "id": "b6a7a1f3",
   "metadata": {},
   "outputs": [
    {
     "data": {
      "text/plain": [
       "bytes"
      ]
     },
     "execution_count": 15,
     "metadata": {},
     "output_type": "execute_result"
    }
   ],
   "source": [
    "type(e)"
   ]
  },
  {
   "cell_type": "code",
   "execution_count": 16,
   "id": "fc184535",
   "metadata": {},
   "outputs": [
    {
     "data": {
      "text/plain": [
       "b'manish'"
      ]
     },
     "execution_count": 16,
     "metadata": {},
     "output_type": "execute_result"
    }
   ],
   "source": [
    "e"
   ]
  },
  {
   "cell_type": "code",
   "execution_count": 17,
   "id": "19710202",
   "metadata": {},
   "outputs": [],
   "source": [
    "import numpy as np"
   ]
  },
  {
   "cell_type": "code",
   "execution_count": 18,
   "id": "ea2d41fc",
   "metadata": {},
   "outputs": [
    {
     "data": {
      "text/plain": [
       "2.995732273553991"
      ]
     },
     "execution_count": 18,
     "metadata": {},
     "output_type": "execute_result"
    }
   ],
   "source": [
    "np.log(20)"
   ]
  },
  {
   "cell_type": "code",
   "execution_count": 19,
   "id": "82cc7e3a",
   "metadata": {},
   "outputs": [
    {
     "data": {
      "text/plain": [
       "9.729550745276565"
      ]
     },
     "execution_count": 19,
     "metadata": {},
     "output_type": "execute_result"
    }
   ],
   "source": [
    "5*np.log(7)"
   ]
  },
  {
   "cell_type": "code",
   "execution_count": 21,
   "id": "11fdc78b",
   "metadata": {},
   "outputs": [],
   "source": [
    "import json"
   ]
  },
  {
   "cell_type": "code",
   "execution_count": 22,
   "id": "5c4f2bfd",
   "metadata": {},
   "outputs": [],
   "source": [
    "d={'name':'manish','age':23}"
   ]
  },
  {
   "cell_type": "code",
   "execution_count": 23,
   "id": "3edad480",
   "metadata": {},
   "outputs": [
    {
     "data": {
      "text/plain": [
       "dict"
      ]
     },
     "execution_count": 23,
     "metadata": {},
     "output_type": "execute_result"
    }
   ],
   "source": [
    "type(d)"
   ]
  },
  {
   "cell_type": "code",
   "execution_count": 27,
   "id": "cf41e5a9",
   "metadata": {},
   "outputs": [],
   "source": [
    "f=open('data.txt','w')\n",
    "json.dump(d,f)"
   ]
  },
  {
   "cell_type": "code",
   "execution_count": 28,
   "id": "7dc80703",
   "metadata": {},
   "outputs": [],
   "source": [
    "f.close()"
   ]
  },
  {
   "cell_type": "code",
   "execution_count": null,
   "id": "5a6164da",
   "metadata": {},
   "outputs": [],
   "source": []
  },
  {
   "cell_type": "code",
   "execution_count": null,
   "id": "d1bc018e",
   "metadata": {},
   "outputs": [],
   "source": []
  },
  {
   "cell_type": "code",
   "execution_count": null,
   "id": "631e1a62",
   "metadata": {},
   "outputs": [],
   "source": []
  },
  {
   "cell_type": "code",
   "execution_count": 29,
   "id": "ee0b40dc",
   "metadata": {},
   "outputs": [],
   "source": [
    "df={'name':'manish','address':'mathura','qaul':'M.S'}"
   ]
  },
  {
   "cell_type": "code",
   "execution_count": 30,
   "id": "8c5d7f66",
   "metadata": {},
   "outputs": [
    {
     "data": {
      "text/plain": [
       "'manish'"
      ]
     },
     "execution_count": 30,
     "metadata": {},
     "output_type": "execute_result"
    }
   ],
   "source": [
    "df['name']"
   ]
  },
  {
   "cell_type": "code",
   "execution_count": 31,
   "id": "112ab58e",
   "metadata": {},
   "outputs": [],
   "source": [
    "file=open('jsondata.txt','w')"
   ]
  },
  {
   "cell_type": "code",
   "execution_count": 32,
   "id": "864524a3",
   "metadata": {},
   "outputs": [],
   "source": [
    "json.dump(df,file)"
   ]
  },
  {
   "cell_type": "code",
   "execution_count": 33,
   "id": "328adf63",
   "metadata": {},
   "outputs": [],
   "source": [
    "file.close()"
   ]
  },
  {
   "cell_type": "code",
   "execution_count": 35,
   "id": "ddc73d82",
   "metadata": {},
   "outputs": [],
   "source": [
    "file=open('jsondata.txt','r')\n",
    "e=json.load(file)"
   ]
  },
  {
   "cell_type": "code",
   "execution_count": 46,
   "id": "c27d4194",
   "metadata": {},
   "outputs": [],
   "source": [
    "data={1001:{'name':'manish','pass':'mann123','bal':10000},\n",
    "     1002:{'name':'shan','pass':'shan123','bal':20000}}"
   ]
  },
  {
   "cell_type": "code",
   "execution_count": 54,
   "id": "8e5ba7bd",
   "metadata": {},
   "outputs": [
    {
     "name": "stdout",
     "output_type": "stream",
     "text": [
      "Writing bank.py\n"
     ]
    }
   ],
   "source": [
    "\n",
    "data={1001:{'name':'manish','pass':'mann123','bal':10000},\n",
    "     1002:{'name':'shan','pass':'shan123','bal':20000}}\n",
    "import sys\n",
    "from time import sleep\n",
    "from  getpass import getpass\n",
    "def main():\n",
    "    print('*'*78)\n",
    "    print()\n",
    "    print('1. Login\\t\\t 2. Signup\\t\\t 3. Exit'.center(50))\n",
    "    print()\n",
    "    print('*'*78)\n",
    "    print()\n",
    "    usr=int(input('Enter your choice: Login | Signup | Exit :'))\n",
    "    if usr==1:\n",
    "        Login()\n",
    "    elif usr==2:\n",
    "        Signup()\n",
    "    elif usr==3:\n",
    "        sys.exit()\n",
    "    else:\n",
    "        print('invalid choice: ')\n",
    "def Login():\n",
    "    ac=int(input('Enter your ac_no: '))\n",
    "    if ac in data.keys():\n",
    "        pas=getpass('Enter password: ')\n",
    "        if data[ac]['pass']==pas:\n",
    "            print('1. Debit \\t\\t 2. Credit\\t\\t 3. check_bal \\t\\t 4. Exit')\n",
    "            usr=int(input('Enter your choice: '))\n",
    "            if usr==1:\n",
    "                Debit(ac)\n",
    "            elif usr==2:\n",
    "                Credit(ac)\n",
    "            elif usr==3:\n",
    "                balance(ac)\n",
    "            elif usr==4:\n",
    "                sys.exit()\n",
    "            else:\n",
    "                print('invalid choice')\n",
    "            \n",
    "        else:\n",
    "            print('invalid username or password')\n",
    "    \n",
    "    \n",
    "    else:\n",
    "        print('no result found')\n",
    "        print('redirecting.....')\n",
    "        sleep(2)\n",
    "        Signup()\n",
    "    \n",
    "        \n",
    "    "
   ]
  },
  {
   "cell_type": "code",
   "execution_count": 50,
   "id": "24a7feda",
   "metadata": {},
   "outputs": [],
   "source": [
    "def Login():\n",
    "    ac=int(input('Enter your ac_no: '))\n",
    "    if ac in data.keys():\n",
    "        pas=getpass('Enter password: ')\n",
    "        if data[ac]['pass']==pas:\n",
    "            print('homepage')\n",
    "            \n",
    "        else:\n",
    "            print('invalid username or password')\n",
    "    \n",
    "    \n",
    "    else:\n",
    "        print('no result found')\n",
    "        print('redirecting.....')\n",
    "        sleep(2)\n",
    "        Signup()"
   ]
  },
  {
   "cell_type": "code",
   "execution_count": 45,
   "id": "f888405e",
   "metadata": {},
   "outputs": [
    {
     "data": {
      "text/plain": [
       "'n'"
      ]
     },
     "execution_count": 45,
     "metadata": {},
     "output_type": "execute_result"
    }
   ],
   "source": [
    "data[1001]['pass'][2]"
   ]
  },
  {
   "cell_type": "code",
   "execution_count": 47,
   "id": "1cbca202",
   "metadata": {},
   "outputs": [
    {
     "data": {
      "text/plain": [
       "dict_keys([1001, 1002])"
      ]
     },
     "execution_count": 47,
     "metadata": {},
     "output_type": "execute_result"
    }
   ],
   "source": [
    "data.keys()"
   ]
  },
  {
   "cell_type": "code",
   "execution_count": 49,
   "id": "5202459b",
   "metadata": {},
   "outputs": [
    {
     "data": {
      "text/plain": [
       "'mann123'"
      ]
     },
     "execution_count": 49,
     "metadata": {},
     "output_type": "execute_result"
    }
   ],
   "source": [
    "data[1001]['pass']"
   ]
  },
  {
   "cell_type": "code",
   "execution_count": 52,
   "id": "9357bb0b",
   "metadata": {},
   "outputs": [
    {
     "name": "stdout",
     "output_type": "stream",
     "text": [
      "******************************************************************************\n",
      "\n",
      "          1. Login\t\t 2. Signup\t\t 3. Exit          \n",
      "\n",
      "******************************************************************************\n",
      "\n",
      "Enter your choice: Login | Signup | Exit :1\n",
      "Enter your ac_no: 1001\n",
      "Enter password: ········\n",
      "homepage\n"
     ]
    }
   ],
   "source": [
    "main()"
   ]
  },
  {
   "cell_type": "markdown",
   "id": "355fed44",
   "metadata": {},
   "source": [
    "1# Login()"
   ]
  },
  {
   "cell_type": "code",
   "execution_count": 55,
   "id": "ca1f8077",
   "metadata": {},
   "outputs": [
    {
     "data": {
      "text/plain": [
       "{1001: {'name': 'manish', 'pass': 'mann123', 'bal': 10000},\n",
       " 1002: {'name': 'shan', 'pass': 'shan123', 'bal': 20000}}"
      ]
     },
     "execution_count": 55,
     "metadata": {},
     "output_type": "execute_result"
    }
   ],
   "source": [
    "data"
   ]
  },
  {
   "cell_type": "code",
   "execution_count": 57,
   "id": "8dc730d2",
   "metadata": {},
   "outputs": [
    {
     "name": "stdout",
     "output_type": "stream",
     "text": [
      "1001\n",
      "1002\n"
     ]
    }
   ],
   "source": [
    "for i in data:\n",
    "    for j in data[i]\n",
    "    print(i)"
   ]
  },
  {
   "cell_type": "code",
   "execution_count": 75,
   "id": "27cf5965",
   "metadata": {},
   "outputs": [],
   "source": [
    "data={1001:{'name':'manish','pass':'mann123','bal':10000},\n",
    "     1002:{'name':'shan','pass':'shan123','bal':20000}}\n",
    "import sys\n",
    "from time import sleep\n",
    "from  getpass import getpass\n",
    "def main():\n",
    "    print('*'*78)\n",
    "    print()\n",
    "    print('1. Login\\t\\t 2. Signup\\t\\t 3. Exit'.center(50))\n",
    "    print()\n",
    "    print('*'*78)\n",
    "    print()\n",
    "    usr=int(input('Enter your choice: Login | Signup | Exit :'))\n",
    "    if usr==1:\n",
    "        Login()\n",
    "    elif usr==2:\n",
    "        Signup()\n",
    "    elif usr==3:\n",
    "        sys.exit()\n",
    "    else:\n",
    "        print('invalid choice: ')\n",
    "def Login():\n",
    "    ac=int(input('Enter your ac_no: '))\n",
    "    if ac in data.keys():\n",
    "        pas=getpass('Enter password: ')\n",
    "        if data[ac]['pass']==pas:\n",
    "            print('1. Debit \\t\\t 2. Credit\\t\\t 3. check_bal \\t\\t 4. Exit')\n",
    "            usr=int(input('Enter your choice: '))\n",
    "            if usr==1:\n",
    "                Debit(ac)\n",
    "            elif usr==2:\n",
    "                Credit(ac)\n",
    "            elif usr==3:\n",
    "                balance(ac)\n",
    "            elif usr==4:\n",
    "                sys.exit()\n",
    "            else:\n",
    "                print('invalid choice')\n",
    "            \n",
    "        else:\n",
    "            print('invalid username or password')\n",
    "    \n",
    "    \n",
    "    else:\n",
    "        print('no result found')\n",
    "        print('redirecting.....')\n",
    "        sleep(2)\n",
    "        Signup()\n",
    "    \n",
    "        \n",
    "def Debit(ac):\n",
    "    amount=int(input('enter amount'))\n",
    "    if amount<=data[ac]['bal']:\n",
    "        data[ac]['bal']-=amount\n",
    "        print(f'your amount {amount} has been debited')\n",
    "\n",
    "    else:\n",
    "        print('aukat se bahar')"
   ]
  },
  {
   "cell_type": "code",
   "execution_count": 76,
   "id": "38727fd1",
   "metadata": {},
   "outputs": [
    {
     "name": "stdout",
     "output_type": "stream",
     "text": [
      "******************************************************************************\n",
      "\n",
      "          1. Login\t\t 2. Signup\t\t 3. Exit          \n",
      "\n",
      "******************************************************************************\n",
      "\n",
      "Enter your choice: Login | Signup | Exit :1\n",
      "Enter your ac_no: 1001\n",
      "Enter password: ········\n",
      "1. Debit \t\t 2. Credit\t\t 3. check_bal \t\t 4. Exit\n",
      "Enter your choice: 1\n",
      "enter amount5000\n",
      "your amount 5000 has been debited\n"
     ]
    }
   ],
   "source": [
    "main()"
   ]
  },
  {
   "cell_type": "code",
   "execution_count": 71,
   "id": "d0f3788e",
   "metadata": {},
   "outputs": [],
   "source": [
    "def test():\n",
    "    a=176786\n",
    "    print(a)\n"
   ]
  },
  {
   "cell_type": "code",
   "execution_count": 72,
   "id": "004022e2",
   "metadata": {},
   "outputs": [],
   "source": [
    "def test2():\n",
    "    print(a)"
   ]
  },
  {
   "cell_type": "code",
   "execution_count": 73,
   "id": "75531ab4",
   "metadata": {},
   "outputs": [
    {
     "name": "stdout",
     "output_type": "stream",
     "text": [
      "176786\n"
     ]
    }
   ],
   "source": [
    "test()"
   ]
  },
  {
   "cell_type": "code",
   "execution_count": 74,
   "id": "ded8a79f",
   "metadata": {},
   "outputs": [
    {
     "ename": "NameError",
     "evalue": "name 'a' is not defined",
     "output_type": "error",
     "traceback": [
      "\u001b[1;31m---------------------------------------------------------------------------\u001b[0m",
      "\u001b[1;31mNameError\u001b[0m                                 Traceback (most recent call last)",
      "\u001b[1;32m~\\AppData\\Local\\Temp/ipykernel_8688/2251835413.py\u001b[0m in \u001b[0;36m<module>\u001b[1;34m\u001b[0m\n\u001b[1;32m----> 1\u001b[1;33m \u001b[0mtest2\u001b[0m\u001b[1;33m(\u001b[0m\u001b[1;33m)\u001b[0m\u001b[1;33m\u001b[0m\u001b[1;33m\u001b[0m\u001b[0m\n\u001b[0m",
      "\u001b[1;32m~\\AppData\\Local\\Temp/ipykernel_8688/230763271.py\u001b[0m in \u001b[0;36mtest2\u001b[1;34m()\u001b[0m\n\u001b[0;32m      1\u001b[0m \u001b[1;32mdef\u001b[0m \u001b[0mtest2\u001b[0m\u001b[1;33m(\u001b[0m\u001b[1;33m)\u001b[0m\u001b[1;33m:\u001b[0m\u001b[1;33m\u001b[0m\u001b[1;33m\u001b[0m\u001b[0m\n\u001b[1;32m----> 2\u001b[1;33m     \u001b[0mprint\u001b[0m\u001b[1;33m(\u001b[0m\u001b[0ma\u001b[0m\u001b[1;33m)\u001b[0m\u001b[1;33m\u001b[0m\u001b[1;33m\u001b[0m\u001b[0m\n\u001b[0m",
      "\u001b[1;31mNameError\u001b[0m: name 'a' is not defined"
     ]
    }
   ],
   "source": [
    "test2()"
   ]
  },
  {
   "cell_type": "code",
   "execution_count": 77,
   "id": "dee298d8",
   "metadata": {},
   "outputs": [
    {
     "data": {
      "text/plain": [
       "{1001: {'name': 'manish', 'pass': 'mann123', 'bal': 5000},\n",
       " 1002: {'name': 'shan', 'pass': 'shan123', 'bal': 20000}}"
      ]
     },
     "execution_count": 77,
     "metadata": {},
     "output_type": "execute_result"
    }
   ],
   "source": [
    "data"
   ]
  },
  {
   "cell_type": "code",
   "execution_count": 81,
   "id": "3d6f5422",
   "metadata": {},
   "outputs": [
    {
     "data": {
      "text/plain": [
       "1003"
      ]
     },
     "execution_count": 81,
     "metadata": {},
     "output_type": "execute_result"
    }
   ],
   "source": [
    "list(data.keys())[-1]+1"
   ]
  },
  {
   "cell_type": "code",
   "execution_count": null,
   "id": "70840560",
   "metadata": {},
   "outputs": [],
   "source": []
  }
 ],
 "metadata": {
  "kernelspec": {
   "display_name": "Python 3 (ipykernel)",
   "language": "python",
   "name": "python3"
  },
  "language_info": {
   "codemirror_mode": {
    "name": "ipython",
    "version": 3
   },
   "file_extension": ".py",
   "mimetype": "text/x-python",
   "name": "python",
   "nbconvert_exporter": "python",
   "pygments_lexer": "ipython3",
   "version": "3.9.6"
  }
 },
 "nbformat": 4,
 "nbformat_minor": 5
}
