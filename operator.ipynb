{
 "cells": [
  {
   "cell_type": "markdown",
   "id": "2ba2cd9c",
   "metadata": {},
   "source": [
    "     Arithmatic:\n",
    "      1. addition (+)\n",
    "      2. sub (-)\n",
    "      3. mul (*)\n",
    "      4. modulus (%)\n",
    "      5. division (/)\n",
    "      6. floor division (//)\n",
    "      7. power /exponent (**)\n",
    "      "
   ]
  },
  {
   "cell_type": "code",
   "execution_count": 1,
   "id": "77a7673e",
   "metadata": {},
   "outputs": [],
   "source": [
    " # number , number addition ---> normal addition \n",
    "# str, str ---> concat \n",
    "# str , number ---> not possible\n",
    "# list/tuple , list/tuple ---> concat\n"
   ]
  },
  {
   "cell_type": "code",
   "execution_count": 13,
   "id": "20f4f898",
   "metadata": {},
   "outputs": [
    {
     "name": "stdout",
     "output_type": "stream",
     "text": [
      "enter something: manish\n"
     ]
    }
   ],
   "source": [
    "a=input('enter something: ')   # input str "
   ]
  },
  {
   "cell_type": "code",
   "execution_count": 14,
   "id": "a3abbec2",
   "metadata": {},
   "outputs": [
    {
     "data": {
      "text/plain": [
       "'manish'"
      ]
     },
     "execution_count": 14,
     "metadata": {},
     "output_type": "execute_result"
    }
   ],
   "source": [
    "a"
   ]
  },
  {
   "cell_type": "code",
   "execution_count": 15,
   "id": "7588bfb7",
   "metadata": {},
   "outputs": [
    {
     "data": {
      "text/plain": [
       "str"
      ]
     },
     "execution_count": 15,
     "metadata": {},
     "output_type": "execute_result"
    }
   ],
   "source": [
    "type(a)"
   ]
  },
  {
   "cell_type": "code",
   "execution_count": 16,
   "id": "3c3eb250",
   "metadata": {},
   "outputs": [],
   "source": [
    "a='10'"
   ]
  },
  {
   "cell_type": "code",
   "execution_count": 17,
   "id": "dc79d195",
   "metadata": {},
   "outputs": [
    {
     "data": {
      "text/plain": [
       "10"
      ]
     },
     "execution_count": 17,
     "metadata": {},
     "output_type": "execute_result"
    }
   ],
   "source": [
    "int(a)"
   ]
  },
  {
   "cell_type": "code",
   "execution_count": 21,
   "id": "572288a3",
   "metadata": {},
   "outputs": [
    {
     "name": "stdout",
     "output_type": "stream",
     "text": [
      "enter something: 10\n"
     ]
    }
   ],
   "source": [
    "a=float(input('enter something: '))   # input str "
   ]
  },
  {
   "cell_type": "code",
   "execution_count": 22,
   "id": "4b3c3d1a",
   "metadata": {},
   "outputs": [
    {
     "data": {
      "text/plain": [
       "10.0"
      ]
     },
     "execution_count": 22,
     "metadata": {},
     "output_type": "execute_result"
    }
   ],
   "source": [
    "a"
   ]
  },
  {
   "cell_type": "code",
   "execution_count": 23,
   "id": "12378057",
   "metadata": {},
   "outputs": [
    {
     "data": {
      "text/plain": [
       "float"
      ]
     },
     "execution_count": 23,
     "metadata": {},
     "output_type": "execute_result"
    }
   ],
   "source": [
    "type(a)"
   ]
  },
  {
   "cell_type": "code",
   "execution_count": 32,
   "id": "75376a8b",
   "metadata": {},
   "outputs": [
    {
     "name": "stdout",
     "output_type": "stream",
     "text": [
      "Enter a: 10\n",
      "Enter b: 30\n",
      "addition of a and b : 40\n"
     ]
    }
   ],
   "source": [
    "a=int(input('Enter a: '))\n",
    "b=int(input('Enter b: '))\n",
    "print(f'addition of a and b : {a+b}')"
   ]
  },
  {
   "cell_type": "code",
   "execution_count": 28,
   "id": "3f9615f3",
   "metadata": {},
   "outputs": [
    {
     "name": "stdout",
     "output_type": "stream",
     "text": [
      "hello manish\n"
     ]
    }
   ],
   "source": [
    "name='manish'\n",
    "print(f'hello {name}')\n",
    "e=100"
   ]
  },
  {
   "cell_type": "code",
   "execution_count": 29,
   "id": "0cb0f2ec",
   "metadata": {},
   "outputs": [
    {
     "data": {
      "text/plain": [
       "'hello manish hey 100'"
      ]
     },
     "execution_count": 29,
     "metadata": {},
     "output_type": "execute_result"
    }
   ],
   "source": [
    "'hello %s hey %d'%(name,e)"
   ]
  },
  {
   "cell_type": "code",
   "execution_count": 31,
   "id": "f9b022ae",
   "metadata": {},
   "outputs": [
    {
     "data": {
      "text/plain": [
       "'hello manish hey 100 how are you'"
      ]
     },
     "execution_count": 31,
     "metadata": {},
     "output_type": "execute_result"
    }
   ],
   "source": [
    "'hello {} hey {} how are you'.format(name,e)"
   ]
  },
  {
   "cell_type": "code",
   "execution_count": 33,
   "id": "7985d2ee",
   "metadata": {},
   "outputs": [
    {
     "name": "stdout",
     "output_type": "stream",
     "text": [
      "Enter a: 10\n",
      "Enter b: 50.5\n",
      "addition of a and b : 60.5\n"
     ]
    }
   ],
   "source": [
    "a=float(input('Enter a: '))\n",
    "b=float(input('Enter b: '))\n",
    "print(f'addition of a and b : {a+b}')"
   ]
  },
  {
   "cell_type": "code",
   "execution_count": 35,
   "id": "ef5a73bf",
   "metadata": {},
   "outputs": [
    {
     "name": "stdout",
     "output_type": "stream",
     "text": [
      "Enter : 20.5\n",
      "20.5\n",
      "<class 'float'>\n"
     ]
    }
   ],
   "source": [
    "n=eval(input('Enter : '))\n",
    "print(n)\n",
    "print(type(n))"
   ]
  },
  {
   "cell_type": "code",
   "execution_count": 36,
   "id": "a0ff131a",
   "metadata": {},
   "outputs": [
    {
     "name": "stdout",
     "output_type": "stream",
     "text": [
      "89.6\n"
     ]
    },
    {
     "ename": "ValueError",
     "evalue": "invalid literal for int() with base 10: '89.6'",
     "output_type": "error",
     "traceback": [
      "\u001b[1;31m---------------------------------------------------------------------------\u001b[0m",
      "\u001b[1;31mValueError\u001b[0m                                Traceback (most recent call last)",
      "\u001b[1;32m~\\AppData\\Local\\Temp/ipykernel_3180/3263029650.py\u001b[0m in \u001b[0;36m<module>\u001b[1;34m\u001b[0m\n\u001b[1;32m----> 1\u001b[1;33m \u001b[0md\u001b[0m\u001b[1;33m=\u001b[0m\u001b[0mint\u001b[0m\u001b[1;33m(\u001b[0m\u001b[0minput\u001b[0m\u001b[1;33m(\u001b[0m\u001b[1;33m)\u001b[0m\u001b[1;33m)\u001b[0m\u001b[1;33m\u001b[0m\u001b[1;33m\u001b[0m\u001b[0m\n\u001b[0m",
      "\u001b[1;31mValueError\u001b[0m: invalid literal for int() with base 10: '89.6'"
     ]
    }
   ],
   "source": [
    "d=int(input())"
   ]
  },
  {
   "cell_type": "code",
   "execution_count": 39,
   "id": "bbe628cd",
   "metadata": {},
   "outputs": [
    {
     "name": "stdout",
     "output_type": "stream",
     "text": [
      "Enter a: manish\n",
      "Enter b: 10\n"
     ]
    },
    {
     "ename": "TypeError",
     "evalue": "can only concatenate str (not \"int\") to str",
     "output_type": "error",
     "traceback": [
      "\u001b[1;31m---------------------------------------------------------------------------\u001b[0m",
      "\u001b[1;31mTypeError\u001b[0m                                 Traceback (most recent call last)",
      "\u001b[1;32m~\\AppData\\Local\\Temp/ipykernel_3180/4032616785.py\u001b[0m in \u001b[0;36m<module>\u001b[1;34m\u001b[0m\n\u001b[0;32m      1\u001b[0m \u001b[0ma\u001b[0m\u001b[1;33m=\u001b[0m\u001b[1;33m(\u001b[0m\u001b[0minput\u001b[0m\u001b[1;33m(\u001b[0m\u001b[1;34m'Enter a: '\u001b[0m\u001b[1;33m)\u001b[0m\u001b[1;33m)\u001b[0m\u001b[1;33m\u001b[0m\u001b[1;33m\u001b[0m\u001b[0m\n\u001b[0;32m      2\u001b[0m \u001b[0mb\u001b[0m\u001b[1;33m=\u001b[0m\u001b[0mint\u001b[0m\u001b[1;33m(\u001b[0m\u001b[0minput\u001b[0m\u001b[1;33m(\u001b[0m\u001b[1;34m'Enter b: '\u001b[0m\u001b[1;33m)\u001b[0m\u001b[1;33m)\u001b[0m\u001b[1;33m\u001b[0m\u001b[1;33m\u001b[0m\u001b[0m\n\u001b[1;32m----> 3\u001b[1;33m \u001b[0mprint\u001b[0m\u001b[1;33m(\u001b[0m\u001b[1;34mf'addition of a and b : {a+b}'\u001b[0m\u001b[1;33m)\u001b[0m\u001b[1;33m\u001b[0m\u001b[1;33m\u001b[0m\u001b[0m\n\u001b[0m",
      "\u001b[1;31mTypeError\u001b[0m: can only concatenate str (not \"int\") to str"
     ]
    }
   ],
   "source": [
    "a=(input('Enter a: '))\n",
    "b=int(input('Enter b: '))\n",
    "print(f'addition of a and b : {a+b}')"
   ]
  },
  {
   "cell_type": "code",
   "execution_count": 38,
   "id": "6cbdae59",
   "metadata": {},
   "outputs": [
    {
     "data": {
      "text/plain": [
       "[1, 2, 3, 4, 5, 6, 7]"
      ]
     },
     "execution_count": 38,
     "metadata": {},
     "output_type": "execute_result"
    }
   ],
   "source": [
    "[1,2,3,4]+[5,6,7]"
   ]
  },
  {
   "cell_type": "code",
   "execution_count": 40,
   "id": "b5841612",
   "metadata": {},
   "outputs": [],
   "source": [
    "# sub (-)"
   ]
  },
  {
   "cell_type": "code",
   "execution_count": 41,
   "id": "42ca8f85",
   "metadata": {},
   "outputs": [
    {
     "name": "stdout",
     "output_type": "stream",
     "text": [
      "Enter a: 10\n",
      "Enter b: 5\n",
      "sub of a and b : 5\n"
     ]
    }
   ],
   "source": [
    "a=int(input('Enter a: '))\n",
    "b=int(input('Enter b: '))\n",
    "print(f'sub of a and b : {a-b}')"
   ]
  },
  {
   "cell_type": "code",
   "execution_count": 43,
   "id": "d4bb4fbc",
   "metadata": {},
   "outputs": [
    {
     "name": "stdout",
     "output_type": "stream",
     "text": [
      "Enter a: manish\n",
      "Enter b: rajoput\n"
     ]
    },
    {
     "ename": "TypeError",
     "evalue": "unsupported operand type(s) for -: 'str' and 'str'",
     "output_type": "error",
     "traceback": [
      "\u001b[1;31m---------------------------------------------------------------------------\u001b[0m",
      "\u001b[1;31mTypeError\u001b[0m                                 Traceback (most recent call last)",
      "\u001b[1;32m~\\AppData\\Local\\Temp/ipykernel_3180/342328301.py\u001b[0m in \u001b[0;36m<module>\u001b[1;34m\u001b[0m\n\u001b[0;32m      1\u001b[0m \u001b[0ma\u001b[0m\u001b[1;33m=\u001b[0m\u001b[1;33m(\u001b[0m\u001b[0minput\u001b[0m\u001b[1;33m(\u001b[0m\u001b[1;34m'Enter a: '\u001b[0m\u001b[1;33m)\u001b[0m\u001b[1;33m)\u001b[0m\u001b[1;33m\u001b[0m\u001b[1;33m\u001b[0m\u001b[0m\n\u001b[0;32m      2\u001b[0m \u001b[0mb\u001b[0m\u001b[1;33m=\u001b[0m\u001b[1;33m(\u001b[0m\u001b[0minput\u001b[0m\u001b[1;33m(\u001b[0m\u001b[1;34m'Enter b: '\u001b[0m\u001b[1;33m)\u001b[0m\u001b[1;33m)\u001b[0m\u001b[1;33m\u001b[0m\u001b[1;33m\u001b[0m\u001b[0m\n\u001b[1;32m----> 3\u001b[1;33m \u001b[0mprint\u001b[0m\u001b[1;33m(\u001b[0m\u001b[1;34mf'addition of a and b : {a-b}'\u001b[0m\u001b[1;33m)\u001b[0m\u001b[1;33m\u001b[0m\u001b[1;33m\u001b[0m\u001b[0m\n\u001b[0m",
      "\u001b[1;31mTypeError\u001b[0m: unsupported operand type(s) for -: 'str' and 'str'"
     ]
    }
   ],
   "source": [
    "a=(input('Enter a: '))\n",
    "b=(input('Enter b: '))\n",
    "print(f'addition of a and b : {a-b}')"
   ]
  },
  {
   "cell_type": "code",
   "execution_count": 44,
   "id": "300d8d0c",
   "metadata": {},
   "outputs": [],
   "source": [
    "# * ----> numbers , (str , number(int))"
   ]
  },
  {
   "cell_type": "code",
   "execution_count": 48,
   "id": "4ce43fe7",
   "metadata": {},
   "outputs": [
    {
     "name": "stdout",
     "output_type": "stream",
     "text": [
      "Enter a: manish\n",
      "Enter b: 10\n",
      "addition of a and b : manishmanishmanishmanishmanishmanishmanishmanishmanishmanish\n"
     ]
    }
   ],
   "source": [
    "a=(input('Enter a: '))\n",
    "b=eval(input('Enter b: '))\n",
    "print(f'addition of a and b : {a*b}')"
   ]
  },
  {
   "cell_type": "code",
   "execution_count": 49,
   "id": "0cae1547",
   "metadata": {},
   "outputs": [
    {
     "data": {
      "text/plain": [
       "'**********'"
      ]
     },
     "execution_count": 49,
     "metadata": {},
     "output_type": "execute_result"
    }
   ],
   "source": [
    "'*'*(10)"
   ]
  },
  {
   "cell_type": "code",
   "execution_count": 52,
   "id": "15729aba",
   "metadata": {},
   "outputs": [],
   "source": [
    "# division(/)    ---> return float value\n",
    "# numbers "
   ]
  },
  {
   "cell_type": "code",
   "execution_count": 54,
   "id": "790aa6cb",
   "metadata": {},
   "outputs": [
    {
     "name": "stdout",
     "output_type": "stream",
     "text": [
      "Enter a: 40\n",
      "Enter b: 3\n",
      "addition of a and b : 13.333333333333334\n"
     ]
    }
   ],
   "source": [
    "a=int(input('Enter a: '))\n",
    "b=int(input('Enter b: '))\n",
    "print(f'addition of a and b : {a/b}')"
   ]
  },
  {
   "cell_type": "code",
   "execution_count": 55,
   "id": "567e43ba",
   "metadata": {},
   "outputs": [],
   "source": [
    "# floor division----> return integer value "
   ]
  },
  {
   "cell_type": "code",
   "execution_count": 57,
   "id": "56d9a30c",
   "metadata": {},
   "outputs": [
    {
     "name": "stdout",
     "output_type": "stream",
     "text": [
      "Enter a: 13\n",
      "Enter b: 2\n",
      "addition of a and b : 6\n"
     ]
    }
   ],
   "source": [
    "a=int(input('Enter a: '))\n",
    "b=int(input('Enter b: '))\n",
    "print(f'addition of a and b : {a//b}')"
   ]
  },
  {
   "cell_type": "code",
   "execution_count": 58,
   "id": "2f36664d",
   "metadata": {},
   "outputs": [],
   "source": [
    "# power (**)"
   ]
  },
  {
   "cell_type": "code",
   "execution_count": 61,
   "id": "1877fa35",
   "metadata": {},
   "outputs": [
    {
     "name": "stdout",
     "output_type": "stream",
     "text": [
      "Enter a: 103\n",
      "Enter b: 2\n",
      "addition of a and b : 10609\n"
     ]
    }
   ],
   "source": [
    "a=int(input('Enter a: '))\n",
    "b=int(input('Enter b: '))\n",
    "print(f'addition of a and b : {a**b}')"
   ]
  },
  {
   "cell_type": "code",
   "execution_count": 62,
   "id": "3a0c1188",
   "metadata": {},
   "outputs": [],
   "source": [
    "# modulus (%)"
   ]
  },
  {
   "cell_type": "code",
   "execution_count": 63,
   "id": "464da80c",
   "metadata": {},
   "outputs": [
    {
     "data": {
      "text/plain": [
       "0"
      ]
     },
     "execution_count": 63,
     "metadata": {},
     "output_type": "execute_result"
    }
   ],
   "source": [
    "10%2"
   ]
  },
  {
   "cell_type": "code",
   "execution_count": 64,
   "id": "1674fc2d",
   "metadata": {},
   "outputs": [
    {
     "data": {
      "text/plain": [
       "1"
      ]
     },
     "execution_count": 64,
     "metadata": {},
     "output_type": "execute_result"
    }
   ],
   "source": [
    "11%2"
   ]
  },
  {
   "cell_type": "code",
   "execution_count": 65,
   "id": "8ca62052",
   "metadata": {},
   "outputs": [
    {
     "data": {
      "text/plain": [
       "2"
      ]
     },
     "execution_count": 65,
     "metadata": {},
     "output_type": "execute_result"
    }
   ],
   "source": [
    "20%3"
   ]
  },
  {
   "cell_type": "markdown",
   "id": "07d49b88",
   "metadata": {},
   "source": [
    "    logical operator   true and false : \n",
    "         1. and ------> if all conditions are true return otherwise false\n",
    "         2. or ---> if any conditon is true return true\n",
    "         3. not\n",
    "       False conditions----> 0 , None , False ,'' , (), [],{}"
   ]
  },
  {
   "cell_type": "code",
   "execution_count": 66,
   "id": "314b089e",
   "metadata": {},
   "outputs": [
    {
     "data": {
      "text/plain": [
       "0"
      ]
     },
     "execution_count": 66,
     "metadata": {},
     "output_type": "execute_result"
    }
   ],
   "source": [
    "10 and 0 and False and 'manish'"
   ]
  },
  {
   "cell_type": "code",
   "execution_count": 67,
   "id": "c24e34c3",
   "metadata": {},
   "outputs": [
    {
     "data": {
      "text/plain": [
       "'neha'"
      ]
     },
     "execution_count": 67,
     "metadata": {},
     "output_type": "execute_result"
    }
   ],
   "source": [
    "'manish' and 'shan' and 'jeet' and 'neha'"
   ]
  },
  {
   "cell_type": "code",
   "execution_count": 69,
   "id": "68328c44",
   "metadata": {},
   "outputs": [
    {
     "data": {
      "text/plain": [
       "False"
      ]
     },
     "execution_count": 69,
     "metadata": {},
     "output_type": "execute_result"
    }
   ],
   "source": [
    "'manish' and False and 'shan'"
   ]
  },
  {
   "cell_type": "code",
   "execution_count": 70,
   "id": "f550df94",
   "metadata": {},
   "outputs": [
    {
     "data": {
      "text/plain": [
       "0"
      ]
     },
     "execution_count": 70,
     "metadata": {},
     "output_type": "execute_result"
    }
   ],
   "source": [
    "10 and 20 and 30%2 and 40%4 and 100"
   ]
  },
  {
   "cell_type": "code",
   "execution_count": 71,
   "id": "dccbf124",
   "metadata": {},
   "outputs": [
    {
     "data": {
      "text/plain": [
       "[]"
      ]
     },
     "execution_count": 71,
     "metadata": {},
     "output_type": "execute_result"
    }
   ],
   "source": [
    "'manish' and ' ' and [ ] and 'jeet'"
   ]
  },
  {
   "cell_type": "code",
   "execution_count": 72,
   "id": "d5ae63db",
   "metadata": {},
   "outputs": [],
   "source": [
    "o=[                ]"
   ]
  },
  {
   "cell_type": "code",
   "execution_count": 74,
   "id": "14d848fb",
   "metadata": {},
   "outputs": [
    {
     "name": "stdout",
     "output_type": "stream",
     "text": [
      "[]\n"
     ]
    }
   ],
   "source": [
    "print(o)"
   ]
  },
  {
   "cell_type": "code",
   "execution_count": 76,
   "id": "7090a04e",
   "metadata": {},
   "outputs": [],
   "source": [
    "'mann' and 'None' and None and ' ' and () and {1}"
   ]
  },
  {
   "cell_type": "code",
   "execution_count": 77,
   "id": "fa571c18",
   "metadata": {},
   "outputs": [
    {
     "data": {
      "text/plain": [
       "'manish'"
      ]
     },
     "execution_count": 77,
     "metadata": {},
     "output_type": "execute_result"
    }
   ],
   "source": [
    "0 or False or 'manish' or 'jeet' or 'neha'"
   ]
  },
  {
   "cell_type": "code",
   "execution_count": 78,
   "id": "cb909c79",
   "metadata": {},
   "outputs": [
    {
     "data": {
      "text/plain": [
       "()"
      ]
     },
     "execution_count": 78,
     "metadata": {},
     "output_type": "execute_result"
    }
   ],
   "source": [
    "0 or False or '' or [   ] or (    )"
   ]
  },
  {
   "cell_type": "code",
   "execution_count": 80,
   "id": "f661c6c4",
   "metadata": {},
   "outputs": [],
   "source": [
    "# not ---->\n",
    "# not true\n",
    "# not false ---true"
   ]
  },
  {
   "cell_type": "code",
   "execution_count": 81,
   "id": "e3289a67",
   "metadata": {},
   "outputs": [
    {
     "data": {
      "text/plain": [
       "True"
      ]
     },
     "execution_count": 81,
     "metadata": {},
     "output_type": "execute_result"
    }
   ],
   "source": [
    "not 0"
   ]
  },
  {
   "cell_type": "code",
   "execution_count": 82,
   "id": "2634b177",
   "metadata": {},
   "outputs": [
    {
     "data": {
      "text/plain": [
       "False"
      ]
     },
     "execution_count": 82,
     "metadata": {},
     "output_type": "execute_result"
    }
   ],
   "source": [
    "not 1"
   ]
  },
  {
   "cell_type": "code",
   "execution_count": 83,
   "id": "3fd606df",
   "metadata": {},
   "outputs": [
    {
     "data": {
      "text/plain": [
       "False"
      ]
     },
     "execution_count": 83,
     "metadata": {},
     "output_type": "execute_result"
    }
   ],
   "source": [
    "not 'manish'"
   ]
  },
  {
   "cell_type": "code",
   "execution_count": 84,
   "id": "2a7c48a7",
   "metadata": {},
   "outputs": [
    {
     "data": {
      "text/plain": [
       "True"
      ]
     },
     "execution_count": 84,
     "metadata": {},
     "output_type": "execute_result"
    }
   ],
   "source": [
    "not [  ]"
   ]
  },
  {
   "cell_type": "code",
   "execution_count": 85,
   "id": "84f9e308",
   "metadata": {},
   "outputs": [
    {
     "data": {
      "text/plain": [
       "False"
      ]
     },
     "execution_count": 85,
     "metadata": {},
     "output_type": "execute_result"
    }
   ],
   "source": [
    "not(10 or 20 and 'manish' or 0)"
   ]
  },
  {
   "cell_type": "code",
   "execution_count": 86,
   "id": "b511a1ae",
   "metadata": {},
   "outputs": [
    {
     "data": {
      "text/plain": [
       "False"
      ]
     },
     "execution_count": 86,
     "metadata": {},
     "output_type": "execute_result"
    }
   ],
   "source": [
    "not (0 and 1 or 0 and 'manish' or 1)"
   ]
  },
  {
   "cell_type": "code",
   "execution_count": 87,
   "id": "2e49d2c7",
   "metadata": {},
   "outputs": [
    {
     "data": {
      "text/plain": [
       "False"
      ]
     },
     "execution_count": 87,
     "metadata": {},
     "output_type": "execute_result"
    }
   ],
   "source": [
    "not ('manish' or 'mann' and '' and 'None' and 0 or 1 or 0)"
   ]
  },
  {
   "cell_type": "code",
   "execution_count": 88,
   "id": "eee6df94",
   "metadata": {},
   "outputs": [
    {
     "data": {
      "text/plain": [
       "False"
      ]
     },
     "execution_count": 88,
     "metadata": {},
     "output_type": "execute_result"
    }
   ],
   "source": [
    "not (not(0 or 1 and 'mann' and (0 or 1 and 0 and 'manish')))"
   ]
  },
  {
   "cell_type": "code",
   "execution_count": 90,
   "id": "9f9e8f96",
   "metadata": {},
   "outputs": [],
   "source": [
    "# membership operator:\n",
    " # in , not ----> check membership\n",
    "    # in ----> find ---> true "
   ]
  },
  {
   "cell_type": "code",
   "execution_count": 91,
   "id": "981db617",
   "metadata": {},
   "outputs": [],
   "source": [
    "l=['manish','urmila','jayshree','shan','jeet','dhruval']"
   ]
  },
  {
   "cell_type": "code",
   "execution_count": 92,
   "id": "d838fce3",
   "metadata": {},
   "outputs": [
    {
     "data": {
      "text/plain": [
       "True"
      ]
     },
     "execution_count": 92,
     "metadata": {},
     "output_type": "execute_result"
    }
   ],
   "source": [
    "'manish' in l"
   ]
  },
  {
   "cell_type": "code",
   "execution_count": 93,
   "id": "67167e5b",
   "metadata": {},
   "outputs": [
    {
     "data": {
      "text/plain": [
       "False"
      ]
     },
     "execution_count": 93,
     "metadata": {},
     "output_type": "execute_result"
    }
   ],
   "source": [
    "'man' in l"
   ]
  },
  {
   "cell_type": "code",
   "execution_count": 94,
   "id": "a50c56e1",
   "metadata": {},
   "outputs": [
    {
     "data": {
      "text/plain": [
       "True"
      ]
     },
     "execution_count": 94,
     "metadata": {},
     "output_type": "execute_result"
    }
   ],
   "source": [
    "'urmila' in l"
   ]
  },
  {
   "cell_type": "code",
   "execution_count": 95,
   "id": "75891b7b",
   "metadata": {},
   "outputs": [
    {
     "data": {
      "text/plain": [
       "True"
      ]
     },
     "execution_count": 95,
     "metadata": {},
     "output_type": "execute_result"
    }
   ],
   "source": [
    "'p' in 'python'"
   ]
  },
  {
   "cell_type": "code",
   "execution_count": 96,
   "id": "a9eeb5a8",
   "metadata": {},
   "outputs": [
    {
     "data": {
      "text/plain": [
       "False"
      ]
     },
     "execution_count": 96,
     "metadata": {},
     "output_type": "execute_result"
    }
   ],
   "source": [
    "'r' in 'python'"
   ]
  },
  {
   "cell_type": "code",
   "execution_count": 97,
   "id": "4db14b20",
   "metadata": {},
   "outputs": [
    {
     "data": {
      "text/plain": [
       "False"
      ]
     },
     "execution_count": 97,
     "metadata": {},
     "output_type": "execute_result"
    }
   ],
   "source": [
    "'p' not in 'python' "
   ]
  },
  {
   "cell_type": "code",
   "execution_count": 109,
   "id": "9d21ce01",
   "metadata": {},
   "outputs": [],
   "source": [
    "# identity----> if  object  are same return true\n",
    "# is , is not"
   ]
  },
  {
   "cell_type": "code",
   "execution_count": 99,
   "id": "951b035a",
   "metadata": {},
   "outputs": [],
   "source": [
    "a=[1,2,3]"
   ]
  },
  {
   "cell_type": "code",
   "execution_count": 100,
   "id": "c5254428",
   "metadata": {},
   "outputs": [],
   "source": [
    "b=[1,2,3]"
   ]
  },
  {
   "cell_type": "code",
   "execution_count": 101,
   "id": "0f207802",
   "metadata": {},
   "outputs": [
    {
     "data": {
      "text/plain": [
       "2551746368640"
      ]
     },
     "execution_count": 101,
     "metadata": {},
     "output_type": "execute_result"
    }
   ],
   "source": [
    "id(a)"
   ]
  },
  {
   "cell_type": "code",
   "execution_count": 102,
   "id": "c0a5a09b",
   "metadata": {},
   "outputs": [
    {
     "data": {
      "text/plain": [
       "2551746339008"
      ]
     },
     "execution_count": 102,
     "metadata": {},
     "output_type": "execute_result"
    }
   ],
   "source": [
    "id(b)"
   ]
  },
  {
   "cell_type": "code",
   "execution_count": 103,
   "id": "c5a3a5a2",
   "metadata": {},
   "outputs": [
    {
     "data": {
      "text/plain": [
       "False"
      ]
     },
     "execution_count": 103,
     "metadata": {},
     "output_type": "execute_result"
    }
   ],
   "source": [
    "a is b"
   ]
  },
  {
   "cell_type": "code",
   "execution_count": 104,
   "id": "042c873c",
   "metadata": {},
   "outputs": [],
   "source": [
    "a='hello'\n",
    "b='hello'"
   ]
  },
  {
   "cell_type": "code",
   "execution_count": 106,
   "id": "5e5faa42",
   "metadata": {},
   "outputs": [
    {
     "data": {
      "text/plain": [
       "2551746368432"
      ]
     },
     "execution_count": 106,
     "metadata": {},
     "output_type": "execute_result"
    }
   ],
   "source": [
    "id(a)"
   ]
  },
  {
   "cell_type": "code",
   "execution_count": 107,
   "id": "0c4fe4ba",
   "metadata": {},
   "outputs": [
    {
     "data": {
      "text/plain": [
       "2551746368432"
      ]
     },
     "execution_count": 107,
     "metadata": {},
     "output_type": "execute_result"
    }
   ],
   "source": [
    "id(b)"
   ]
  },
  {
   "cell_type": "code",
   "execution_count": 108,
   "id": "bc3718b2",
   "metadata": {},
   "outputs": [
    {
     "data": {
      "text/plain": [
       "True"
      ]
     },
     "execution_count": 108,
     "metadata": {},
     "output_type": "execute_result"
    }
   ],
   "source": [
    "a is b"
   ]
  },
  {
   "cell_type": "code",
   "execution_count": 110,
   "id": "c871e152",
   "metadata": {},
   "outputs": [
    {
     "data": {
      "text/plain": [
       "False"
      ]
     },
     "execution_count": 110,
     "metadata": {},
     "output_type": "execute_result"
    }
   ],
   "source": [
    "a is not b"
   ]
  },
  {
   "cell_type": "code",
   "execution_count": 111,
   "id": "82270308",
   "metadata": {},
   "outputs": [],
   "source": [
    "# assignment---> \n",
    "# =, +=, -= , *="
   ]
  },
  {
   "cell_type": "code",
   "execution_count": 113,
   "id": "2c2280c0",
   "metadata": {},
   "outputs": [],
   "source": [
    "r=10"
   ]
  },
  {
   "cell_type": "code",
   "execution_count": 114,
   "id": "ffd76e9b",
   "metadata": {},
   "outputs": [],
   "source": [
    "r+=30"
   ]
  },
  {
   "cell_type": "code",
   "execution_count": 115,
   "id": "07a872b9",
   "metadata": {},
   "outputs": [
    {
     "data": {
      "text/plain": [
       "40"
      ]
     },
     "execution_count": 115,
     "metadata": {},
     "output_type": "execute_result"
    }
   ],
   "source": [
    "r"
   ]
  },
  {
   "cell_type": "code",
   "execution_count": 116,
   "id": "5ef1f8ed",
   "metadata": {},
   "outputs": [
    {
     "data": {
      "text/plain": [
       "90"
      ]
     },
     "execution_count": 116,
     "metadata": {},
     "output_type": "execute_result"
    }
   ],
   "source": [
    "r+50"
   ]
  },
  {
   "cell_type": "code",
   "execution_count": 117,
   "id": "8c61d824",
   "metadata": {},
   "outputs": [
    {
     "data": {
      "text/plain": [
       "40"
      ]
     },
     "execution_count": 117,
     "metadata": {},
     "output_type": "execute_result"
    }
   ],
   "source": [
    "r"
   ]
  },
  {
   "cell_type": "code",
   "execution_count": 118,
   "id": "4c58bfca",
   "metadata": {},
   "outputs": [],
   "source": [
    "r+=50"
   ]
  },
  {
   "cell_type": "code",
   "execution_count": 119,
   "id": "ead4ce5c",
   "metadata": {},
   "outputs": [
    {
     "data": {
      "text/plain": [
       "90"
      ]
     },
     "execution_count": 119,
     "metadata": {},
     "output_type": "execute_result"
    }
   ],
   "source": [
    "r"
   ]
  },
  {
   "cell_type": "code",
   "execution_count": 120,
   "id": "12d190b6",
   "metadata": {},
   "outputs": [],
   "source": [
    "r-=20"
   ]
  },
  {
   "cell_type": "code",
   "execution_count": 121,
   "id": "36d229cf",
   "metadata": {},
   "outputs": [
    {
     "data": {
      "text/plain": [
       "70"
      ]
     },
     "execution_count": 121,
     "metadata": {},
     "output_type": "execute_result"
    }
   ],
   "source": [
    "r"
   ]
  },
  {
   "cell_type": "code",
   "execution_count": 122,
   "id": "01e493ce",
   "metadata": {},
   "outputs": [],
   "source": [
    "r*=10"
   ]
  },
  {
   "cell_type": "code",
   "execution_count": 123,
   "id": "5085e001",
   "metadata": {},
   "outputs": [
    {
     "data": {
      "text/plain": [
       "700"
      ]
     },
     "execution_count": 123,
     "metadata": {},
     "output_type": "execute_result"
    }
   ],
   "source": [
    "r"
   ]
  },
  {
   "cell_type": "code",
   "execution_count": null,
   "id": "4e6f43ff",
   "metadata": {},
   "outputs": [],
   "source": []
  },
  {
   "cell_type": "code",
   "execution_count": 125,
   "id": "aed474d9",
   "metadata": {},
   "outputs": [],
   "source": [
    "# comparision------> \n",
    "# <\n",
    "# > \n",
    "# ==\n",
    "# !=\n",
    "# <=\n",
    "# >=\n",
    "   # return or False"
   ]
  },
  {
   "cell_type": "code",
   "execution_count": 126,
   "id": "67c6d559",
   "metadata": {},
   "outputs": [],
   "source": [
    "a=20"
   ]
  },
  {
   "cell_type": "code",
   "execution_count": 127,
   "id": "0a2897a4",
   "metadata": {},
   "outputs": [
    {
     "data": {
      "text/plain": [
       "True"
      ]
     },
     "execution_count": 127,
     "metadata": {},
     "output_type": "execute_result"
    }
   ],
   "source": [
    "a<30"
   ]
  },
  {
   "cell_type": "code",
   "execution_count": 128,
   "id": "93196972",
   "metadata": {},
   "outputs": [
    {
     "data": {
      "text/plain": [
       "False"
      ]
     },
     "execution_count": 128,
     "metadata": {},
     "output_type": "execute_result"
    }
   ],
   "source": [
    "a<20"
   ]
  },
  {
   "cell_type": "code",
   "execution_count": 129,
   "id": "79eb1376",
   "metadata": {},
   "outputs": [
    {
     "data": {
      "text/plain": [
       "True"
      ]
     },
     "execution_count": 129,
     "metadata": {},
     "output_type": "execute_result"
    }
   ],
   "source": [
    "a<=20"
   ]
  },
  {
   "cell_type": "code",
   "execution_count": 130,
   "id": "dd4b3e76",
   "metadata": {},
   "outputs": [
    {
     "data": {
      "text/plain": [
       "False"
      ]
     },
     "execution_count": 130,
     "metadata": {},
     "output_type": "execute_result"
    }
   ],
   "source": [
    "a>20"
   ]
  },
  {
   "cell_type": "code",
   "execution_count": 131,
   "id": "89a2134c",
   "metadata": {},
   "outputs": [
    {
     "data": {
      "text/plain": [
       "True"
      ]
     },
     "execution_count": 131,
     "metadata": {},
     "output_type": "execute_result"
    }
   ],
   "source": [
    "a>=20"
   ]
  },
  {
   "cell_type": "code",
   "execution_count": 132,
   "id": "42d01883",
   "metadata": {},
   "outputs": [
    {
     "data": {
      "text/plain": [
       "True"
      ]
     },
     "execution_count": 132,
     "metadata": {},
     "output_type": "execute_result"
    }
   ],
   "source": [
    "a >10"
   ]
  },
  {
   "cell_type": "code",
   "execution_count": 133,
   "id": "09adc8ce",
   "metadata": {},
   "outputs": [
    {
     "data": {
      "text/plain": [
       "True"
      ]
     },
     "execution_count": 133,
     "metadata": {},
     "output_type": "execute_result"
    }
   ],
   "source": [
    "a==20"
   ]
  },
  {
   "cell_type": "code",
   "execution_count": 134,
   "id": "4965f366",
   "metadata": {},
   "outputs": [
    {
     "data": {
      "text/plain": [
       "False"
      ]
     },
     "execution_count": 134,
     "metadata": {},
     "output_type": "execute_result"
    }
   ],
   "source": [
    "a==19"
   ]
  },
  {
   "cell_type": "code",
   "execution_count": 135,
   "id": "e0b9efa2",
   "metadata": {},
   "outputs": [
    {
     "data": {
      "text/plain": [
       "False"
      ]
     },
     "execution_count": 135,
     "metadata": {},
     "output_type": "execute_result"
    }
   ],
   "source": [
    "a!=20"
   ]
  },
  {
   "cell_type": "code",
   "execution_count": 136,
   "id": "9d4a440c",
   "metadata": {},
   "outputs": [
    {
     "data": {
      "text/plain": [
       "True"
      ]
     },
     "execution_count": 136,
     "metadata": {},
     "output_type": "execute_result"
    }
   ],
   "source": [
    "a!=19"
   ]
  },
  {
   "cell_type": "code",
   "execution_count": null,
   "id": "7f6c0030",
   "metadata": {},
   "outputs": [
    {
     "name": "stderr",
     "output_type": "stream",
     "text": [
      " 80%|███████████████████████████████████████▎         | 241/300 [04:02<00:59,  1.00s/it]"
     ]
    }
   ],
   "source": [
    "from tqdm import tqdm\n",
    "from time import sleep\n",
    "for _  in tqdm(range(300)):\n",
    "    sleep(1)"
   ]
  },
  {
   "cell_type": "code",
   "execution_count": null,
   "id": "47283323",
   "metadata": {},
   "outputs": [],
   "source": []
  }
 ],
 "metadata": {
  "kernelspec": {
   "display_name": "Python 3 (ipykernel)",
   "language": "python",
   "name": "python3"
  },
  "language_info": {
   "codemirror_mode": {
    "name": "ipython",
    "version": 3
   },
   "file_extension": ".py",
   "mimetype": "text/x-python",
   "name": "python",
   "nbconvert_exporter": "python",
   "pygments_lexer": "ipython3",
   "version": "3.9.6"
  }
 },
 "nbformat": 4,
 "nbformat_minor": 5
}
