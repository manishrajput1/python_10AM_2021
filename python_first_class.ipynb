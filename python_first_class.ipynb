{
 "cells": [
  {
   "cell_type": "code",
   "execution_count": 1,
   "id": "16747cdb",
   "metadata": {},
   "outputs": [
    {
     "data": {
      "text/plain": [
       "'C:\\\\Users\\\\rmani'"
      ]
     },
     "execution_count": 1,
     "metadata": {},
     "output_type": "execute_result"
    }
   ],
   "source": [
    "pwd"
   ]
  },
  {
   "cell_type": "code",
   "execution_count": 2,
   "id": "0912525c",
   "metadata": {},
   "outputs": [],
   "source": [
    "import os"
   ]
  },
  {
   "cell_type": "code",
   "execution_count": 3,
   "id": "3f56e6ad",
   "metadata": {},
   "outputs": [
    {
     "data": {
      "text/plain": [
       "'C:\\\\Users\\\\rmani'"
      ]
     },
     "execution_count": 3,
     "metadata": {},
     "output_type": "execute_result"
    }
   ],
   "source": [
    "pwd"
   ]
  },
  {
   "cell_type": "code",
   "execution_count": 4,
   "id": "dd6c8f12",
   "metadata": {},
   "outputs": [],
   "source": [
    "os.chdir('C:\\\\Users\\\\rmani\\\\desktop')"
   ]
  },
  {
   "cell_type": "code",
   "execution_count": 5,
   "id": "4dcf0fe0",
   "metadata": {},
   "outputs": [
    {
     "data": {
      "text/plain": [
       "'C:\\\\Users\\\\rmani\\\\desktop'"
      ]
     },
     "execution_count": 5,
     "metadata": {},
     "output_type": "execute_result"
    }
   ],
   "source": [
    "pwd"
   ]
  },
  {
   "cell_type": "code",
   "execution_count": null,
   "id": "b439b331",
   "metadata": {},
   "outputs": [],
   "source": []
  },
  {
   "cell_type": "code",
   "execution_count": null,
   "id": "ba90f725",
   "metadata": {},
   "outputs": [],
   "source": []
  },
  {
   "cell_type": "code",
   "execution_count": null,
   "id": "92254e66",
   "metadata": {},
   "outputs": [],
   "source": []
  },
  {
   "cell_type": "code",
   "execution_count": null,
   "id": "b8b9ec24",
   "metadata": {},
   "outputs": [],
   "source": []
  },
  {
   "cell_type": "code",
   "execution_count": null,
   "id": "389d6682",
   "metadata": {},
   "outputs": [],
   "source": []
  },
  {
   "cell_type": "markdown",
   "id": "b4a17bf7",
   "metadata": {},
   "source": [
    "      Data type: \n",
    "           1. numbers --->( int, float, complex)\n",
    "           2. str  ----> string (single line , paragraph)\n",
    "           3. tuple ---> collection of data type ( immutable data type)\n",
    "           4. list ----> collection of data type( mutable data type)\n",
    "           5. dict---->  key value pair \n",
    "           6. set ---> un-ordered and unique value"
   ]
  },
  {
   "cell_type": "markdown",
   "id": "8b9669d1",
   "metadata": {},
   "source": [
    "# numbers data type"
   ]
  },
  {
   "cell_type": "markdown",
   "id": "7564b30b",
   "metadata": {},
   "source": [
    "    **numbers---->**\n",
    "     int---> real number without decimal with base 10\n",
    "     float---> with decimal values \n",
    "     complex---> collection of real and imaginary part (a+bj)\n",
    "     \n",
    "     \n"
   ]
  },
  {
   "cell_type": "code",
   "execution_count": 6,
   "id": "a1624cca",
   "metadata": {},
   "outputs": [],
   "source": [
    "a=7678687"
   ]
  },
  {
   "cell_type": "code",
   "execution_count": 7,
   "id": "fe1dcf68",
   "metadata": {},
   "outputs": [
    {
     "data": {
      "text/plain": [
       "int"
      ]
     },
     "execution_count": 7,
     "metadata": {},
     "output_type": "execute_result"
    }
   ],
   "source": [
    "type(a)"
   ]
  },
  {
   "cell_type": "code",
   "execution_count": 8,
   "id": "fd7615ac",
   "metadata": {},
   "outputs": [],
   "source": [
    "r=-6567576"
   ]
  },
  {
   "cell_type": "code",
   "execution_count": 9,
   "id": "caa4db04",
   "metadata": {},
   "outputs": [
    {
     "data": {
      "text/plain": [
       "int"
      ]
     },
     "execution_count": 9,
     "metadata": {},
     "output_type": "execute_result"
    }
   ],
   "source": [
    "type(r)"
   ]
  },
  {
   "cell_type": "code",
   "execution_count": 10,
   "id": "53d2a2b9",
   "metadata": {},
   "outputs": [
    {
     "name": "stdout",
     "output_type": "stream",
     "text": [
      "-6567576\n"
     ]
    }
   ],
   "source": [
    "print(r)"
   ]
  },
  {
   "cell_type": "code",
   "execution_count": 12,
   "id": "691ee82b",
   "metadata": {},
   "outputs": [],
   "source": [
    "t=567578."
   ]
  },
  {
   "cell_type": "code",
   "execution_count": 13,
   "id": "38c6de04",
   "metadata": {},
   "outputs": [
    {
     "data": {
      "text/plain": [
       "float"
      ]
     },
     "execution_count": 13,
     "metadata": {},
     "output_type": "execute_result"
    }
   ],
   "source": [
    "type(t)"
   ]
  },
  {
   "cell_type": "code",
   "execution_count": 14,
   "id": "d6fd6be9",
   "metadata": {},
   "outputs": [
    {
     "name": "stdout",
     "output_type": "stream",
     "text": [
      "567578.0\n"
     ]
    }
   ],
   "source": [
    "print(t)"
   ]
  },
  {
   "cell_type": "code",
   "execution_count": 15,
   "id": "5fe2a3fc",
   "metadata": {},
   "outputs": [],
   "source": [
    "r=7+6j"
   ]
  },
  {
   "cell_type": "code",
   "execution_count": 16,
   "id": "35c78fbd",
   "metadata": {},
   "outputs": [
    {
     "data": {
      "text/plain": [
       "complex"
      ]
     },
     "execution_count": 16,
     "metadata": {},
     "output_type": "execute_result"
    }
   ],
   "source": [
    "type(r)"
   ]
  },
  {
   "cell_type": "code",
   "execution_count": 17,
   "id": "17cc1e6d",
   "metadata": {},
   "outputs": [
    {
     "data": {
      "text/plain": [
       "7.0"
      ]
     },
     "execution_count": 17,
     "metadata": {},
     "output_type": "execute_result"
    }
   ],
   "source": [
    "r.real"
   ]
  },
  {
   "cell_type": "code",
   "execution_count": 18,
   "id": "1180e9c7",
   "metadata": {},
   "outputs": [
    {
     "data": {
      "text/plain": [
       "6.0"
      ]
     },
     "execution_count": 18,
     "metadata": {},
     "output_type": "execute_result"
    }
   ],
   "source": [
    "r.imag"
   ]
  },
  {
   "cell_type": "code",
   "execution_count": 19,
   "id": "623a7f20",
   "metadata": {},
   "outputs": [
    {
     "data": {
      "text/plain": [
       "(7+6j)"
      ]
     },
     "execution_count": 19,
     "metadata": {},
     "output_type": "execute_result"
    }
   ],
   "source": [
    "r"
   ]
  },
  {
   "cell_type": "code",
   "execution_count": 20,
   "id": "a52506ac",
   "metadata": {},
   "outputs": [
    {
     "data": {
      "text/plain": [
       "(34+0j)"
      ]
     },
     "execution_count": 20,
     "metadata": {},
     "output_type": "execute_result"
    }
   ],
   "source": [
    "(5+3j)*(5-3j)"
   ]
  },
  {
   "cell_type": "markdown",
   "id": "f7b2d97d",
   "metadata": {},
   "source": [
    "    String ---> str:   ---> \n",
    "    * a single char or collection of char inside the ' ', \" \" , ''' '''            1. single line , paragraph ---->\n",
    "      attribute\n",
    "            "
   ]
  },
  {
   "cell_type": "code",
   "execution_count": 21,
   "id": "4b76e562",
   "metadata": {},
   "outputs": [],
   "source": [
    "s='hello world'"
   ]
  },
  {
   "cell_type": "code",
   "execution_count": 22,
   "id": "79b376f5",
   "metadata": {},
   "outputs": [
    {
     "data": {
      "text/plain": [
       "str"
      ]
     },
     "execution_count": 22,
     "metadata": {},
     "output_type": "execute_result"
    }
   ],
   "source": [
    "type(s)"
   ]
  },
  {
   "cell_type": "code",
   "execution_count": 23,
   "id": "a9043ad0",
   "metadata": {},
   "outputs": [],
   "source": [
    "f=\"hello manish\""
   ]
  },
  {
   "cell_type": "code",
   "execution_count": 24,
   "id": "3dc1a59b",
   "metadata": {},
   "outputs": [
    {
     "data": {
      "text/plain": [
       "str"
      ]
     },
     "execution_count": 24,
     "metadata": {},
     "output_type": "execute_result"
    }
   ],
   "source": [
    "type(f)"
   ]
  },
  {
   "cell_type": "code",
   "execution_count": 25,
   "id": "00198d54",
   "metadata": {},
   "outputs": [],
   "source": [
    "g='''hello manish'''"
   ]
  },
  {
   "cell_type": "code",
   "execution_count": 26,
   "id": "a7c1d23e",
   "metadata": {},
   "outputs": [
    {
     "data": {
      "text/plain": [
       "str"
      ]
     },
     "execution_count": 26,
     "metadata": {},
     "output_type": "execute_result"
    }
   ],
   "source": [
    "type(g)"
   ]
  },
  {
   "cell_type": "code",
   "execution_count": 29,
   "id": "753e6633",
   "metadata": {},
   "outputs": [],
   "source": [
    "t='''hello manish\n",
    "how \n",
    "are you '''"
   ]
  },
  {
   "cell_type": "code",
   "execution_count": 30,
   "id": "8506db12",
   "metadata": {},
   "outputs": [
    {
     "name": "stdout",
     "output_type": "stream",
     "text": [
      "hello manish\n",
      "how \n",
      "are you \n"
     ]
    }
   ],
   "source": [
    "print(t)"
   ]
  },
  {
   "cell_type": "code",
   "execution_count": 32,
   "id": "c16f4360",
   "metadata": {},
   "outputs": [],
   "source": [
    "t='hello manish\\  ### # \\ \\t \\n ' ' , # , $\n",
    "how are you\\\n",
    "hello java'"
   ]
  },
  {
   "cell_type": "code",
   "execution_count": 33,
   "id": "64e6de84",
   "metadata": {},
   "outputs": [
    {
     "name": "stdout",
     "output_type": "stream",
     "text": [
      "hello manishhow are youhello java\n"
     ]
    }
   ],
   "source": [
    "print(t)"
   ]
  },
  {
   "cell_type": "code",
   "execution_count": 34,
   "id": "51c53e96",
   "metadata": {},
   "outputs": [
    {
     "name": "stdout",
     "output_type": "stream",
     "text": [
      "['__add__', '__class__', '__contains__', '__delattr__', '__dir__', '__doc__', '__eq__', '__format__', '__ge__', '__getattribute__', '__getitem__', '__getnewargs__', '__gt__', '__hash__', '__init__', '__init_subclass__', '__iter__', '__le__', '__len__', '__lt__', '__mod__', '__mul__', '__ne__', '__new__', '__reduce__', '__reduce_ex__', '__repr__', '__rmod__', '__rmul__', '__setattr__', '__sizeof__', '__str__', '__subclasshook__', 'capitalize', 'casefold', 'center', 'count', 'encode', 'endswith', 'expandtabs', 'find', 'format', 'format_map', 'index', 'isalnum', 'isalpha', 'isascii', 'isdecimal', 'isdigit', 'isidentifier', 'islower', 'isnumeric', 'isprintable', 'isspace', 'istitle', 'isupper', 'join', 'ljust', 'lower', 'lstrip', 'maketrans', 'partition', 'removeprefix', 'removesuffix', 'replace', 'rfind', 'rindex', 'rjust', 'rpartition', 'rsplit', 'rstrip', 'split', 'splitlines', 'startswith', 'strip', 'swapcase', 'title', 'translate', 'upper', 'zfill']\n"
     ]
    }
   ],
   "source": [
    "print(dir(str))   # dunder method"
   ]
  },
  {
   "cell_type": "code",
   "execution_count": 35,
   "id": "e219d93c",
   "metadata": {},
   "outputs": [
    {
     "name": "stderr",
     "output_type": "stream",
     "text": [
      "100%|█████████████████████████████████████████████████| 600/600 [10:05<00:00,  1.01s/it]\n"
     ]
    }
   ],
   "source": [
    "from tqdm import tqdm\n",
    "from time import sleep\n",
    "for i in tqdm(range(600)):\n",
    "    sleep(1)"
   ]
  },
  {
   "cell_type": "code",
   "execution_count": 36,
   "id": "19f5db9f",
   "metadata": {},
   "outputs": [
    {
     "name": "stdout",
     "output_type": "stream",
     "text": [
      "capitalize\n",
      "casefold\n",
      "center\n",
      "count\n",
      "encode\n",
      "endswith\n",
      "expandtabs\n",
      "find\n",
      "format\n",
      "format_map\n",
      "index\n",
      "isalnum\n",
      "isalpha\n",
      "isascii\n",
      "isdecimal\n",
      "isdigit\n",
      "isidentifier\n",
      "islower\n",
      "isnumeric\n",
      "isprintable\n",
      "isspace\n",
      "istitle\n",
      "isupper\n",
      "join\n",
      "ljust\n",
      "lower\n",
      "lstrip\n",
      "maketrans\n",
      "partition\n",
      "removeprefix\n",
      "removesuffix\n",
      "replace\n",
      "rfind\n",
      "rindex\n",
      "rjust\n",
      "rpartition\n",
      "rsplit\n",
      "rstrip\n",
      "split\n",
      "splitlines\n",
      "startswith\n",
      "strip\n",
      "swapcase\n",
      "title\n",
      "translate\n",
      "upper\n",
      "zfill\n"
     ]
    }
   ],
   "source": [
    "print(*[fun for fun in dir(str) if fun[0].islower()],sep='\\n')"
   ]
  },
  {
   "cell_type": "code",
   "execution_count": 37,
   "id": "14d006bb",
   "metadata": {},
   "outputs": [],
   "source": [
    "s='heLLo ManIsh'"
   ]
  },
  {
   "cell_type": "code",
   "execution_count": 38,
   "id": "8ba72458",
   "metadata": {},
   "outputs": [],
   "source": [
    "s.capitalize?"
   ]
  },
  {
   "cell_type": "code",
   "execution_count": 39,
   "id": "b25c0069",
   "metadata": {},
   "outputs": [],
   "source": [
    "print?"
   ]
  },
  {
   "cell_type": "code",
   "execution_count": 40,
   "id": "4c3360e9",
   "metadata": {},
   "outputs": [
    {
     "name": "stdout",
     "output_type": "stream",
     "text": [
      "Help on built-in function capitalize:\n",
      "\n",
      "capitalize() method of builtins.str instance\n",
      "    Return a capitalized version of the string.\n",
      "    \n",
      "    More specifically, make the first character have upper case and the rest lower\n",
      "    case.\n",
      "\n"
     ]
    }
   ],
   "source": [
    "help(s.capitalize)"
   ]
  },
  {
   "cell_type": "code",
   "execution_count": 41,
   "id": "ab52b68e",
   "metadata": {},
   "outputs": [],
   "source": [
    "# case change\n",
    "# capitalize\n",
    "# upper\n",
    "# lower\n",
    "# swapcase\n",
    "# title"
   ]
  },
  {
   "cell_type": "markdown",
   "id": "00e4d594",
   "metadata": {},
   "source": [
    "**numbers**"
   ]
  },
  {
   "cell_type": "code",
   "execution_count": 42,
   "id": "13147f40",
   "metadata": {},
   "outputs": [
    {
     "name": "stdout",
     "output_type": "stream",
     "text": [
      "original :  heLLo ManIsh\n",
      "capitalize:  Hello manish\n",
      "upper :  HELLO MANISH\n",
      "lower:  hello manish\n",
      "swapcase:  HEllO mANiSH\n",
      "titled:  Hello Manish\n"
     ]
    }
   ],
   "source": [
    "print('original : ',s)\n",
    "print('capitalize: ',s.capitalize())\n",
    "print('upper : ',s.upper())\n",
    "print('lower: ',s.lower())\n",
    "print('swapcase: ',s.swapcase())\n",
    "print('titled: ',s.title())"
   ]
  },
  {
   "cell_type": "code",
   "execution_count": 43,
   "id": "073d9dee",
   "metadata": {},
   "outputs": [
    {
     "data": {
      "text/plain": [
       "'heLLo ManIsh'"
      ]
     },
     "execution_count": 43,
     "metadata": {},
     "output_type": "execute_result"
    }
   ],
   "source": [
    "s"
   ]
  },
  {
   "cell_type": "code",
   "execution_count": 44,
   "id": "4d461456",
   "metadata": {},
   "outputs": [],
   "source": [
    "r=s.upper()"
   ]
  },
  {
   "cell_type": "code",
   "execution_count": 45,
   "id": "ccf5afaf",
   "metadata": {},
   "outputs": [
    {
     "data": {
      "text/plain": [
       "'HELLO MANISH'"
      ]
     },
     "execution_count": 45,
     "metadata": {},
     "output_type": "execute_result"
    }
   ],
   "source": [
    "r"
   ]
  },
  {
   "cell_type": "code",
   "execution_count": 46,
   "id": "123552b9",
   "metadata": {},
   "outputs": [
    {
     "data": {
      "text/plain": [
       "'heLLo ManIsh'"
      ]
     },
     "execution_count": 46,
     "metadata": {},
     "output_type": "execute_result"
    }
   ],
   "source": [
    "s"
   ]
  },
  {
   "cell_type": "code",
   "execution_count": 47,
   "id": "9328a6af",
   "metadata": {},
   "outputs": [
    {
     "data": {
      "text/plain": [
       "'HELLO MANISH'"
      ]
     },
     "execution_count": 47,
     "metadata": {},
     "output_type": "execute_result"
    }
   ],
   "source": [
    "s.upper()"
   ]
  },
  {
   "cell_type": "code",
   "execution_count": 48,
   "id": "58743486",
   "metadata": {},
   "outputs": [
    {
     "data": {
      "text/plain": [
       "'heLLo ManIsh'"
      ]
     },
     "execution_count": 48,
     "metadata": {},
     "output_type": "execute_result"
    }
   ],
   "source": [
    "s"
   ]
  },
  {
   "cell_type": "code",
   "execution_count": 49,
   "id": "c60c4f70",
   "metadata": {},
   "outputs": [
    {
     "data": {
      "text/plain": [
       "'HELLO MANISH'"
      ]
     },
     "execution_count": 49,
     "metadata": {},
     "output_type": "execute_result"
    }
   ],
   "source": [
    "r"
   ]
  },
  {
   "cell_type": "code",
   "execution_count": 50,
   "id": "c91abbec",
   "metadata": {},
   "outputs": [],
   "source": [
    "o=r.lower()"
   ]
  },
  {
   "cell_type": "code",
   "execution_count": 51,
   "id": "32cfb526",
   "metadata": {},
   "outputs": [
    {
     "data": {
      "text/plain": [
       "'hello manish'"
      ]
     },
     "execution_count": 51,
     "metadata": {},
     "output_type": "execute_result"
    }
   ],
   "source": [
    "o"
   ]
  },
  {
   "cell_type": "code",
   "execution_count": 52,
   "id": "9c09c051",
   "metadata": {},
   "outputs": [
    {
     "data": {
      "text/plain": [
       "'HELLO MANISH'"
      ]
     },
     "execution_count": 52,
     "metadata": {},
     "output_type": "execute_result"
    }
   ],
   "source": [
    "r"
   ]
  },
  {
   "cell_type": "code",
   "execution_count": 53,
   "id": "adb36b92",
   "metadata": {},
   "outputs": [],
   "source": [
    "#center \n",
    "# count\n",
    "# isalpha\n",
    "# isdigit\n",
    "# isalnum\n",
    "# split\n",
    "# strip\n",
    "# join"
   ]
  },
  {
   "cell_type": "code",
   "execution_count": 54,
   "id": "0ae7c75c",
   "metadata": {},
   "outputs": [
    {
     "data": {
      "text/plain": [
       "'heLLo ManIsh'"
      ]
     },
     "execution_count": 54,
     "metadata": {},
     "output_type": "execute_result"
    }
   ],
   "source": [
    "s"
   ]
  },
  {
   "cell_type": "code",
   "execution_count": 56,
   "id": "dabd1c21",
   "metadata": {},
   "outputs": [
    {
     "data": {
      "text/plain": [
       "'                             heLLo ManIsh                             '"
      ]
     },
     "execution_count": 56,
     "metadata": {},
     "output_type": "execute_result"
    }
   ],
   "source": [
    "s.center(70)"
   ]
  },
  {
   "cell_type": "code",
   "execution_count": 57,
   "id": "98cdec36",
   "metadata": {},
   "outputs": [
    {
     "data": {
      "text/plain": [
       "'heLLo ManIsh'"
      ]
     },
     "execution_count": 57,
     "metadata": {},
     "output_type": "execute_result"
    }
   ],
   "source": [
    "s"
   ]
  },
  {
   "cell_type": "code",
   "execution_count": 59,
   "id": "8dcc8d3b",
   "metadata": {},
   "outputs": [
    {
     "data": {
      "text/plain": [
       "0"
      ]
     },
     "execution_count": 59,
     "metadata": {},
     "output_type": "execute_result"
    }
   ],
   "source": [
    "s.count('hello')"
   ]
  },
  {
   "cell_type": "code",
   "execution_count": 78,
   "id": "4e0261ad",
   "metadata": {},
   "outputs": [],
   "source": [
    "t='hello manish hello jeet hello shan hello pytho  manish'"
   ]
  },
  {
   "cell_type": "code",
   "execution_count": 61,
   "id": "2b8f86df",
   "metadata": {},
   "outputs": [
    {
     "data": {
      "text/plain": [
       "4"
      ]
     },
     "execution_count": 61,
     "metadata": {},
     "output_type": "execute_result"
    }
   ],
   "source": [
    "t.count('hello')"
   ]
  },
  {
   "cell_type": "code",
   "execution_count": 62,
   "id": "78ee12ee",
   "metadata": {},
   "outputs": [],
   "source": [
    "data='''Python is an interpreted high-level general-purpose programming language. Its design philosophy emphasizes code readability with its use of significant indentation. Its language constructs as well as its object-oriented approach aim to help programmers write clear, logical code for small and large-scale projects.[30]\n",
    "\n",
    "Python is dynamically-typed and garbage-collected. It supports multiple programming paradigms, including structured (particularly, procedural), object-oriented and functional programming. It is often described as a \"batteries included\" language due to its comprehensive standard library.[31]\n",
    "\n",
    "Guido van Rossum began working on Python in the late 1980s, as a successor to the ABC programming language, and first released it in 1991 as Python 0.9.0.[32] Python 2.0 was released in 2000 and introduced new features, such as list comprehensions and a garbage collection system using reference counting. Python 3.0 was released in 2008 and was a major revision of the language that is not completely backward-compatible. Python 2 was discontinued with version 2.7.18 in 2020.[33]'''"
   ]
  },
  {
   "cell_type": "code",
   "execution_count": 65,
   "id": "febfcb2d",
   "metadata": {},
   "outputs": [
    {
     "data": {
      "text/plain": [
       "33"
      ]
     },
     "execution_count": 65,
     "metadata": {},
     "output_type": "execute_result"
    }
   ],
   "source": [
    "data.lower().count('p')"
   ]
  },
  {
   "cell_type": "code",
   "execution_count": 66,
   "id": "187452f7",
   "metadata": {},
   "outputs": [
    {
     "data": {
      "text/plain": [
       "'heLLo ManIsh'"
      ]
     },
     "execution_count": 66,
     "metadata": {},
     "output_type": "execute_result"
    }
   ],
   "source": [
    "s"
   ]
  },
  {
   "cell_type": "code",
   "execution_count": 67,
   "id": "8565b21d",
   "metadata": {},
   "outputs": [
    {
     "data": {
      "text/plain": [
       "False"
      ]
     },
     "execution_count": 67,
     "metadata": {},
     "output_type": "execute_result"
    }
   ],
   "source": [
    "s.isalpha()"
   ]
  },
  {
   "cell_type": "code",
   "execution_count": 68,
   "id": "df22455b",
   "metadata": {},
   "outputs": [],
   "source": [
    "r='maNishRajpUt'"
   ]
  },
  {
   "cell_type": "code",
   "execution_count": 69,
   "id": "82113076",
   "metadata": {},
   "outputs": [
    {
     "data": {
      "text/plain": [
       "True"
      ]
     },
     "execution_count": 69,
     "metadata": {},
     "output_type": "execute_result"
    }
   ],
   "source": [
    "r.isalpha()"
   ]
  },
  {
   "cell_type": "code",
   "execution_count": 70,
   "id": "938950a3",
   "metadata": {},
   "outputs": [],
   "source": [
    "t='8768796876876'"
   ]
  },
  {
   "cell_type": "code",
   "execution_count": 71,
   "id": "dd994723",
   "metadata": {},
   "outputs": [
    {
     "data": {
      "text/plain": [
       "str"
      ]
     },
     "execution_count": 71,
     "metadata": {},
     "output_type": "execute_result"
    }
   ],
   "source": [
    "type(t)"
   ]
  },
  {
   "cell_type": "code",
   "execution_count": 72,
   "id": "eacbc4d9",
   "metadata": {},
   "outputs": [
    {
     "data": {
      "text/plain": [
       "False"
      ]
     },
     "execution_count": 72,
     "metadata": {},
     "output_type": "execute_result"
    }
   ],
   "source": [
    "t.isalpha()"
   ]
  },
  {
   "cell_type": "code",
   "execution_count": 73,
   "id": "6e998e8c",
   "metadata": {},
   "outputs": [
    {
     "data": {
      "text/plain": [
       "True"
      ]
     },
     "execution_count": 73,
     "metadata": {},
     "output_type": "execute_result"
    }
   ],
   "source": [
    "t.isdigit()"
   ]
  },
  {
   "cell_type": "code",
   "execution_count": 74,
   "id": "25b9c070",
   "metadata": {},
   "outputs": [],
   "source": [
    "y='mani374hgrjk'"
   ]
  },
  {
   "cell_type": "code",
   "execution_count": 75,
   "id": "8a1be63d",
   "metadata": {},
   "outputs": [
    {
     "data": {
      "text/plain": [
       "True"
      ]
     },
     "execution_count": 75,
     "metadata": {},
     "output_type": "execute_result"
    }
   ],
   "source": [
    "y.isalnum()"
   ]
  },
  {
   "cell_type": "code",
   "execution_count": 76,
   "id": "6c8ec59c",
   "metadata": {},
   "outputs": [
    {
     "data": {
      "text/plain": [
       "'maNishRajpUt'"
      ]
     },
     "execution_count": 76,
     "metadata": {},
     "output_type": "execute_result"
    }
   ],
   "source": [
    "r"
   ]
  },
  {
   "cell_type": "code",
   "execution_count": 79,
   "id": "932ded2e",
   "metadata": {},
   "outputs": [
    {
     "data": {
      "text/plain": [
       "'hello manish hello jeet hello shan hello pytho  manish'"
      ]
     },
     "execution_count": 79,
     "metadata": {},
     "output_type": "execute_result"
    }
   ],
   "source": [
    "t"
   ]
  },
  {
   "cell_type": "code",
   "execution_count": 83,
   "id": "b8afe8b4",
   "metadata": {},
   "outputs": [
    {
     "name": "stdout",
     "output_type": "stream",
     "text": [
      "['', ' manish ', ' jeet ', ' shan ', ' pytho  manish']\n"
     ]
    }
   ],
   "source": [
    "print(t.split('hello'))"
   ]
  },
  {
   "cell_type": "code",
   "execution_count": 84,
   "id": "3f5e4c4d",
   "metadata": {},
   "outputs": [],
   "source": [
    "o=t.split('hello')"
   ]
  },
  {
   "cell_type": "code",
   "execution_count": 85,
   "id": "c8157fd6",
   "metadata": {},
   "outputs": [
    {
     "data": {
      "text/plain": [
       "['', ' manish ', ' jeet ', ' shan ', ' pytho  manish']"
      ]
     },
     "execution_count": 85,
     "metadata": {},
     "output_type": "execute_result"
    }
   ],
   "source": [
    "o"
   ]
  },
  {
   "cell_type": "code",
   "execution_count": 86,
   "id": "3c5d9020",
   "metadata": {},
   "outputs": [
    {
     "data": {
      "text/plain": [
       "'hii manish hii jeet hii shan hii pytho  manish'"
      ]
     },
     "execution_count": 86,
     "metadata": {},
     "output_type": "execute_result"
    }
   ],
   "source": [
    "'hii'.join(o)"
   ]
  },
  {
   "cell_type": "code",
   "execution_count": 87,
   "id": "e64f9445",
   "metadata": {},
   "outputs": [
    {
     "data": {
      "text/plain": [
       "'hello manish hello jeet hello shan hello pytho  manish'"
      ]
     },
     "execution_count": 87,
     "metadata": {},
     "output_type": "execute_result"
    }
   ],
   "source": [
    "t"
   ]
  },
  {
   "cell_type": "code",
   "execution_count": 88,
   "id": "f3b97acd",
   "metadata": {},
   "outputs": [],
   "source": [
    "#strip"
   ]
  },
  {
   "cell_type": "code",
   "execution_count": 89,
   "id": "d3fb6e78",
   "metadata": {},
   "outputs": [],
   "source": [
    "usrname='     rmanish     '"
   ]
  },
  {
   "cell_type": "code",
   "execution_count": 90,
   "id": "c343c3a3",
   "metadata": {},
   "outputs": [
    {
     "data": {
      "text/plain": [
       "'     rmanish     '"
      ]
     },
     "execution_count": 90,
     "metadata": {},
     "output_type": "execute_result"
    }
   ],
   "source": [
    "usrname"
   ]
  },
  {
   "cell_type": "code",
   "execution_count": 91,
   "id": "e5c20ab9",
   "metadata": {},
   "outputs": [
    {
     "data": {
      "text/plain": [
       "'rmanish'"
      ]
     },
     "execution_count": 91,
     "metadata": {},
     "output_type": "execute_result"
    }
   ],
   "source": [
    "usrname.strip()"
   ]
  },
  {
   "cell_type": "code",
   "execution_count": 92,
   "id": "75569431",
   "metadata": {},
   "outputs": [],
   "source": [
    "o='-----manish-----'"
   ]
  },
  {
   "cell_type": "code",
   "execution_count": 96,
   "id": "74ff72f0",
   "metadata": {},
   "outputs": [
    {
     "data": {
      "text/plain": [
       "'manish'"
      ]
     },
     "execution_count": 96,
     "metadata": {},
     "output_type": "execute_result"
    }
   ],
   "source": [
    "o.strip('-')"
   ]
  },
  {
   "cell_type": "markdown",
   "id": "7d0427a7",
   "metadata": {},
   "source": [
    "    tuple: \n",
    "        (), tuple()"
   ]
  },
  {
   "cell_type": "code",
   "execution_count": 99,
   "id": "6be84dfd",
   "metadata": {},
   "outputs": [],
   "source": [
    " =('manish',23,'mathura','hello manish how are you')"
   ]
  },
  {
   "cell_type": "code",
   "execution_count": 100,
   "id": "1748481e",
   "metadata": {},
   "outputs": [
    {
     "data": {
      "text/plain": [
       "tuple"
      ]
     },
     "execution_count": 100,
     "metadata": {},
     "output_type": "execute_result"
    }
   ],
   "source": [
    "type(info)"
   ]
  },
  {
   "cell_type": "code",
   "execution_count": 101,
   "id": "69cdce49",
   "metadata": {},
   "outputs": [],
   "source": [
    "t=100,"
   ]
  },
  {
   "cell_type": "code",
   "execution_count": 102,
   "id": "1c506467",
   "metadata": {},
   "outputs": [
    {
     "data": {
      "text/plain": [
       "tuple"
      ]
     },
     "execution_count": 102,
     "metadata": {},
     "output_type": "execute_result"
    }
   ],
   "source": [
    "type(t)"
   ]
  },
  {
   "cell_type": "code",
   "execution_count": 103,
   "id": "16f5ded3",
   "metadata": {},
   "outputs": [],
   "source": [
    "s='hello manish'  # char wise index  0 to n-1 here n is length of string"
   ]
  },
  {
   "cell_type": "code",
   "execution_count": 104,
   "id": "2a498571",
   "metadata": {},
   "outputs": [
    {
     "data": {
      "text/plain": [
       "12"
      ]
     },
     "execution_count": 104,
     "metadata": {},
     "output_type": "execute_result"
    }
   ],
   "source": [
    "len(s)"
   ]
  },
  {
   "cell_type": "code",
   "execution_count": 105,
   "id": "4df99c27",
   "metadata": {},
   "outputs": [],
   "source": [
    "#index 0 to 11"
   ]
  },
  {
   "cell_type": "code",
   "execution_count": 106,
   "id": "4c5e5c9e",
   "metadata": {},
   "outputs": [
    {
     "data": {
      "text/plain": [
       "'h'"
      ]
     },
     "execution_count": 106,
     "metadata": {},
     "output_type": "execute_result"
    }
   ],
   "source": [
    "s[11]"
   ]
  },
  {
   "cell_type": "code",
   "execution_count": 107,
   "id": "4b122e13",
   "metadata": {},
   "outputs": [
    {
     "data": {
      "text/plain": [
       "'hello manish'"
      ]
     },
     "execution_count": 107,
     "metadata": {},
     "output_type": "execute_result"
    }
   ],
   "source": [
    "s"
   ]
  },
  {
   "cell_type": "code",
   "execution_count": 108,
   "id": "e640c548",
   "metadata": {},
   "outputs": [
    {
     "data": {
      "text/plain": [
       "'e'"
      ]
     },
     "execution_count": 108,
     "metadata": {},
     "output_type": "execute_result"
    }
   ],
   "source": [
    "s[1]"
   ]
  },
  {
   "cell_type": "code",
   "execution_count": 109,
   "id": "e6f8ce7e",
   "metadata": {},
   "outputs": [
    {
     "data": {
      "text/plain": [
       "'l'"
      ]
     },
     "execution_count": 109,
     "metadata": {},
     "output_type": "execute_result"
    }
   ],
   "source": [
    "s[2]"
   ]
  },
  {
   "cell_type": "code",
   "execution_count": 110,
   "id": "065557c4",
   "metadata": {},
   "outputs": [
    {
     "data": {
      "text/plain": [
       "'hello manish'"
      ]
     },
     "execution_count": 110,
     "metadata": {},
     "output_type": "execute_result"
    }
   ],
   "source": [
    "s"
   ]
  },
  {
   "cell_type": "code",
   "execution_count": 111,
   "id": "b9f4d51e",
   "metadata": {},
   "outputs": [
    {
     "data": {
      "text/plain": [
       "'ello'"
      ]
     },
     "execution_count": 111,
     "metadata": {},
     "output_type": "execute_result"
    }
   ],
   "source": [
    "s[1:5]"
   ]
  },
  {
   "cell_type": "code",
   "execution_count": 112,
   "id": "9b74348e",
   "metadata": {},
   "outputs": [
    {
     "data": {
      "text/plain": [
       "'el ai'"
      ]
     },
     "execution_count": 112,
     "metadata": {},
     "output_type": "execute_result"
    }
   ],
   "source": [
    "s[1:11:2]"
   ]
  },
  {
   "cell_type": "code",
   "execution_count": 113,
   "id": "5c609695",
   "metadata": {},
   "outputs": [
    {
     "data": {
      "text/plain": [
       "(100,)"
      ]
     },
     "execution_count": 113,
     "metadata": {},
     "output_type": "execute_result"
    }
   ],
   "source": []
  },
  {
   "cell_type": "code",
   "execution_count": 114,
   "id": "5f8e20c6",
   "metadata": {},
   "outputs": [
    {
     "data": {
      "text/plain": [
       "('manish', 23, 'mathura', 'hello manish how are you')"
      ]
     },
     "execution_count": 114,
     "metadata": {},
     "output_type": "execute_result"
    }
   ],
   "source": [
    "info"
   ]
  },
  {
   "cell_type": "code",
   "execution_count": 116,
   "id": "f56c1c9e",
   "metadata": {},
   "outputs": [
    {
     "name": "stdout",
     "output_type": "stream",
     "text": [
      "['__add__', '__class__', '__class_getitem__', '__contains__', '__delattr__', '__dir__', '__doc__', '__eq__', '__format__', '__ge__', '__getattribute__', '__getitem__', '__getnewargs__', '__gt__', '__hash__', '__init__', '__init_subclass__', '__iter__', '__le__', '__len__', '__lt__', '__mul__', '__ne__', '__new__', '__reduce__', '__reduce_ex__', '__repr__', '__rmul__', '__setattr__', '__sizeof__', '__str__', '__subclasshook__', 'count', 'index']\n"
     ]
    }
   ],
   "source": [
    "print(dir(tuple))"
   ]
  },
  {
   "cell_type": "markdown",
   "id": "4c5faa64",
   "metadata": {},
   "source": [
    "    list:\n",
    "     1. mutable \n",
    "     2. collection of data type\n",
    "     3. homogenous, hetrogeneous\n",
    " "
   ]
  },
  {
   "cell_type": "code",
   "execution_count": 117,
   "id": "40b27bec",
   "metadata": {},
   "outputs": [],
   "source": [
    "l=['manish','shan','jeet','hello',100]"
   ]
  },
  {
   "cell_type": "code",
   "execution_count": 118,
   "id": "940752e7",
   "metadata": {},
   "outputs": [
    {
     "data": {
      "text/plain": [
       "list"
      ]
     },
     "execution_count": 118,
     "metadata": {},
     "output_type": "execute_result"
    }
   ],
   "source": [
    "type(l)"
   ]
  },
  {
   "cell_type": "code",
   "execution_count": 120,
   "id": "41af40b1",
   "metadata": {},
   "outputs": [],
   "source": [
    "# add element in list:\n",
    "# append ---> add element end of the list\n",
    "# insert----> add element at location\n",
    "# extend----> multielement"
   ]
  },
  {
   "cell_type": "code",
   "execution_count": 121,
   "id": "61f781e5",
   "metadata": {},
   "outputs": [
    {
     "data": {
      "text/plain": [
       "['manish', 'shan', 'jeet', 'hello', 100]"
      ]
     },
     "execution_count": 121,
     "metadata": {},
     "output_type": "execute_result"
    }
   ],
   "source": [
    "l"
   ]
  },
  {
   "cell_type": "code",
   "execution_count": 122,
   "id": "be979fde",
   "metadata": {},
   "outputs": [],
   "source": [
    "l.append('jaipur')"
   ]
  },
  {
   "cell_type": "code",
   "execution_count": 123,
   "id": "b050ae94",
   "metadata": {},
   "outputs": [
    {
     "data": {
      "text/plain": [
       "['manish', 'shan', 'jeet', 'hello', 100, 'jaipur']"
      ]
     },
     "execution_count": 123,
     "metadata": {},
     "output_type": "execute_result"
    }
   ],
   "source": [
    "l"
   ]
  },
  {
   "cell_type": "code",
   "execution_count": 124,
   "id": "062b90f5",
   "metadata": {},
   "outputs": [],
   "source": [
    "l.insert(2,'delhi')"
   ]
  },
  {
   "cell_type": "code",
   "execution_count": 125,
   "id": "71983daf",
   "metadata": {},
   "outputs": [
    {
     "data": {
      "text/plain": [
       "['manish', 'shan', 'delhi', 'jeet', 'hello', 100, 'jaipur']"
      ]
     },
     "execution_count": 125,
     "metadata": {},
     "output_type": "execute_result"
    }
   ],
   "source": [
    "l"
   ]
  },
  {
   "cell_type": "code",
   "execution_count": 126,
   "id": "f663f7bb",
   "metadata": {},
   "outputs": [
    {
     "data": {
      "text/plain": [
       "[(0, 'manish'),\n",
       " (1, 'shan'),\n",
       " (2, 'delhi'),\n",
       " (3, 'jeet'),\n",
       " (4, 'hello'),\n",
       " (5, 100),\n",
       " (6, 'jaipur')]"
      ]
     },
     "execution_count": 126,
     "metadata": {},
     "output_type": "execute_result"
    }
   ],
   "source": [
    "list(enumerate(l))"
   ]
  },
  {
   "cell_type": "code",
   "execution_count": 127,
   "id": "66e3bf33",
   "metadata": {},
   "outputs": [],
   "source": [
    "l.extend(['neha','ram','ajmer'])"
   ]
  },
  {
   "cell_type": "code",
   "execution_count": 129,
   "id": "0b120f31",
   "metadata": {},
   "outputs": [
    {
     "name": "stdout",
     "output_type": "stream",
     "text": [
      "['manish', 'shan', 'delhi', 'jeet', 'hello', 100, 'jaipur', 'neha', 'ram', 'ajmer']\n"
     ]
    }
   ],
   "source": [
    "print(l)"
   ]
  },
  {
   "cell_type": "code",
   "execution_count": 131,
   "id": "3b23505f",
   "metadata": {},
   "outputs": [],
   "source": [
    "# remove \n",
    "# pop----> last element/ indexwise\n",
    "# remove----> element name\n",
    "# del----> multiple"
   ]
  },
  {
   "cell_type": "code",
   "execution_count": 132,
   "id": "5ed3ff46",
   "metadata": {},
   "outputs": [
    {
     "name": "stdout",
     "output_type": "stream",
     "text": [
      "['manish', 'shan', 'delhi', 'jeet', 'hello', 100, 'jaipur', 'neha', 'ram', 'ajmer']\n"
     ]
    }
   ],
   "source": [
    "print(l)"
   ]
  },
  {
   "cell_type": "code",
   "execution_count": 133,
   "id": "90f93b07",
   "metadata": {},
   "outputs": [
    {
     "data": {
      "text/plain": [
       "'ajmer'"
      ]
     },
     "execution_count": 133,
     "metadata": {},
     "output_type": "execute_result"
    }
   ],
   "source": [
    "l.pop()"
   ]
  },
  {
   "cell_type": "code",
   "execution_count": 134,
   "id": "35020f97",
   "metadata": {},
   "outputs": [
    {
     "name": "stdout",
     "output_type": "stream",
     "text": [
      "['manish', 'shan', 'delhi', 'jeet', 'hello', 100, 'jaipur', 'neha', 'ram']\n"
     ]
    }
   ],
   "source": [
    "print(l)"
   ]
  },
  {
   "cell_type": "code",
   "execution_count": 135,
   "id": "670b351a",
   "metadata": {},
   "outputs": [
    {
     "data": {
      "text/plain": [
       "'ram'"
      ]
     },
     "execution_count": 135,
     "metadata": {},
     "output_type": "execute_result"
    }
   ],
   "source": [
    "l.pop()"
   ]
  },
  {
   "cell_type": "code",
   "execution_count": 136,
   "id": "93008fe8",
   "metadata": {},
   "outputs": [
    {
     "name": "stdout",
     "output_type": "stream",
     "text": [
      "['manish', 'shan', 'delhi', 'jeet', 'hello', 100, 'jaipur', 'neha']\n"
     ]
    }
   ],
   "source": [
    "print(l)"
   ]
  },
  {
   "cell_type": "code",
   "execution_count": 137,
   "id": "1b115fa0",
   "metadata": {},
   "outputs": [
    {
     "data": {
      "text/plain": [
       "'delhi'"
      ]
     },
     "execution_count": 137,
     "metadata": {},
     "output_type": "execute_result"
    }
   ],
   "source": [
    "l.pop(2)"
   ]
  },
  {
   "cell_type": "code",
   "execution_count": 138,
   "id": "885a6272",
   "metadata": {},
   "outputs": [
    {
     "name": "stdout",
     "output_type": "stream",
     "text": [
      "['manish', 'shan', 'jeet', 'hello', 100, 'jaipur', 'neha']\n"
     ]
    }
   ],
   "source": [
    "print(l)"
   ]
  },
  {
   "cell_type": "code",
   "execution_count": 140,
   "id": "fd3e8016",
   "metadata": {},
   "outputs": [],
   "source": [
    "l.remove('jeet')"
   ]
  },
  {
   "cell_type": "code",
   "execution_count": 141,
   "id": "8bdfa3a4",
   "metadata": {},
   "outputs": [
    {
     "name": "stdout",
     "output_type": "stream",
     "text": [
      "['manish', 'shan', 'hello', 100, 'jaipur', 'neha']\n"
     ]
    }
   ],
   "source": [
    "print(l)"
   ]
  },
  {
   "cell_type": "code",
   "execution_count": 142,
   "id": "0af498cb",
   "metadata": {},
   "outputs": [],
   "source": [
    "del l[1:4]"
   ]
  },
  {
   "cell_type": "code",
   "execution_count": 143,
   "id": "2c01734f",
   "metadata": {},
   "outputs": [
    {
     "name": "stdout",
     "output_type": "stream",
     "text": [
      "['manish', 'jaipur', 'neha']\n"
     ]
    }
   ],
   "source": [
    "print(l)"
   ]
  },
  {
   "cell_type": "code",
   "execution_count": 144,
   "id": "f4c5cbb8",
   "metadata": {},
   "outputs": [
    {
     "name": "stdout",
     "output_type": "stream",
     "text": [
      "['__add__', '__class__', '__class_getitem__', '__contains__', '__delattr__', '__delitem__', '__dir__', '__doc__', '__eq__', '__format__', '__ge__', '__getattribute__', '__getitem__', '__gt__', '__hash__', '__iadd__', '__imul__', '__init__', '__init_subclass__', '__iter__', '__le__', '__len__', '__lt__', '__mul__', '__ne__', '__new__', '__reduce__', '__reduce_ex__', '__repr__', '__reversed__', '__rmul__', '__setattr__', '__setitem__', '__sizeof__', '__str__', '__subclasshook__', 'append', 'clear', 'copy', 'count', 'extend', 'index', 'insert', 'pop', 'remove', 'reverse', 'sort']\n"
     ]
    }
   ],
   "source": [
    "print(dir(l))"
   ]
  },
  {
   "cell_type": "code",
   "execution_count": 145,
   "id": "bca158b5",
   "metadata": {},
   "outputs": [],
   "source": [
    "# dict \n",
    "# key value pair"
   ]
  },
  {
   "cell_type": "code",
   "execution_count": 146,
   "id": "835815e1",
   "metadata": {},
   "outputs": [],
   "source": [
    "d={'name':'manish','age':23,'addr':'jaipur'}"
   ]
  },
  {
   "cell_type": "code",
   "execution_count": 147,
   "id": "c8f3b947",
   "metadata": {},
   "outputs": [
    {
     "data": {
      "text/plain": [
       "{'name': 'manish', 'age': 23, 'addr': 'jaipur'}"
      ]
     },
     "execution_count": 147,
     "metadata": {},
     "output_type": "execute_result"
    }
   ],
   "source": [
    "d"
   ]
  },
  {
   "cell_type": "code",
   "execution_count": 148,
   "id": "e26def17",
   "metadata": {},
   "outputs": [
    {
     "data": {
      "text/plain": [
       "dict_keys(['name', 'age', 'addr'])"
      ]
     },
     "execution_count": 148,
     "metadata": {},
     "output_type": "execute_result"
    }
   ],
   "source": [
    "d.keys()"
   ]
  },
  {
   "cell_type": "code",
   "execution_count": 149,
   "id": "a0ffc0f6",
   "metadata": {},
   "outputs": [
    {
     "data": {
      "text/plain": [
       "dict_values(['manish', 23, 'jaipur'])"
      ]
     },
     "execution_count": 149,
     "metadata": {},
     "output_type": "execute_result"
    }
   ],
   "source": [
    "d.values()"
   ]
  },
  {
   "cell_type": "code",
   "execution_count": 150,
   "id": "0307ee25",
   "metadata": {},
   "outputs": [
    {
     "data": {
      "text/plain": [
       "dict_items([('name', 'manish'), ('age', 23), ('addr', 'jaipur')])"
      ]
     },
     "execution_count": 150,
     "metadata": {},
     "output_type": "execute_result"
    }
   ],
   "source": [
    "d.items()"
   ]
  },
  {
   "cell_type": "code",
   "execution_count": 151,
   "id": "d00818ea",
   "metadata": {},
   "outputs": [
    {
     "data": {
      "text/plain": [
       "'manish'"
      ]
     },
     "execution_count": 151,
     "metadata": {},
     "output_type": "execute_result"
    }
   ],
   "source": [
    "d.get('name')"
   ]
  },
  {
   "cell_type": "code",
   "execution_count": 152,
   "id": "4de02feb",
   "metadata": {},
   "outputs": [
    {
     "data": {
      "text/plain": [
       "23"
      ]
     },
     "execution_count": 152,
     "metadata": {},
     "output_type": "execute_result"
    }
   ],
   "source": [
    "d.get('age')"
   ]
  },
  {
   "cell_type": "code",
   "execution_count": 153,
   "id": "5939a3c5",
   "metadata": {},
   "outputs": [],
   "source": [
    "d.get('manish')"
   ]
  },
  {
   "cell_type": "code",
   "execution_count": 154,
   "id": "59053565",
   "metadata": {},
   "outputs": [
    {
     "data": {
      "text/plain": [
       "'mathura'"
      ]
     },
     "execution_count": 154,
     "metadata": {},
     "output_type": "execute_result"
    }
   ],
   "source": [
    "d.setdefault('city','mathura') # for add pair(key,value)"
   ]
  },
  {
   "cell_type": "code",
   "execution_count": 155,
   "id": "c4280136",
   "metadata": {},
   "outputs": [
    {
     "name": "stdout",
     "output_type": "stream",
     "text": [
      "{'name': 'manish', 'age': 23, 'addr': 'jaipur', 'city': 'mathura'}\n"
     ]
    }
   ],
   "source": [
    "print(d)"
   ]
  },
  {
   "cell_type": "code",
   "execution_count": 156,
   "id": "1052f520",
   "metadata": {},
   "outputs": [
    {
     "data": {
      "text/plain": [
       "23"
      ]
     },
     "execution_count": 156,
     "metadata": {},
     "output_type": "execute_result"
    }
   ],
   "source": [
    "d.pop('age')"
   ]
  },
  {
   "cell_type": "code",
   "execution_count": 157,
   "id": "fbccc151",
   "metadata": {},
   "outputs": [
    {
     "name": "stdout",
     "output_type": "stream",
     "text": [
      "{'name': 'manish', 'addr': 'jaipur', 'city': 'mathura'}\n"
     ]
    }
   ],
   "source": [
    "print(d)"
   ]
  },
  {
   "cell_type": "code",
   "execution_count": 158,
   "id": "699344f4",
   "metadata": {},
   "outputs": [
    {
     "data": {
      "text/plain": [
       "('city', 'mathura')"
      ]
     },
     "execution_count": 158,
     "metadata": {},
     "output_type": "execute_result"
    }
   ],
   "source": [
    "d.popitem()"
   ]
  },
  {
   "cell_type": "code",
   "execution_count": 159,
   "id": "dfe84397",
   "metadata": {},
   "outputs": [
    {
     "name": "stdout",
     "output_type": "stream",
     "text": [
      "{'name': 'manish', 'addr': 'jaipur'}\n"
     ]
    }
   ],
   "source": [
    "print(d)"
   ]
  },
  {
   "cell_type": "code",
   "execution_count": 160,
   "id": "5efb2832",
   "metadata": {},
   "outputs": [],
   "source": [
    "d1=d.copy()"
   ]
  },
  {
   "cell_type": "code",
   "execution_count": 161,
   "id": "d313b577",
   "metadata": {},
   "outputs": [
    {
     "data": {
      "text/plain": [
       "{'name': 'manish', 'addr': 'jaipur'}"
      ]
     },
     "execution_count": 161,
     "metadata": {},
     "output_type": "execute_result"
    }
   ],
   "source": [
    "d1"
   ]
  },
  {
   "cell_type": "code",
   "execution_count": 162,
   "id": "52e5dcb1",
   "metadata": {},
   "outputs": [
    {
     "data": {
      "text/plain": [
       "{'name': 'manish', 'addr': 'jaipur'}"
      ]
     },
     "execution_count": 162,
     "metadata": {},
     "output_type": "execute_result"
    }
   ],
   "source": [
    "d"
   ]
  },
  {
   "cell_type": "code",
   "execution_count": 163,
   "id": "49ddc394",
   "metadata": {},
   "outputs": [],
   "source": [
    "d.clear()"
   ]
  },
  {
   "cell_type": "code",
   "execution_count": 164,
   "id": "8aa56f39",
   "metadata": {},
   "outputs": [
    {
     "data": {
      "text/plain": [
       "{}"
      ]
     },
     "execution_count": 164,
     "metadata": {},
     "output_type": "execute_result"
    }
   ],
   "source": [
    "d"
   ]
  },
  {
   "cell_type": "code",
   "execution_count": 165,
   "id": "348f16b5",
   "metadata": {},
   "outputs": [
    {
     "data": {
      "text/plain": [
       "{'name': 'manish', 'addr': 'jaipur'}"
      ]
     },
     "execution_count": 165,
     "metadata": {},
     "output_type": "execute_result"
    }
   ],
   "source": [
    "d1"
   ]
  },
  {
   "cell_type": "code",
   "execution_count": 166,
   "id": "e4a5415b",
   "metadata": {},
   "outputs": [
    {
     "name": "stdout",
     "output_type": "stream",
     "text": [
      "['__class__', '__class_getitem__', '__contains__', '__delattr__', '__delitem__', '__dir__', '__doc__', '__eq__', '__format__', '__ge__', '__getattribute__', '__getitem__', '__gt__', '__hash__', '__init__', '__init_subclass__', '__ior__', '__iter__', '__le__', '__len__', '__lt__', '__ne__', '__new__', '__or__', '__reduce__', '__reduce_ex__', '__repr__', '__reversed__', '__ror__', '__setattr__', '__setitem__', '__sizeof__', '__str__', '__subclasshook__', 'clear', 'copy', 'fromkeys', 'get', 'items', 'keys', 'pop', 'popitem', 'setdefault', 'update', 'values']\n"
     ]
    }
   ],
   "source": [
    "print(dir(d))"
   ]
  },
  {
   "cell_type": "code",
   "execution_count": 167,
   "id": "3802d163",
   "metadata": {},
   "outputs": [
    {
     "data": {
      "text/plain": [
       "{}"
      ]
     },
     "execution_count": 167,
     "metadata": {},
     "output_type": "execute_result"
    }
   ],
   "source": [
    "d"
   ]
  },
  {
   "cell_type": "code",
   "execution_count": 169,
   "id": "79abcc91",
   "metadata": {},
   "outputs": [],
   "source": [
    "d1['name']='ajay'"
   ]
  },
  {
   "cell_type": "code",
   "execution_count": 170,
   "id": "72255ae5",
   "metadata": {},
   "outputs": [
    {
     "data": {
      "text/plain": [
       "{'name': 'ajay', 'addr': 'jaipur'}"
      ]
     },
     "execution_count": 170,
     "metadata": {},
     "output_type": "execute_result"
    }
   ],
   "source": [
    "d1"
   ]
  },
  {
   "cell_type": "code",
   "execution_count": 171,
   "id": "89c318f8",
   "metadata": {},
   "outputs": [],
   "source": [
    "# set\n",
    "# {}"
   ]
  },
  {
   "cell_type": "code",
   "execution_count": 176,
   "id": "b88fe682",
   "metadata": {},
   "outputs": [],
   "source": [
    "s={1,2,3,4,1,2,3,12,1,2,1,2,45,45,23,656,67,98,34}"
   ]
  },
  {
   "cell_type": "code",
   "execution_count": 177,
   "id": "f24ad82c",
   "metadata": {},
   "outputs": [
    {
     "name": "stdout",
     "output_type": "stream",
     "text": [
      "{1, 2, 67, 3, 4, 98, 34, 12, 45, 656, 23}\n"
     ]
    }
   ],
   "source": [
    "print(s)"
   ]
  },
  {
   "cell_type": "code",
   "execution_count": 178,
   "id": "51288004",
   "metadata": {},
   "outputs": [],
   "source": [
    "s.add(100)"
   ]
  },
  {
   "cell_type": "code",
   "execution_count": 179,
   "id": "a1477817",
   "metadata": {},
   "outputs": [
    {
     "data": {
      "text/plain": [
       "{1, 2, 3, 4, 12, 23, 34, 45, 67, 98, 100, 656}"
      ]
     },
     "execution_count": 179,
     "metadata": {},
     "output_type": "execute_result"
    }
   ],
   "source": [
    "s"
   ]
  },
  {
   "cell_type": "code",
   "execution_count": 180,
   "id": "a284b356",
   "metadata": {},
   "outputs": [],
   "source": [
    "s.remove(12)"
   ]
  },
  {
   "cell_type": "code",
   "execution_count": 181,
   "id": "99531cb3",
   "metadata": {},
   "outputs": [
    {
     "data": {
      "text/plain": [
       "{1, 2, 3, 4, 23, 34, 45, 67, 98, 100, 656}"
      ]
     },
     "execution_count": 181,
     "metadata": {},
     "output_type": "execute_result"
    }
   ],
   "source": [
    "s"
   ]
  },
  {
   "cell_type": "code",
   "execution_count": 182,
   "id": "bfed2fa2",
   "metadata": {},
   "outputs": [],
   "source": [
    "s.discard(45)"
   ]
  },
  {
   "cell_type": "code",
   "execution_count": 183,
   "id": "33eee597",
   "metadata": {},
   "outputs": [
    {
     "data": {
      "text/plain": [
       "{1, 2, 3, 4, 23, 34, 67, 98, 100, 656}"
      ]
     },
     "execution_count": 183,
     "metadata": {},
     "output_type": "execute_result"
    }
   ],
   "source": [
    "s"
   ]
  },
  {
   "cell_type": "code",
   "execution_count": null,
   "id": "aaa01245",
   "metadata": {},
   "outputs": [],
   "source": [
    "if condition:\n",
    "    block of if\n",
    "else:\n",
    "    block of else"
   ]
  },
  {
   "cell_type": "code",
   "execution_count": 187,
   "id": "87f03c2c",
   "metadata": {},
   "outputs": [
    {
     "name": "stdout",
     "output_type": "stream",
     "text": [
      "Enter a: 88\n",
      "even\n"
     ]
    }
   ],
   "source": [
    "n=int(input('Enter a: '))\n",
    "if n%2==0:\n",
    "    print('even')\n",
    "else:\n",
    "    print('odd')\n",
    "    "
   ]
  },
  {
   "cell_type": "code",
   "execution_count": 190,
   "id": "82e6ab8d",
   "metadata": {},
   "outputs": [
    {
     "name": "stdout",
     "output_type": "stream",
     "text": [
      "45\n",
      "30\n",
      " a is max\n"
     ]
    }
   ],
   "source": [
    "a=int(input())\n",
    "b=int(input())\n",
    "if a>b:\n",
    "    print(' a is max')\n",
    "elif a==b:\n",
    "    print('both are equal')\n",
    "else:\n",
    "    print('b is max')"
   ]
  },
  {
   "cell_type": "code",
   "execution_count": 192,
   "id": "94664a89",
   "metadata": {},
   "outputs": [],
   "source": [
    "n=11\n",
    "if n<10:\n",
    "    print('well done')\n"
   ]
  },
  {
   "cell_type": "code",
   "execution_count": 193,
   "id": "e9307b3c",
   "metadata": {},
   "outputs": [
    {
     "name": "stdout",
     "output_type": "stream",
     "text": [
      "1\n",
      "2\n",
      "3\n",
      "4\n",
      "5\n",
      "6\n",
      "7\n",
      "8\n",
      "9\n",
      "hello i am else \n"
     ]
    }
   ],
   "source": [
    "c=1\n",
    "while c<10:\n",
    "    print(c)\n",
    "    c+=1\n",
    "else:\n",
    "    print('hello i am else ')"
   ]
  },
  {
   "cell_type": "code",
   "execution_count": null,
   "id": "26c1ec0b",
   "metadata": {},
   "outputs": [],
   "source": []
  }
 ],
 "metadata": {
  "kernelspec": {
   "display_name": "Python 3 (ipykernel)",
   "language": "python",
   "name": "python3"
  },
  "language_info": {
   "codemirror_mode": {
    "name": "ipython",
    "version": 3
   },
   "file_extension": ".py",
   "mimetype": "text/x-python",
   "name": "python",
   "nbconvert_exporter": "python",
   "pygments_lexer": "ipython3",
   "version": "3.9.6"
  }
 },
 "nbformat": 4,
 "nbformat_minor": 5
}
