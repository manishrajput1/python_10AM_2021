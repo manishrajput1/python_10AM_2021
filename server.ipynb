{
 "cells": [
  {
   "cell_type": "code",
   "execution_count": 3,
   "id": "4f114a70",
   "metadata": {},
   "outputs": [
    {
     "name": "stdout",
     "output_type": "stream",
     "text": [
      "<socket.socket fd=1180, family=AddressFamily.AF_INET, type=SocketKind.SOCK_STREAM, proto=0>\n"
     ]
    }
   ],
   "source": [
    "print(con)"
   ]
  },
  {
   "cell_type": "code",
   "execution_count": 5,
   "id": "23de94ad",
   "metadata": {},
   "outputs": [
    {
     "name": "stdout",
     "output_type": "stream",
     "text": [
      "DESKTOP-DJJ079G\n"
     ]
    }
   ],
   "source": [
    "print(host)"
   ]
  },
  {
   "cell_type": "code",
   "execution_count": 6,
   "id": "56638175",
   "metadata": {},
   "outputs": [],
   "source": []
  },
  {
   "cell_type": "code",
   "execution_count": 2,
   "id": "894139a8",
   "metadata": {},
   "outputs": [
    {
     "name": "stdout",
     "output_type": "stream",
     "text": [
      "sent\n",
      "hello server\n"
     ]
    }
   ],
   "source": [
    "import socket\n",
    "con=socket.socket()\n",
    "host=socket.gethostname()\n",
    "port=1234\n",
    "con.bind((host,port))\n",
    "con.listen(1)\n",
    "c_con,address=con.accept()\n",
    "#print('connected......')\n",
    "##print()\n",
    "#print('client_address: ',address)\n",
    "msg='hello client?'\n",
    "c_con.send(msg.encode())\n",
    "print('sent')\n",
    "rec=c_con.recv(1024)\n",
    "print(rec.decode())"
   ]
  },
  {
   "cell_type": "code",
   "execution_count": 10,
   "id": "d094d6dc",
   "metadata": {},
   "outputs": [],
   "source": [
    "a,b=10,20"
   ]
  },
  {
   "cell_type": "code",
   "execution_count": 11,
   "id": "6b8f29c4",
   "metadata": {},
   "outputs": [
    {
     "data": {
      "text/plain": [
       "10"
      ]
     },
     "execution_count": 11,
     "metadata": {},
     "output_type": "execute_result"
    }
   ],
   "source": [
    "a"
   ]
  },
  {
   "cell_type": "code",
   "execution_count": 12,
   "id": "654ff84e",
   "metadata": {},
   "outputs": [
    {
     "data": {
      "text/plain": [
       "20"
      ]
     },
     "execution_count": 12,
     "metadata": {},
     "output_type": "execute_result"
    }
   ],
   "source": [
    "\n",
    "b"
   ]
  },
  {
   "cell_type": "code",
   "execution_count": 15,
   "id": "8a99137d",
   "metadata": {},
   "outputs": [],
   "source": [
    "r=socket.gethostname()"
   ]
  },
  {
   "cell_type": "code",
   "execution_count": 16,
   "id": "35ffc08d",
   "metadata": {},
   "outputs": [
    {
     "data": {
      "text/plain": [
       "'192.168.1.115'"
      ]
     },
     "execution_count": 16,
     "metadata": {},
     "output_type": "execute_result"
    }
   ],
   "source": [
    "socket.gethostbyname(r)"
   ]
  },
  {
   "cell_type": "code",
   "execution_count": 19,
   "id": "bd35bdc3",
   "metadata": {},
   "outputs": [],
   "source": [
    "y='hello manish'"
   ]
  },
  {
   "cell_type": "code",
   "execution_count": 20,
   "id": "6f12e06f",
   "metadata": {},
   "outputs": [
    {
     "data": {
      "text/plain": [
       "str"
      ]
     },
     "execution_count": 20,
     "metadata": {},
     "output_type": "execute_result"
    }
   ],
   "source": [
    "type(y)"
   ]
  },
  {
   "cell_type": "code",
   "execution_count": 21,
   "id": "c1fbcae4",
   "metadata": {},
   "outputs": [],
   "source": [
    "t=y.encode()"
   ]
  },
  {
   "cell_type": "code",
   "execution_count": 22,
   "id": "1b925a4d",
   "metadata": {},
   "outputs": [
    {
     "data": {
      "text/plain": [
       "bytes"
      ]
     },
     "execution_count": 22,
     "metadata": {},
     "output_type": "execute_result"
    }
   ],
   "source": [
    "type(t)"
   ]
  },
  {
   "cell_type": "code",
   "execution_count": null,
   "id": "c75016b7",
   "metadata": {},
   "outputs": [],
   "source": []
  },
  {
   "cell_type": "code",
   "execution_count": null,
   "id": "f8b9859e",
   "metadata": {},
   "outputs": [],
   "source": []
  },
  {
   "cell_type": "code",
   "execution_count": null,
   "id": "3323014e",
   "metadata": {},
   "outputs": [],
   "source": []
  },
  {
   "cell_type": "code",
   "execution_count": 10,
   "id": "b6f0352d",
   "metadata": {},
   "outputs": [
    {
     "name": "stdout",
     "output_type": "stream",
     "text": [
      "Overwriting server.py\n"
     ]
    }
   ],
   "source": [
    "%%writefile server.py\n",
    "\n",
    "import socket\n",
    "con=socket.socket()\n",
    "host=socket.gethostname()\n",
    "port=12345\n",
    "con.bind((host,port))\n",
    "con.listen(1)\n",
    "c_con,address=con.accept()\n",
    "def server():\n",
    "    msg=input('Enter msg: ').encode()\n",
    "    c_con.send(msg)\n",
    "    data=c_con.recv(1024)\n",
    "    print(data.decode())\n",
    "    server()\n",
    "server()"
   ]
  },
  {
   "cell_type": "code",
   "execution_count": 4,
   "id": "298e5da9",
   "metadata": {},
   "outputs": [
    {
     "data": {
      "text/plain": [
       "'C:\\\\Users\\\\rmani'"
      ]
     },
     "execution_count": 4,
     "metadata": {},
     "output_type": "execute_result"
    }
   ],
   "source": [
    "pwd"
   ]
  },
  {
   "cell_type": "code",
   "execution_count": 5,
   "id": "a2c63110",
   "metadata": {},
   "outputs": [],
   "source": [
    "import os\n",
    "os.chdir('C:\\\\Users\\\\rmani\\\\Desktop')"
   ]
  },
  {
   "cell_type": "code",
   "execution_count": 6,
   "id": "a9218020",
   "metadata": {},
   "outputs": [
    {
     "data": {
      "text/plain": [
       "'C:\\\\Users\\\\rmani\\\\Desktop'"
      ]
     },
     "execution_count": 6,
     "metadata": {},
     "output_type": "execute_result"
    }
   ],
   "source": [
    "pwd"
   ]
  },
  {
   "cell_type": "code",
   "execution_count": null,
   "id": "8d8678cd",
   "metadata": {},
   "outputs": [],
   "source": []
  }
 ],
 "metadata": {
  "kernelspec": {
   "display_name": "Python 3 (ipykernel)",
   "language": "python",
   "name": "python3"
  },
  "language_info": {
   "codemirror_mode": {
    "name": "ipython",
    "version": 3
   },
   "file_extension": ".py",
   "mimetype": "text/x-python",
   "name": "python",
   "nbconvert_exporter": "python",
   "pygments_lexer": "ipython3",
   "version": "3.9.6"
  }
 },
 "nbformat": 4,
 "nbformat_minor": 5
}
