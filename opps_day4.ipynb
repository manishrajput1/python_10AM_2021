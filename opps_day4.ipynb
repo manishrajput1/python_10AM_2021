{
 "cells": [
  {
   "cell_type": "code",
   "execution_count": 1,
   "id": "91b4caba",
   "metadata": {},
   "outputs": [],
   "source": [
    "class A:\n",
    "    name='manish rajput'\n",
    "    age=23\n",
    "    def show(self):\n",
    "        print('username: ',A.name)\n",
    "        print('user age: ',A.age)"
   ]
  },
  {
   "cell_type": "code",
   "execution_count": 7,
   "id": "f9bf8e20",
   "metadata": {},
   "outputs": [],
   "source": [
    "class B:\n",
    "    def __init__(self):\n",
    "        A.show(self)\n",
    "        self.k=A.name\n",
    "        self.j=A.age\n",
    "    def get(self):\n",
    "        print('user name: ',self.k)\n",
    "        print('user age: ',self.j)"
   ]
  },
  {
   "cell_type": "code",
   "execution_count": 8,
   "id": "526221ce",
   "metadata": {},
   "outputs": [],
   "source": [
    "ob=A()"
   ]
  },
  {
   "cell_type": "code",
   "execution_count": 9,
   "id": "837d4fca",
   "metadata": {},
   "outputs": [
    {
     "name": "stdout",
     "output_type": "stream",
     "text": [
      "username:  manish rajput\n",
      "user age:  23\n"
     ]
    }
   ],
   "source": [
    "ob.show()"
   ]
  },
  {
   "cell_type": "code",
   "execution_count": 10,
   "id": "9e4b3b22",
   "metadata": {},
   "outputs": [
    {
     "name": "stdout",
     "output_type": "stream",
     "text": [
      "username:  manish rajput\n",
      "user age:  23\n"
     ]
    }
   ],
   "source": [
    "obj=B()"
   ]
  },
  {
   "cell_type": "code",
   "execution_count": 11,
   "id": "c4702dd2",
   "metadata": {},
   "outputs": [
    {
     "name": "stdout",
     "output_type": "stream",
     "text": [
      "user name:  manish rajput\n",
      "user age:  23\n"
     ]
    }
   ],
   "source": [
    "obj.get()"
   ]
  },
  {
   "cell_type": "code",
   "execution_count": 24,
   "id": "d8b62e7b",
   "metadata": {},
   "outputs": [],
   "source": [
    "class private:\n",
    "    __name='shan'\n",
    "    __age=30\n",
    "    def __show(self):\n",
    "        print('name: ',private.__name)\n",
    "        print('age: ',private.__age)\n",
    "    def __init__(self):\n",
    "        private.__show(self)\n",
    "        \n",
    "class demo:\n",
    "    def __init__(self):\n",
    "        private.__show(self)\n",
    "        self.l=private.__name\n",
    "        self.h=private.__age\n",
    "    def showdata(self):\n",
    "        print('name: ',self.l)\n",
    "        print('age: ',self.h)\n",
    "    "
   ]
  },
  {
   "cell_type": "code",
   "execution_count": 25,
   "id": "5cb01067",
   "metadata": {},
   "outputs": [
    {
     "name": "stdout",
     "output_type": "stream",
     "text": [
      "name:  shan\n",
      "age:  30\n"
     ]
    }
   ],
   "source": [
    "ob=private()"
   ]
  },
  {
   "cell_type": "code",
   "execution_count": 26,
   "id": "6d00f1db",
   "metadata": {},
   "outputs": [
    {
     "ename": "AttributeError",
     "evalue": "'private' object has no attribute '__show'",
     "output_type": "error",
     "traceback": [
      "\u001b[1;31m---------------------------------------------------------------------------\u001b[0m",
      "\u001b[1;31mAttributeError\u001b[0m                            Traceback (most recent call last)",
      "\u001b[1;32m~\\AppData\\Local\\Temp/ipykernel_13104/375923962.py\u001b[0m in \u001b[0;36m<module>\u001b[1;34m\u001b[0m\n\u001b[1;32m----> 1\u001b[1;33m \u001b[0mob\u001b[0m\u001b[1;33m.\u001b[0m\u001b[0m__show\u001b[0m\u001b[1;33m(\u001b[0m\u001b[1;33m)\u001b[0m\u001b[1;33m\u001b[0m\u001b[1;33m\u001b[0m\u001b[0m\n\u001b[0m",
      "\u001b[1;31mAttributeError\u001b[0m: 'private' object has no attribute '__show'"
     ]
    }
   ],
   "source": [
    "ob.__show()"
   ]
  },
  {
   "cell_type": "code",
   "execution_count": 27,
   "id": "17849822",
   "metadata": {},
   "outputs": [
    {
     "ename": "AttributeError",
     "evalue": "'private' object has no attribute '__name'",
     "output_type": "error",
     "traceback": [
      "\u001b[1;31m---------------------------------------------------------------------------\u001b[0m",
      "\u001b[1;31mAttributeError\u001b[0m                            Traceback (most recent call last)",
      "\u001b[1;32m~\\AppData\\Local\\Temp/ipykernel_13104/1344837984.py\u001b[0m in \u001b[0;36m<module>\u001b[1;34m\u001b[0m\n\u001b[1;32m----> 1\u001b[1;33m \u001b[0mob\u001b[0m\u001b[1;33m.\u001b[0m\u001b[0m__name\u001b[0m\u001b[1;33m(\u001b[0m\u001b[1;33m)\u001b[0m\u001b[1;33m\u001b[0m\u001b[1;33m\u001b[0m\u001b[0m\n\u001b[0m",
      "\u001b[1;31mAttributeError\u001b[0m: 'private' object has no attribute '__name'"
     ]
    }
   ],
   "source": [
    "ob.__name()"
   ]
  },
  {
   "cell_type": "code",
   "execution_count": 18,
   "id": "e9ba5027",
   "metadata": {},
   "outputs": [
    {
     "ename": "AttributeError",
     "evalue": "type object 'private' has no attribute '__name'",
     "output_type": "error",
     "traceback": [
      "\u001b[1;31m---------------------------------------------------------------------------\u001b[0m",
      "\u001b[1;31mAttributeError\u001b[0m                            Traceback (most recent call last)",
      "\u001b[1;32m~\\AppData\\Local\\Temp/ipykernel_13104/1294537812.py\u001b[0m in \u001b[0;36m<module>\u001b[1;34m\u001b[0m\n\u001b[1;32m----> 1\u001b[1;33m \u001b[0mprivate\u001b[0m\u001b[1;33m.\u001b[0m\u001b[0m__name\u001b[0m\u001b[1;33m\u001b[0m\u001b[1;33m\u001b[0m\u001b[0m\n\u001b[0m",
      "\u001b[1;31mAttributeError\u001b[0m: type object 'private' has no attribute '__name'"
     ]
    }
   ],
   "source": [
    "private.__name"
   ]
  },
  {
   "cell_type": "code",
   "execution_count": 19,
   "id": "b6da1fe1",
   "metadata": {},
   "outputs": [
    {
     "ename": "AttributeError",
     "evalue": "type object 'private' has no attribute '__age'",
     "output_type": "error",
     "traceback": [
      "\u001b[1;31m---------------------------------------------------------------------------\u001b[0m",
      "\u001b[1;31mAttributeError\u001b[0m                            Traceback (most recent call last)",
      "\u001b[1;32m~\\AppData\\Local\\Temp/ipykernel_13104/849563282.py\u001b[0m in \u001b[0;36m<module>\u001b[1;34m\u001b[0m\n\u001b[1;32m----> 1\u001b[1;33m \u001b[0mprivate\u001b[0m\u001b[1;33m.\u001b[0m\u001b[0m__age\u001b[0m\u001b[1;33m\u001b[0m\u001b[1;33m\u001b[0m\u001b[0m\n\u001b[0m",
      "\u001b[1;31mAttributeError\u001b[0m: type object 'private' has no attribute '__age'"
     ]
    }
   ],
   "source": [
    "private.__age"
   ]
  },
  {
   "cell_type": "code",
   "execution_count": null,
   "id": "01854c95",
   "metadata": {},
   "outputs": [],
   "source": []
  },
  {
   "cell_type": "code",
   "execution_count": 47,
   "id": "555a9d26",
   "metadata": {},
   "outputs": [],
   "source": [
    "class private:\n",
    "    __name='shan'\n",
    "    __age=30\n",
    "    def __show(self):\n",
    "        print('name: ',private.__name)\n",
    "        print('age: ',private.__age)\n",
    "class demo(private):\n",
    "    def __init__(self):\n",
    "        pass\n",
    "    def showdata(self):\n",
    "        print('name: ',self.l)\n",
    "        print('age: ',self.h)\n",
    "    "
   ]
  },
  {
   "cell_type": "code",
   "execution_count": 48,
   "id": "86bc7c26",
   "metadata": {},
   "outputs": [],
   "source": [
    "ob=private()"
   ]
  },
  {
   "cell_type": "code",
   "execution_count": 49,
   "id": "5b5b6f9f",
   "metadata": {},
   "outputs": [
    {
     "ename": "AttributeError",
     "evalue": "'private' object has no attribute 'show'",
     "output_type": "error",
     "traceback": [
      "\u001b[1;31m---------------------------------------------------------------------------\u001b[0m",
      "\u001b[1;31mAttributeError\u001b[0m                            Traceback (most recent call last)",
      "\u001b[1;32m~\\AppData\\Local\\Temp/ipykernel_13104/632153837.py\u001b[0m in \u001b[0;36m<module>\u001b[1;34m\u001b[0m\n\u001b[1;32m----> 1\u001b[1;33m \u001b[0mob\u001b[0m\u001b[1;33m.\u001b[0m\u001b[0mshow\u001b[0m\u001b[1;33m(\u001b[0m\u001b[1;33m)\u001b[0m\u001b[1;33m\u001b[0m\u001b[1;33m\u001b[0m\u001b[0m\n\u001b[0m",
      "\u001b[1;31mAttributeError\u001b[0m: 'private' object has no attribute 'show'"
     ]
    }
   ],
   "source": [
    "ob.show()"
   ]
  },
  {
   "cell_type": "code",
   "execution_count": 50,
   "id": "170873f2",
   "metadata": {},
   "outputs": [],
   "source": [
    "obj=demo()"
   ]
  },
  {
   "cell_type": "code",
   "execution_count": 37,
   "id": "fe20459b",
   "metadata": {},
   "outputs": [
    {
     "name": "stdout",
     "output_type": "stream",
     "text": [
      "name:  shan\n",
      "age:  30\n"
     ]
    }
   ],
   "source": [
    "ob.show()"
   ]
  },
  {
   "cell_type": "code",
   "execution_count": 38,
   "id": "a715531b",
   "metadata": {},
   "outputs": [
    {
     "ename": "AttributeError",
     "evalue": "'private' object has no attribute '__name'",
     "output_type": "error",
     "traceback": [
      "\u001b[1;31m---------------------------------------------------------------------------\u001b[0m",
      "\u001b[1;31mAttributeError\u001b[0m                            Traceback (most recent call last)",
      "\u001b[1;32m~\\AppData\\Local\\Temp/ipykernel_13104/3513135851.py\u001b[0m in \u001b[0;36m<module>\u001b[1;34m\u001b[0m\n\u001b[1;32m----> 1\u001b[1;33m \u001b[0mob\u001b[0m\u001b[1;33m.\u001b[0m\u001b[0m__name\u001b[0m\u001b[1;33m\u001b[0m\u001b[1;33m\u001b[0m\u001b[0m\n\u001b[0m",
      "\u001b[1;31mAttributeError\u001b[0m: 'private' object has no attribute '__name'"
     ]
    }
   ],
   "source": [
    "ob.__name"
   ]
  },
  {
   "cell_type": "code",
   "execution_count": 39,
   "id": "301dfb17",
   "metadata": {},
   "outputs": [
    {
     "ename": "AttributeError",
     "evalue": "'private' object has no attribute '__age'",
     "output_type": "error",
     "traceback": [
      "\u001b[1;31m---------------------------------------------------------------------------\u001b[0m",
      "\u001b[1;31mAttributeError\u001b[0m                            Traceback (most recent call last)",
      "\u001b[1;32m~\\AppData\\Local\\Temp/ipykernel_13104/1521457127.py\u001b[0m in \u001b[0;36m<module>\u001b[1;34m\u001b[0m\n\u001b[1;32m----> 1\u001b[1;33m \u001b[0mob\u001b[0m\u001b[1;33m.\u001b[0m\u001b[0m__age\u001b[0m\u001b[1;33m\u001b[0m\u001b[1;33m\u001b[0m\u001b[0m\n\u001b[0m",
      "\u001b[1;31mAttributeError\u001b[0m: 'private' object has no attribute '__age'"
     ]
    }
   ],
   "source": [
    "ob.__age"
   ]
  },
  {
   "cell_type": "code",
   "execution_count": 51,
   "id": "c3e8688f",
   "metadata": {},
   "outputs": [
    {
     "ename": "AttributeError",
     "evalue": "'demo' object has no attribute '__show'",
     "output_type": "error",
     "traceback": [
      "\u001b[1;31m---------------------------------------------------------------------------\u001b[0m",
      "\u001b[1;31mAttributeError\u001b[0m                            Traceback (most recent call last)",
      "\u001b[1;32m~\\AppData\\Local\\Temp/ipykernel_13104/720157626.py\u001b[0m in \u001b[0;36m<module>\u001b[1;34m\u001b[0m\n\u001b[1;32m----> 1\u001b[1;33m \u001b[0mobj\u001b[0m\u001b[1;33m.\u001b[0m\u001b[0m__show\u001b[0m\u001b[1;33m(\u001b[0m\u001b[1;33m)\u001b[0m\u001b[1;33m\u001b[0m\u001b[1;33m\u001b[0m\u001b[0m\n\u001b[0m",
      "\u001b[1;31mAttributeError\u001b[0m: 'demo' object has no attribute '__show'"
     ]
    }
   ],
   "source": [
    "obj.__show()"
   ]
  },
  {
   "cell_type": "code",
   "execution_count": 68,
   "id": "49306035",
   "metadata": {},
   "outputs": [],
   "source": [
    "class p1:\n",
    "    def show(self):\n",
    "        print('hello i am show method of p1 class')\n",
    "class p2(p1,p3):\n",
    "    def show(self):\n",
    "        super().show()\n",
    "        p3.show(self)\n",
    "        print('hello i am p2 class')\n",
    "class p3():\n",
    "    def show(self):\n",
    "        print('hello i am p3')"
   ]
  },
  {
   "cell_type": "code",
   "execution_count": 69,
   "id": "c9cd3cb8",
   "metadata": {},
   "outputs": [],
   "source": [
    "ob=p2()"
   ]
  },
  {
   "cell_type": "code",
   "execution_count": 65,
   "id": "40c95eaa",
   "metadata": {},
   "outputs": [
    {
     "name": "stdout",
     "output_type": "stream",
     "text": [
      "hello i am show method of p1 class\n",
      "hello i am p2 class\n"
     ]
    }
   ],
   "source": [
    "ob.show()"
   ]
  },
  {
   "cell_type": "code",
   "execution_count": 70,
   "id": "2a2fb2be",
   "metadata": {},
   "outputs": [],
   "source": [
    "o=p3()"
   ]
  },
  {
   "cell_type": "code",
   "execution_count": 67,
   "id": "508591f7",
   "metadata": {},
   "outputs": [
    {
     "name": "stdout",
     "output_type": "stream",
     "text": [
      "hello i am show method of p1 class\n",
      "hello i am p2 class\n",
      "hello i am p3\n"
     ]
    }
   ],
   "source": [
    "o.show()"
   ]
  },
  {
   "cell_type": "code",
   "execution_count": 71,
   "id": "bbde4090",
   "metadata": {},
   "outputs": [
    {
     "name": "stdout",
     "output_type": "stream",
     "text": [
      "hello i am show method of p1 class\n",
      "hello i am p3\n",
      "hello i am p2 class\n"
     ]
    }
   ],
   "source": [
    "ob.show()"
   ]
  },
  {
   "cell_type": "code",
   "execution_count": null,
   "id": "42edf8f9",
   "metadata": {},
   "outputs": [],
   "source": [
    "__str__\n",
    "__del__\n",
    "__add__\n",
    "__len__\n",
    "__mul__\n",
    "__sub__\n",
    "__div__\n",
    "__iter__\n",
    "__doc__\n"
   ]
  },
  {
   "cell_type": "code",
   "execution_count": 76,
   "id": "3c5565d3",
   "metadata": {},
   "outputs": [],
   "source": [
    "class A:\n",
    "    def __init__(self):\n",
    "        self.name='manish'\n",
    "    def show(self):\n",
    "        print(f'hello i am {self.name}')\n",
    "    def __str__(self):\n",
    "        return self.name"
   ]
  },
  {
   "cell_type": "code",
   "execution_count": 77,
   "id": "6046a3fc",
   "metadata": {},
   "outputs": [],
   "source": [
    "ob=A()"
   ]
  },
  {
   "cell_type": "code",
   "execution_count": 78,
   "id": "04425a01",
   "metadata": {},
   "outputs": [
    {
     "name": "stdout",
     "output_type": "stream",
     "text": [
      "manish\n"
     ]
    }
   ],
   "source": [
    "print(ob)"
   ]
  },
  {
   "cell_type": "code",
   "execution_count": null,
   "id": "0cde9e80",
   "metadata": {},
   "outputs": [],
   "source": []
  },
  {
   "cell_type": "code",
   "execution_count": null,
   "id": "1eb917dd",
   "metadata": {},
   "outputs": [],
   "source": []
  }
 ],
 "metadata": {
  "kernelspec": {
   "display_name": "Python 3 (ipykernel)",
   "language": "python",
   "name": "python3"
  },
  "language_info": {
   "codemirror_mode": {
    "name": "ipython",
    "version": 3
   },
   "file_extension": ".py",
   "mimetype": "text/x-python",
   "name": "python",
   "nbconvert_exporter": "python",
   "pygments_lexer": "ipython3",
   "version": "3.9.6"
  }
 },
 "nbformat": 4,
 "nbformat_minor": 5
}
