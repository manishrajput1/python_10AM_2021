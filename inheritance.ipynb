{
 "cells": [
  {
   "cell_type": "markdown",
   "id": "74b64c68",
   "metadata": {},
   "source": [
    "# single inheritance"
   ]
  },
  {
   "cell_type": "code",
   "execution_count": 1,
   "id": "e0bdaae2",
   "metadata": {},
   "outputs": [],
   "source": [
    "class Base_class:\n",
    "    def getcar(self):\n",
    "        self.color=['white','blue','gray','red']\n",
    "        self.model='kia seltos'\n",
    "        self.price='12 L to 15 L'\n",
    "    def showcar(self):\n",
    "        print('car name Kia seltos')\n",
    "        print('car colors: ',self.color)\n",
    "        print('car model: ',self.model)\n",
    "        print('car price: ',self.price)\n"
   ]
  },
  {
   "cell_type": "code",
   "execution_count": 24,
   "id": "904ae3c4",
   "metadata": {},
   "outputs": [],
   "source": [
    "class Update(Base_class):\n",
    "    def new_f(self):\n",
    "        self.power_window='YES'\n",
    "        self.ATM=\"YES\"\n",
    "        self.ABS=\"YES\"\n",
    "        self.model=self.model+' model 2021'\n",
    "        \n",
    "        print('power window: ',self.power_window)\n",
    "        print('ATM:',self.ATM)\n",
    "        print('ABS:',self.ABS)\n",
    "        self.showcar()\n",
    "        \n",
    "    "
   ]
  },
  {
   "cell_type": "code",
   "execution_count": 25,
   "id": "b5d6d1ed",
   "metadata": {},
   "outputs": [],
   "source": [
    "kia1=Update()"
   ]
  },
  {
   "cell_type": "code",
   "execution_count": 26,
   "id": "3ab7fea6",
   "metadata": {},
   "outputs": [],
   "source": [
    "kia2=Update()"
   ]
  },
  {
   "cell_type": "code",
   "execution_count": 27,
   "id": "36805f5b",
   "metadata": {},
   "outputs": [
    {
     "name": "stdout",
     "output_type": "stream",
     "text": [
      "['__class__', '__delattr__', '__dict__', '__dir__', '__doc__', '__eq__', '__format__', '__ge__', '__getattribute__', '__gt__', '__hash__', '__init__', '__init_subclass__', '__le__', '__lt__', '__module__', '__ne__', '__new__', '__reduce__', '__reduce_ex__', '__repr__', '__setattr__', '__sizeof__', '__str__', '__subclasshook__', '__weakref__', 'getcar', 'new_f', 'showcar']\n"
     ]
    }
   ],
   "source": [
    "print(dir(kia1))"
   ]
  },
  {
   "cell_type": "code",
   "execution_count": 28,
   "id": "e1079b7f",
   "metadata": {},
   "outputs": [],
   "source": [
    "kia1.getcar()"
   ]
  },
  {
   "cell_type": "code",
   "execution_count": 29,
   "id": "552440d9",
   "metadata": {},
   "outputs": [
    {
     "name": "stdout",
     "output_type": "stream",
     "text": [
      "power window:  YES\n",
      "ATM: YES\n",
      "ABS: YES\n",
      "car name Kia seltos\n",
      "car colors:  ['white', 'blue', 'gray', 'red']\n",
      "car model:  kia seltos model 2021\n",
      "car price:  12 L to 15 L\n"
     ]
    }
   ],
   "source": [
    "kia1.new_f()"
   ]
  },
  {
   "cell_type": "code",
   "execution_count": 30,
   "id": "9d9db67c",
   "metadata": {},
   "outputs": [],
   "source": [
    "def hell():\n",
    "    return 100"
   ]
  },
  {
   "cell_type": "code",
   "execution_count": 31,
   "id": "e07d168c",
   "metadata": {},
   "outputs": [
    {
     "name": "stdout",
     "output_type": "stream",
     "text": [
      "100\n"
     ]
    }
   ],
   "source": [
    "print(hell())"
   ]
  },
  {
   "cell_type": "code",
   "execution_count": 32,
   "id": "599557ed",
   "metadata": {},
   "outputs": [
    {
     "data": {
      "text/plain": [
       "100"
      ]
     },
     "execution_count": 32,
     "metadata": {},
     "output_type": "execute_result"
    }
   ],
   "source": [
    "hell()"
   ]
  },
  {
   "cell_type": "code",
   "execution_count": 33,
   "id": "2f7e7af3",
   "metadata": {},
   "outputs": [
    {
     "name": "stdout",
     "output_type": "stream",
     "text": [
      "['ABS', 'ATM', '__class__', '__delattr__', '__dict__', '__dir__', '__doc__', '__eq__', '__format__', '__ge__', '__getattribute__', '__gt__', '__hash__', '__init__', '__init_subclass__', '__le__', '__lt__', '__module__', '__ne__', '__new__', '__reduce__', '__reduce_ex__', '__repr__', '__setattr__', '__sizeof__', '__str__', '__subclasshook__', '__weakref__', 'color', 'getcar', 'model', 'new_f', 'power_window', 'price', 'showcar']\n"
     ]
    }
   ],
   "source": [
    "print(dir(kia1))"
   ]
  },
  {
   "cell_type": "code",
   "execution_count": 35,
   "id": "3fc19079",
   "metadata": {},
   "outputs": [
    {
     "name": "stdout",
     "output_type": "stream",
     "text": [
      "car name Kia seltos\n",
      "car colors:  ['white', 'blue', 'gray', 'red']\n",
      "car model:  kia seltos model 2021\n",
      "car price:  12 L to 15 L\n"
     ]
    }
   ],
   "source": [
    "kia1.showcar()"
   ]
  },
  {
   "cell_type": "code",
   "execution_count": 36,
   "id": "c7976929",
   "metadata": {},
   "outputs": [
    {
     "name": "stdout",
     "output_type": "stream",
     "text": [
      "power window:  YES\n",
      "ATM: YES\n",
      "ABS: YES\n",
      "car name Kia seltos\n",
      "car colors:  ['white', 'blue', 'gray', 'red']\n",
      "car model:  kia seltos model 2021 model 2021\n",
      "car price:  12 L to 15 L\n"
     ]
    }
   ],
   "source": [
    "kia1.new_f()"
   ]
  },
  {
   "cell_type": "code",
   "execution_count": 38,
   "id": "0d6064f9",
   "metadata": {},
   "outputs": [],
   "source": [
    "kia2.getcar()"
   ]
  },
  {
   "cell_type": "code",
   "execution_count": 39,
   "id": "8774afce",
   "metadata": {},
   "outputs": [
    {
     "name": "stdout",
     "output_type": "stream",
     "text": [
      "car name Kia seltos\n",
      "car colors:  ['white', 'blue', 'gray', 'red']\n",
      "car model:  kia seltos\n",
      "car price:  12 L to 15 L\n"
     ]
    }
   ],
   "source": [
    "kia2.showcar()"
   ]
  },
  {
   "cell_type": "code",
   "execution_count": 40,
   "id": "5b3b4c25",
   "metadata": {},
   "outputs": [
    {
     "name": "stdout",
     "output_type": "stream",
     "text": [
      "power window:  YES\n",
      "ATM: YES\n",
      "ABS: YES\n",
      "car name Kia seltos\n",
      "car colors:  ['white', 'blue', 'gray', 'red']\n",
      "car model:  kia seltos model 2021\n",
      "car price:  12 L to 15 L\n"
     ]
    }
   ],
   "source": [
    "kia2.new_f()"
   ]
  },
  {
   "cell_type": "code",
   "execution_count": 48,
   "id": "a2b71f54",
   "metadata": {},
   "outputs": [],
   "source": [
    "\n",
    "class base:\n",
    "    def __init__(self):\n",
    "        self.name='i am constructor....'\n",
    "        self.age='new born'\n",
    "class change(base):\n",
    "    def __init__(self):\n",
    "        base.__init__(self)\n",
    "   \n",
    "    def show(self):\n",
    "        print('name: ',self.name)\n",
    "        print('age: ',self.age)"
   ]
  },
  {
   "cell_type": "code",
   "execution_count": 49,
   "id": "f96ff2ce",
   "metadata": {},
   "outputs": [],
   "source": [
    "ob=change()"
   ]
  },
  {
   "cell_type": "code",
   "execution_count": 50,
   "id": "e56c0e5b",
   "metadata": {},
   "outputs": [
    {
     "name": "stdout",
     "output_type": "stream",
     "text": [
      "name:  i am constructor....\n",
      "age:  new born\n"
     ]
    }
   ],
   "source": [
    "ob.show()"
   ]
  },
  {
   "cell_type": "code",
   "execution_count": null,
   "id": "54b48791",
   "metadata": {},
   "outputs": [],
   "source": []
  }
 ],
 "metadata": {
  "kernelspec": {
   "display_name": "Python 3 (ipykernel)",
   "language": "python",
   "name": "python3"
  },
  "language_info": {
   "codemirror_mode": {
    "name": "ipython",
    "version": 3
   },
   "file_extension": ".py",
   "mimetype": "text/x-python",
   "name": "python",
   "nbconvert_exporter": "python",
   "pygments_lexer": "ipython3",
   "version": "3.9.6"
  }
 },
 "nbformat": 4,
 "nbformat_minor": 5
}
