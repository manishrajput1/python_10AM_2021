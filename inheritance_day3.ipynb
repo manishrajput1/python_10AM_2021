{
 "cells": [
  {
   "cell_type": "code",
   "execution_count": 22,
   "id": "106ef3ba",
   "metadata": {},
   "outputs": [],
   "source": [
    "parent=0\n",
    "class p1:\n",
    "    \n",
    "    def __init__(self,name,age):\n",
    "        self.name=name\n",
    "        self.age=age\n",
    "    def get(self,addr,gender):\n",
    "        self.addr=addr\n",
    "        self.gender=gender\n",
    "class p2:\n",
    "    def showdata(self):\n",
    "        print('parent name: ',self.name)\n",
    "        print('parent age: ',self.age)\n",
    "        print('address: ',self.addr)\n",
    "        print('gender: ',self.gender)\n",
    "class child(p1,p2):\n",
    "    \n",
    "    def show(self):\n",
    "        global parent\n",
    "        parent+=1\n",
    "        print('total parents: ',parent)"
   ]
  },
  {
   "cell_type": "code",
   "execution_count": 23,
   "id": "a607393d",
   "metadata": {},
   "outputs": [],
   "source": [
    "obj=child('manish',23)\n",
    "obj1=child('shan',30)\n",
    "obj2=child('sachin',29)"
   ]
  },
  {
   "cell_type": "code",
   "execution_count": 15,
   "id": "df5407df",
   "metadata": {},
   "outputs": [
    {
     "name": "stdout",
     "output_type": "stream",
     "text": [
      "['__class__', '__delattr__', '__dict__', '__dir__', '__doc__', '__eq__', '__format__', '__ge__', '__getattribute__', '__gt__', '__hash__', '__init__', '__init_subclass__', '__le__', '__lt__', '__module__', '__ne__', '__new__', '__reduce__', '__reduce_ex__', '__repr__', '__setattr__', '__sizeof__', '__str__', '__subclasshook__', '__weakref__', 'age', 'name', 'show', 'showdata']\n"
     ]
    }
   ],
   "source": [
    "print(dir(obj))"
   ]
  },
  {
   "cell_type": "code",
   "execution_count": 16,
   "id": "78c4c13b",
   "metadata": {},
   "outputs": [
    {
     "name": "stdout",
     "output_type": "stream",
     "text": [
      "parent name:  manish\n",
      "parent age:  23\n"
     ]
    }
   ],
   "source": [
    "obj.showdata()"
   ]
  },
  {
   "cell_type": "code",
   "execution_count": 17,
   "id": "2406d7dd",
   "metadata": {},
   "outputs": [
    {
     "name": "stdout",
     "output_type": "stream",
     "text": [
      "parent name:  shan\n",
      "parent age:  30\n"
     ]
    }
   ],
   "source": [
    "obj1.showdata()"
   ]
  },
  {
   "cell_type": "code",
   "execution_count": 18,
   "id": "83a10116",
   "metadata": {},
   "outputs": [
    {
     "name": "stdout",
     "output_type": "stream",
     "text": [
      "parent name:  sachin\n",
      "parent age:  29\n"
     ]
    }
   ],
   "source": [
    "obj2.showdata()"
   ]
  },
  {
   "cell_type": "code",
   "execution_count": 19,
   "id": "654aadb6",
   "metadata": {},
   "outputs": [
    {
     "name": "stdout",
     "output_type": "stream",
     "text": [
      "total parents:  1\n"
     ]
    }
   ],
   "source": [
    "obj.show()"
   ]
  },
  {
   "cell_type": "code",
   "execution_count": 20,
   "id": "a5fcd004",
   "metadata": {},
   "outputs": [
    {
     "name": "stdout",
     "output_type": "stream",
     "text": [
      "total parents:  2\n"
     ]
    }
   ],
   "source": [
    "obj1.show()"
   ]
  },
  {
   "cell_type": "code",
   "execution_count": 21,
   "id": "b2bcd4a2",
   "metadata": {},
   "outputs": [
    {
     "name": "stdout",
     "output_type": "stream",
     "text": [
      "total parents:  3\n"
     ]
    }
   ],
   "source": [
    "obj2.show()"
   ]
  },
  {
   "cell_type": "code",
   "execution_count": 25,
   "id": "a7bf119d",
   "metadata": {},
   "outputs": [],
   "source": [
    "obj.get('Vrindavan','M')"
   ]
  },
  {
   "cell_type": "code",
   "execution_count": 26,
   "id": "f284270e",
   "metadata": {},
   "outputs": [
    {
     "name": "stdout",
     "output_type": "stream",
     "text": [
      "parent name:  manish\n",
      "parent age:  23\n",
      "address:  Vrindavan\n",
      "gender:  M\n"
     ]
    }
   ],
   "source": [
    "obj.showdata()"
   ]
  },
  {
   "cell_type": "code",
   "execution_count": 27,
   "id": "93972691",
   "metadata": {},
   "outputs": [],
   "source": [
    "parent=0\n",
    "class p1:\n",
    "    \n",
    "    def __init__(self,name,age):\n",
    "        self.name=name\n",
    "        self.age=age\n",
    "    def get(self,addr,gender):\n",
    "        self.addr=addr\n",
    "        self.gender=gender\n",
    "class p2(p1):\n",
    "    def showdata(self):\n",
    "        print('parent name: ',self.name)\n",
    "        print('parent age: ',self.age)\n",
    "        print('address: ',self.addr)\n",
    "        print('gender: ',self.gender)\n",
    "class child(p2):\n",
    "    \n",
    "    def show(self):\n",
    "        global parent\n",
    "        parent+=1\n",
    "        print('total parents: ',parent)"
   ]
  },
  {
   "cell_type": "code",
   "execution_count": 28,
   "id": "deb0c7c7",
   "metadata": {},
   "outputs": [],
   "source": [
    "ob=child('mann',23)"
   ]
  },
  {
   "cell_type": "code",
   "execution_count": 29,
   "id": "64ef5bec",
   "metadata": {},
   "outputs": [],
   "source": [
    "ob.get('Vrindavan','M')"
   ]
  },
  {
   "cell_type": "code",
   "execution_count": 30,
   "id": "e22f3b79",
   "metadata": {},
   "outputs": [
    {
     "name": "stdout",
     "output_type": "stream",
     "text": [
      "parent name:  mann\n",
      "parent age:  23\n",
      "address:  Vrindavan\n",
      "gender:  M\n"
     ]
    }
   ],
   "source": [
    "ob.showdata()"
   ]
  },
  {
   "cell_type": "code",
   "execution_count": 31,
   "id": "e9e796fe",
   "metadata": {},
   "outputs": [
    {
     "name": "stdout",
     "output_type": "stream",
     "text": [
      "total parents:  1\n"
     ]
    }
   ],
   "source": [
    "ob.show()"
   ]
  },
  {
   "cell_type": "code",
   "execution_count": 36,
   "id": "a8d98496",
   "metadata": {},
   "outputs": [],
   "source": [
    "class root:\n",
    "    def __init__(self,oneplus,iphone):\n",
    "        self.one=oneplus\n",
    "        self.iphone=iphone\n",
    "class OnePlus(root):\n",
    "    de9(self):\n",
    "        self.name='oneplus9'\n",
    "        self.color=['white','black','skyblue']\n",
    "        print('model name: ',self.name)\n",
    "        print('model color: ',self.color)\n",
    "class Iphone(root):\n",
    "    def iphone13(self):\n",
    "        print('model name: Iphone13')\n",
    "        print('model color: white,black,skyblue')\n",
    "class updated_oneplus(OnePlus):\n",
    "    def updated(self):\n",
    "        self.price=50000\n",
    "        print('model name: ',self.name)\n",
    "        print('model color: ',self.color)\n",
    "        print('model price: ',self.price)\n",
    "    \n",
    "    "
   ]
  },
  {
   "cell_type": "code",
   "execution_count": 37,
   "id": "32a1fe4f",
   "metadata": {},
   "outputs": [],
   "source": [
    "ob=updated_oneplus('oneplus','iphone')"
   ]
  },
  {
   "cell_type": "code",
   "execution_count": null,
   "id": "470af67d",
   "metadata": {},
   "outputs": [],
   "source": []
  },
  {
   "cell_type": "code",
   "execution_count": 38,
   "id": "408a832b",
   "metadata": {},
   "outputs": [
    {
     "name": "stdout",
     "output_type": "stream",
     "text": [
      "['__class__', '__delattr__', '__dict__', '__dir__', '__doc__', '__eq__', '__format__', '__ge__', '__getattribute__', '__gt__', '__hash__', '__init__', '__init_subclass__', '__le__', '__lt__', '__module__', '__ne__', '__new__', '__reduce__', '__reduce_ex__', '__repr__', '__setattr__', '__sizeof__', '__str__', '__subclasshook__', '__weakref__', 'iphone', 'one', 'onep9', 'updated']\n"
     ]
    }
   ],
   "source": [
    "print(dir(ob))"
   ]
  },
  {
   "cell_type": "code",
   "execution_count": 41,
   "id": "4d1b761f",
   "metadata": {},
   "outputs": [
    {
     "name": "stdout",
     "output_type": "stream",
     "text": [
      "model name:  oneplus9\n",
      "model color:  ['white', 'black', 'skyblue']\n"
     ]
    }
   ],
   "source": [
    "ob.onep9()"
   ]
  },
  {
   "cell_type": "code",
   "execution_count": 42,
   "id": "75341b10",
   "metadata": {},
   "outputs": [
    {
     "name": "stdout",
     "output_type": "stream",
     "text": [
      "model name:  oneplus9\n",
      "model color:  ['white', 'black', 'skyblue']\n",
      "model price:  50000\n"
     ]
    }
   ],
   "source": [
    "ob.updated()"
   ]
  },
  {
   "cell_type": "code",
   "execution_count": 43,
   "id": "68dd581c",
   "metadata": {},
   "outputs": [
    {
     "ename": "AttributeError",
     "evalue": "'updated_oneplus' object has no attribute 'iphone13'",
     "output_type": "error",
     "traceback": [
      "\u001b[1;31m---------------------------------------------------------------------------\u001b[0m",
      "\u001b[1;31mAttributeError\u001b[0m                            Traceback (most recent call last)",
      "\u001b[1;32m~\\AppData\\Local\\Temp/ipykernel_9420/2445513821.py\u001b[0m in \u001b[0;36m<module>\u001b[1;34m\u001b[0m\n\u001b[1;32m----> 1\u001b[1;33m \u001b[0mob\u001b[0m\u001b[1;33m.\u001b[0m\u001b[0miphone13\u001b[0m\u001b[1;33m(\u001b[0m\u001b[1;33m)\u001b[0m\u001b[1;33m\u001b[0m\u001b[1;33m\u001b[0m\u001b[0m\n\u001b[0m",
      "\u001b[1;31mAttributeError\u001b[0m: 'updated_oneplus' object has no attribute 'iphone13'"
     ]
    }
   ],
   "source": [
    "ob.iphone13()"
   ]
  },
  {
   "cell_type": "code",
   "execution_count": null,
   "id": "e2c4d092",
   "metadata": {},
   "outputs": [],
   "source": []
  }
 ],
 "metadata": {
  "kernelspec": {
   "display_name": "Python 3 (ipykernel)",
   "language": "python",
   "name": "python3"
  },
  "language_info": {
   "codemirror_mode": {
    "name": "ipython",
    "version": 3
   },
   "file_extension": ".py",
   "mimetype": "text/x-python",
   "name": "python",
   "nbconvert_exporter": "python",
   "pygments_lexer": "ipython3",
   "version": "3.9.6"
  }
 },
 "nbformat": 4,
 "nbformat_minor": 5
}
