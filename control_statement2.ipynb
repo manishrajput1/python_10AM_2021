{
 "cells": [
  {
   "cell_type": "code",
   "execution_count": 5,
   "id": "eba6916d",
   "metadata": {},
   "outputs": [
    {
     "name": "stdout",
     "output_type": "stream",
     "text": [
      "Enter number: 24\n",
      "not weird\n"
     ]
    }
   ],
   "source": [
    "n=int(input('Enter number: '))\n",
    "if n%2 or 6<=n<=20:\n",
    "    print('weird')\n",
    "elif 2<=n<=5 or n>20:\n",
    "    print('not weird')\n",
    "\n"
   ]
  },
  {
   "cell_type": "markdown",
   "id": "746fae73",
   "metadata": {},
   "source": [
    "## Write a Python program to find maximum between two numbers.\n"
   ]
  },
  {
   "cell_type": "code",
   "execution_count": 10,
   "id": "85013556",
   "metadata": {},
   "outputs": [
    {
     "name": "stdout",
     "output_type": "stream",
     "text": [
      "Enter a: 30\n",
      "Enter b: 40\n",
      "b is max\n"
     ]
    }
   ],
   "source": [
    "a=eval(input('Enter a: '))\n",
    "b=eval(input('Enter b: '))\n",
    "if a>b:\n",
    "    print('a is max')\n",
    "elif a==b:\n",
    "    print('both are equal')\n",
    "else:\n",
    "    print('b is max')"
   ]
  },
  {
   "cell_type": "markdown",
   "id": "29ade028",
   "metadata": {},
   "source": [
    "## Write a Python program to check whether a number is negative, positive or zero.\n"
   ]
  },
  {
   "cell_type": "code",
   "execution_count": 13,
   "id": "be1ba08e",
   "metadata": {},
   "outputs": [
    {
     "name": "stdout",
     "output_type": "stream",
     "text": [
      "Enter any number: 0\n",
      "zero\n"
     ]
    }
   ],
   "source": [
    "n=int(input('Enter any number: '))\n",
    "if n>0:\n",
    "    print('positive')\n",
    "elif n==0:\n",
    "    print('zero')\n",
    "else:\n",
    "    print('negative')"
   ]
  },
  {
   "cell_type": "markdown",
   "id": "f016a52c",
   "metadata": {},
   "source": [
    "## Write a Python program to check whether a number is divisible by 5 and 11 or not."
   ]
  },
  {
   "cell_type": "code",
   "execution_count": 16,
   "id": "edbd187c",
   "metadata": {},
   "outputs": [
    {
     "name": "stdout",
     "output_type": "stream",
     "text": [
      "Enter n: 110\n",
      "given number is divisible by 5 and 11\n"
     ]
    }
   ],
   "source": [
    "n=int(input('Enter n: '))\n",
    "if n%5==0 and n%11==0:\n",
    "    print('given number is divisible by 5 and 11')\n",
    "else:\n",
    "    print('not divisible')"
   ]
  },
  {
   "cell_type": "markdown",
   "id": "715af931",
   "metadata": {},
   "source": [
    "## Write a Python program to check whether a character is alphabet or not.\n"
   ]
  },
  {
   "cell_type": "code",
   "execution_count": 22,
   "id": "e026c4cd",
   "metadata": {},
   "outputs": [
    {
     "name": "stdout",
     "output_type": "stream",
     "text": [
      "Enter a: tr\n",
      "string or not alphabet\n"
     ]
    }
   ],
   "source": [
    "a=input('Enter a: ')\n",
    "if a.isalpha() and len(a)==1:\n",
    "    print('alphabet')\n",
    "else:\n",
    "    print('string or not alphabet')"
   ]
  },
  {
   "cell_type": "code",
   "execution_count": 31,
   "id": "49cd44d2",
   "metadata": {},
   "outputs": [
    {
     "name": "stdout",
     "output_type": "stream",
     "text": [
      "Enter b: W\n",
      "alphabet\n"
     ]
    }
   ],
   "source": [
    "b=input('Enter b: ').lower()\n",
    "if len(b)==1 and (b>='a' and b<='z'):\n",
    "    print('alphabet')\n",
    "else:\n",
    "    print('not alphabet')"
   ]
  },
  {
   "cell_type": "code",
   "execution_count": 32,
   "id": "3bbf111b",
   "metadata": {},
   "outputs": [
    {
     "name": "stderr",
     "output_type": "stream",
     "text": [
      "100%|██████████████████████████████████████████████████| 600/600 [10:05<00:00,  1.01s/it]\n"
     ]
    }
   ],
   "source": [
    "from tqdm import tqdm\n",
    "from time import sleep\n",
    "for _ in tqdm(range(600)):\n",
    "    sleep(1)"
   ]
  },
  {
   "cell_type": "markdown",
   "id": "9a41e252",
   "metadata": {},
   "source": [
    "## Write a Python program to input any alphabet and check whether it is vowel or consonant.\n"
   ]
  },
  {
   "cell_type": "code",
   "execution_count": 36,
   "id": "31f2eb79",
   "metadata": {},
   "outputs": [
    {
     "name": "stdout",
     "output_type": "stream",
     "text": [
      "Enter s: o\n",
      "vowel\n"
     ]
    }
   ],
   "source": [
    "l=['a','e','i','o','u']\n",
    "s=input('Enter s: ').lower()\n",
    "if s in l and len(s)==1:\n",
    "    print('vowel')\n",
    "else:\n",
    "    print('consonant')"
   ]
  },
  {
   "cell_type": "markdown",
   "id": "30a6c6ff",
   "metadata": {},
   "source": [
    "## Write a Python program to input week number and print week day."
   ]
  },
  {
   "cell_type": "code",
   "execution_count": 41,
   "id": "a60d0244",
   "metadata": {},
   "outputs": [
    {
     "name": "stdout",
     "output_type": "stream",
     "text": [
      "Enter week number: 1\n",
      "('mon', 1)\n"
     ]
    }
   ],
   "source": [
    "d={1:('mon',1),2:'tue',3:'wed',4:'thu',5:'fri',6:'sat',7:'sun'}\n",
    "n=int(input('Enter week number: '))\n",
    "if n<=7:\n",
    "    print(d.get(n))\n",
    "else:\n",
    "    print('invalid week number....')"
   ]
  },
  {
   "cell_type": "markdown",
   "id": "afcd911e",
   "metadata": {},
   "source": [
    "## Write a Python program to count total number of notes in given amount. "
   ]
  },
  {
   "cell_type": "code",
   "execution_count": 42,
   "id": "f7127a76",
   "metadata": {},
   "outputs": [
    {
     "data": {
      "text/plain": [
       "393393"
      ]
     },
     "execution_count": 42,
     "metadata": {},
     "output_type": "execute_result"
    }
   ],
   "source": [
    "786786786//2000"
   ]
  },
  {
   "cell_type": "code",
   "execution_count": 43,
   "id": "76a585cf",
   "metadata": {},
   "outputs": [
    {
     "data": {
      "text/plain": [
       "786"
      ]
     },
     "execution_count": 43,
     "metadata": {},
     "output_type": "execute_result"
    }
   ],
   "source": [
    "786786786%2000"
   ]
  },
  {
   "cell_type": "code",
   "execution_count": 44,
   "id": "98399679",
   "metadata": {},
   "outputs": [
    {
     "data": {
      "text/plain": [
       "1"
      ]
     },
     "execution_count": 44,
     "metadata": {},
     "output_type": "execute_result"
    }
   ],
   "source": [
    "786//500"
   ]
  },
  {
   "cell_type": "code",
   "execution_count": 45,
   "id": "41056766",
   "metadata": {},
   "outputs": [
    {
     "data": {
      "text/plain": [
       "286"
      ]
     },
     "execution_count": 45,
     "metadata": {},
     "output_type": "execute_result"
    }
   ],
   "source": [
    "786%500"
   ]
  },
  {
   "cell_type": "code",
   "execution_count": 46,
   "id": "3e8dd9fc",
   "metadata": {},
   "outputs": [
    {
     "data": {
      "text/plain": [
       "1"
      ]
     },
     "execution_count": 46,
     "metadata": {},
     "output_type": "execute_result"
    }
   ],
   "source": [
    "286//200"
   ]
  },
  {
   "cell_type": "code",
   "execution_count": 47,
   "id": "08b67a56",
   "metadata": {},
   "outputs": [
    {
     "data": {
      "text/plain": [
       "86"
      ]
     },
     "execution_count": 47,
     "metadata": {},
     "output_type": "execute_result"
    }
   ],
   "source": [
    "286%200"
   ]
  },
  {
   "cell_type": "code",
   "execution_count": null,
   "id": "72a2b7a2",
   "metadata": {},
   "outputs": [],
   "source": [
    "amount=int(input('Enter amount: '))\n",
    "two_th=amount//2000\n",
    "amount=amount%2000\n",
    "five_hun=amount//500\n",
    "amount=amount%500\n",
    "total_notes=two_th+five_hun\n"
   ]
  },
  {
   "cell_type": "code",
   "execution_count": 50,
   "id": "dae7d800",
   "metadata": {},
   "outputs": [
    {
     "name": "stdout",
     "output_type": "stream",
     "text": [
      "2\n",
      "2\n",
      "4\n",
      "1\n",
      "2\n"
     ]
    }
   ],
   "source": [
    "a=int(input())\n",
    "b=int(input())\n",
    "c=int(input())\n",
    "r1=-b+((b**2-4*a*c)/2*a)**0.5\n",
    "r2=-b-((b**2-4*a*c)/2*a)**0.5\n",
    "print(int(abs(r1.real)))\n",
    "print(int(abs(r2.real)))"
   ]
  },
  {
   "cell_type": "code",
   "execution_count": null,
   "id": "afb730e3",
   "metadata": {},
   "outputs": [],
   "source": []
  }
 ],
 "metadata": {
  "kernelspec": {
   "display_name": "Python 3 (ipykernel)",
   "language": "python",
   "name": "python3"
  },
  "language_info": {
   "codemirror_mode": {
    "name": "ipython",
    "version": 3
   },
   "file_extension": ".py",
   "mimetype": "text/x-python",
   "name": "python",
   "nbconvert_exporter": "python",
   "pygments_lexer": "ipython3",
   "version": "3.9.6"
  }
 },
 "nbformat": 4,
 "nbformat_minor": 5
}
