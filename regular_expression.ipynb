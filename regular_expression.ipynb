{
 "cells": [
  {
   "cell_type": "code",
   "execution_count": 1,
   "id": "40e4df19",
   "metadata": {},
   "outputs": [],
   "source": [
    "import re"
   ]
  },
  {
   "cell_type": "code",
   "execution_count": 2,
   "id": "a1e6d7c2",
   "metadata": {},
   "outputs": [
    {
     "name": "stdout",
     "output_type": "stream",
     "text": [
      "['A', 'ASCII', 'DEBUG', 'DOTALL', 'I', 'IGNORECASE', 'L', 'LOCALE', 'M', 'MULTILINE', 'Match', 'Pattern', 'RegexFlag', 'S', 'Scanner', 'T', 'TEMPLATE', 'U', 'UNICODE', 'VERBOSE', 'X', '_MAXCACHE', '__all__', '__builtins__', '__cached__', '__doc__', '__file__', '__loader__', '__name__', '__package__', '__spec__', '__version__', '_cache', '_compile', '_compile_repl', '_expand', '_locale', '_pickle', '_special_chars_map', '_subx', 'compile', 'copyreg', 'enum', 'error', 'escape', 'findall', 'finditer', 'fullmatch', 'functools', 'match', 'purge', 'search', 'split', 'sre_compile', 'sre_parse', 'sub', 'subn', 'template']\n"
     ]
    }
   ],
   "source": [
    "print(dir(re))"
   ]
  },
  {
   "cell_type": "code",
   "execution_count": 25,
   "id": "e31464c7",
   "metadata": {},
   "outputs": [],
   "source": [
    "s='abababbamanishmanishmanismanishmanmannmannnnamnnabababbabsabbabababsbababbababsbsabbbabbsba'"
   ]
  },
  {
   "cell_type": "code",
   "execution_count": 30,
   "id": "083e3991",
   "metadata": {},
   "outputs": [],
   "source": [
    "pat=re.compile('mann')"
   ]
  },
  {
   "cell_type": "code",
   "execution_count": 31,
   "id": "313bf097",
   "metadata": {},
   "outputs": [],
   "source": [
    "matches=pat.finditer(s)"
   ]
  },
  {
   "cell_type": "code",
   "execution_count": 32,
   "id": "8baf6257",
   "metadata": {},
   "outputs": [
    {
     "name": "stdout",
     "output_type": "stream",
     "text": [
      "<callable_iterator object at 0x000001A068C3E9A0>\n"
     ]
    }
   ],
   "source": [
    "print(matches)"
   ]
  },
  {
   "cell_type": "code",
   "execution_count": 33,
   "id": "f2ea66a7",
   "metadata": {},
   "outputs": [
    {
     "name": "stdout",
     "output_type": "stream",
     "text": [
      "start: 34  end: 38  group: mann\n",
      "start: 38  end: 42  group: mann\n",
      "accurance in s:  2\n"
     ]
    }
   ],
   "source": [
    "c=0\n",
    "for m in matches:\n",
    "    print(\"start: {}  end: {}  group: {}\".format(m.start(),m.end(),m.group()))\n",
    "    c+=1\n",
    "print('accurance in s: ',c)"
   ]
  },
  {
   "cell_type": "code",
   "execution_count": 61,
   "id": "de4086fe",
   "metadata": {},
   "outputs": [],
   "source": [
    "d=re.finditer('(a+)','hjghgftyaaafgydtftyfhavbvcgfcghsabdbjg')"
   ]
  },
  {
   "cell_type": "code",
   "execution_count": 62,
   "id": "70fc32a6",
   "metadata": {},
   "outputs": [
    {
     "name": "stdout",
     "output_type": "stream",
     "text": [
      "8 11 aaa\n",
      "21 22 a\n",
      "32 33 a\n"
     ]
    }
   ],
   "source": [
    "for i in d:\n",
    "    print(i.start(), i.end(), i.group())"
   ]
  },
  {
   "cell_type": "code",
   "execution_count": null,
   "id": "686769c7",
   "metadata": {},
   "outputs": [],
   "source": []
  }
 ],
 "metadata": {
  "kernelspec": {
   "display_name": "Python 3 (ipykernel)",
   "language": "python",
   "name": "python3"
  },
  "language_info": {
   "codemirror_mode": {
    "name": "ipython",
    "version": 3
   },
   "file_extension": ".py",
   "mimetype": "text/x-python",
   "name": "python",
   "nbconvert_exporter": "python",
   "pygments_lexer": "ipython3",
   "version": "3.9.6"
  }
 },
 "nbformat": 4,
 "nbformat_minor": 5
}
