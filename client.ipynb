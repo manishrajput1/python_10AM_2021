{
 "cells": [
  {
   "cell_type": "code",
   "execution_count": 1,
   "id": "82a82fff",
   "metadata": {},
   "outputs": [
    {
     "name": "stdout",
     "output_type": "stream",
     "text": [
      "hello client?\n",
      "connected\n"
     ]
    },
    {
     "data": {
      "text/plain": [
       "12"
      ]
     },
     "execution_count": 1,
     "metadata": {},
     "output_type": "execute_result"
    }
   ],
   "source": [
    "import socket\n",
    "c=socket.socket()\n",
    "h=socket.gethostname()\n",
    "c.connect((h,1234))\n",
    "d=c.recv(1024)\n",
    "print(d.decode())\n",
    "print('connected')\n",
    "msg='hello server'\n",
    "c.send(msg.encode())"
   ]
  },
  {
   "cell_type": "code",
   "execution_count": null,
   "id": "b528ca19",
   "metadata": {},
   "outputs": [],
   "source": []
  },
  {
   "cell_type": "code",
   "execution_count": null,
   "id": "e819bd57",
   "metadata": {},
   "outputs": [],
   "source": []
  },
  {
   "cell_type": "code",
   "execution_count": null,
   "id": "02acd143",
   "metadata": {},
   "outputs": [],
   "source": []
  },
  {
   "cell_type": "code",
   "execution_count": 6,
   "id": "dec7bda8",
   "metadata": {},
   "outputs": [
    {
     "name": "stdout",
     "output_type": "stream",
     "text": [
      "Overwriting client.py\n"
     ]
    }
   ],
   "source": [
    "%%writefile client.py\n",
    "import socket\n",
    "c=socket.socket()\n",
    "h=socket.gethostname()\n",
    "c.connect((h,12345))\n",
    "def client():\n",
    "    d=c.recv(1024)\n",
    "    print(d.decode())\n",
    "    m=input('Enter msg: ').encode()\n",
    "    c.send(m)\n",
    "    client()\n",
    "client()"
   ]
  },
  {
   "cell_type": "code",
   "execution_count": 3,
   "id": "71074d29",
   "metadata": {},
   "outputs": [],
   "source": [
    "import os\n",
    "os.chdir('C:\\\\Users\\\\rmani\\\\Desktop')"
   ]
  },
  {
   "cell_type": "code",
   "execution_count": null,
   "id": "b8274cf6",
   "metadata": {},
   "outputs": [],
   "source": []
  }
 ],
 "metadata": {
  "kernelspec": {
   "display_name": "Python 3 (ipykernel)",
   "language": "python",
   "name": "python3"
  },
  "language_info": {
   "codemirror_mode": {
    "name": "ipython",
    "version": 3
   },
   "file_extension": ".py",
   "mimetype": "text/x-python",
   "name": "python",
   "nbconvert_exporter": "python",
   "pygments_lexer": "ipython3",
   "version": "3.9.6"
  }
 },
 "nbformat": 4,
 "nbformat_minor": 5
}
