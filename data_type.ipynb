{
 "cells": [
  {
   "cell_type": "code",
   "execution_count": 18,
   "id": "2cd576df",
   "metadata": {},
   "outputs": [],
   "source": [
    "s='hello manish how are you manish ?'"
   ]
  },
  {
   "cell_type": "code",
   "execution_count": 2,
   "id": "3a777449",
   "metadata": {},
   "outputs": [
    {
     "name": "stdout",
     "output_type": "stream",
     "text": [
      "['__add__', '__class__', '__contains__', '__delattr__', '__dir__', '__doc__', '__eq__', '__format__', '__ge__', '__getattribute__', '__getitem__', '__getnewargs__', '__gt__', '__hash__', '__init__', '__init_subclass__', '__iter__', '__le__', '__len__', '__lt__', '__mod__', '__mul__', '__ne__', '__new__', '__reduce__', '__reduce_ex__', '__repr__', '__rmod__', '__rmul__', '__setattr__', '__sizeof__', '__str__', '__subclasshook__', 'capitalize', 'casefold', 'center', 'count', 'encode', 'endswith', 'expandtabs', 'find', 'format', 'format_map', 'index', 'isalnum', 'isalpha', 'isascii', 'isdecimal', 'isdigit', 'isidentifier', 'islower', 'isnumeric', 'isprintable', 'isspace', 'istitle', 'isupper', 'join', 'ljust', 'lower', 'lstrip', 'maketrans', 'partition', 'removeprefix', 'removesuffix', 'replace', 'rfind', 'rindex', 'rjust', 'rpartition', 'rsplit', 'rstrip', 'split', 'splitlines', 'startswith', 'strip', 'swapcase', 'title', 'translate', 'upper', 'zfill']\n"
     ]
    }
   ],
   "source": [
    "print(dir(str))"
   ]
  },
  {
   "cell_type": "code",
   "execution_count": 3,
   "id": "de559512",
   "metadata": {},
   "outputs": [],
   "source": [
    "# center "
   ]
  },
  {
   "cell_type": "code",
   "execution_count": 4,
   "id": "190506d7",
   "metadata": {},
   "outputs": [
    {
     "name": "stdout",
     "output_type": "stream",
     "text": [
      "Help on method_descriptor:\n",
      "\n",
      "center(self, width, fillchar=' ', /)\n",
      "    Return a centered string of length width.\n",
      "    \n",
      "    Padding is done using the specified fill character (default is a space).\n",
      "\n"
     ]
    }
   ],
   "source": [
    "help(str.center)"
   ]
  },
  {
   "cell_type": "code",
   "execution_count": 5,
   "id": "84dfc5fe",
   "metadata": {},
   "outputs": [
    {
     "data": {
      "text/plain": [
       "'hello manish how are you?'"
      ]
     },
     "execution_count": 5,
     "metadata": {},
     "output_type": "execute_result"
    }
   ],
   "source": [
    "s"
   ]
  },
  {
   "cell_type": "code",
   "execution_count": 8,
   "id": "49de38da",
   "metadata": {},
   "outputs": [
    {
     "data": {
      "text/plain": [
       "'************hello manish how are you?*************'"
      ]
     },
     "execution_count": 8,
     "metadata": {},
     "output_type": "execute_result"
    }
   ],
   "source": [
    "s.center(50,'*')"
   ]
  },
  {
   "cell_type": "code",
   "execution_count": 9,
   "id": "c9dcd88f",
   "metadata": {},
   "outputs": [],
   "source": [
    "d=['a','b','c','d','e','f']\n",
    "data=[]\n",
    "import random\n",
    "for i  in range(50):\n",
    "    data.append(random.choice(d))"
   ]
  },
  {
   "cell_type": "code",
   "execution_count": 11,
   "id": "a6e29399",
   "metadata": {},
   "outputs": [
    {
     "name": "stdout",
     "output_type": "stream",
     "text": [
      "['a', 'b', 'b', 'a', 'b', 'e', 'c', 'b', 'd', 'a', 'f', 'e', 'c', 'e', 'd', 'b', 'e', 'a', 'e', 'd', 'b', 'c', 'b', 'd', 'a', 'f', 'a', 'c', 'f', 'e', 'a', 'e', 'd', 'e', 'a', 'e', 'd', 'a', 'a', 'a', 'c', 'd', 'f', 'c', 'b', 'f', 'd', 'c', 'c', 'e']\n"
     ]
    }
   ],
   "source": [
    "print(data)"
   ]
  },
  {
   "cell_type": "code",
   "execution_count": 12,
   "id": "3de5b06d",
   "metadata": {},
   "outputs": [],
   "source": [
    "st=''.join(data)"
   ]
  },
  {
   "cell_type": "code",
   "execution_count": 13,
   "id": "dd8f3dd8",
   "metadata": {},
   "outputs": [
    {
     "data": {
      "text/plain": [
       "'abbabecbdafecedbeaedbcbdafacfeaedeaedaaacdfcbfdcce'"
      ]
     },
     "execution_count": 13,
     "metadata": {},
     "output_type": "execute_result"
    }
   ],
   "source": [
    "st"
   ]
  },
  {
   "cell_type": "code",
   "execution_count": 15,
   "id": "f485536e",
   "metadata": {},
   "outputs": [
    {
     "data": {
      "text/plain": [
       "11"
      ]
     },
     "execution_count": 15,
     "metadata": {},
     "output_type": "execute_result"
    }
   ],
   "source": [
    "st.count('a')"
   ]
  },
  {
   "cell_type": "code",
   "execution_count": 16,
   "id": "0dc35919",
   "metadata": {},
   "outputs": [
    {
     "data": {
      "text/plain": [
       "'hello manish how are you?'"
      ]
     },
     "execution_count": 16,
     "metadata": {},
     "output_type": "execute_result"
    }
   ],
   "source": [
    "s"
   ]
  },
  {
   "cell_type": "code",
   "execution_count": 19,
   "id": "6d6eb4b9",
   "metadata": {},
   "outputs": [
    {
     "data": {
      "text/plain": [
       "('hello ', 'manish', ' how are you manish ?')"
      ]
     },
     "execution_count": 19,
     "metadata": {},
     "output_type": "execute_result"
    }
   ],
   "source": [
    "s.partition('manish')"
   ]
  },
  {
   "cell_type": "code",
   "execution_count": 20,
   "id": "54348d88",
   "metadata": {},
   "outputs": [
    {
     "data": {
      "text/plain": [
       "'hello manish how are you manish ?'"
      ]
     },
     "execution_count": 20,
     "metadata": {},
     "output_type": "execute_result"
    }
   ],
   "source": [
    "s"
   ]
  },
  {
   "cell_type": "code",
   "execution_count": 21,
   "id": "c1c725e9",
   "metadata": {},
   "outputs": [
    {
     "data": {
      "text/plain": [
       "33"
      ]
     },
     "execution_count": 21,
     "metadata": {},
     "output_type": "execute_result"
    }
   ],
   "source": [
    "len(s)"
   ]
  },
  {
   "cell_type": "code",
   "execution_count": 22,
   "id": "a22e05bd",
   "metadata": {},
   "outputs": [
    {
     "data": {
      "text/plain": [
       "'00000000000000000hello manish how are you manish ?'"
      ]
     },
     "execution_count": 22,
     "metadata": {},
     "output_type": "execute_result"
    }
   ],
   "source": [
    "s.zfill(50)"
   ]
  },
  {
   "cell_type": "code",
   "execution_count": 23,
   "id": "cafadb95",
   "metadata": {},
   "outputs": [
    {
     "data": {
      "text/plain": [
       "'hello manish how are you manish ?'"
      ]
     },
     "execution_count": 23,
     "metadata": {},
     "output_type": "execute_result"
    }
   ],
   "source": [
    "s"
   ]
  },
  {
   "cell_type": "code",
   "execution_count": 24,
   "id": "c8c1c01b",
   "metadata": {},
   "outputs": [
    {
     "data": {
      "text/plain": [
       "2203662447024"
      ]
     },
     "execution_count": 24,
     "metadata": {},
     "output_type": "execute_result"
    }
   ],
   "source": [
    "id(s)"
   ]
  },
  {
   "cell_type": "code",
   "execution_count": 26,
   "id": "bd0aee7c",
   "metadata": {},
   "outputs": [],
   "source": [
    "t=s.partition('how')"
   ]
  },
  {
   "cell_type": "code",
   "execution_count": 27,
   "id": "2a0e0ed6",
   "metadata": {},
   "outputs": [
    {
     "data": {
      "text/plain": [
       "('hello manish ', 'how', ' are you manish ?')"
      ]
     },
     "execution_count": 27,
     "metadata": {},
     "output_type": "execute_result"
    }
   ],
   "source": [
    "t"
   ]
  },
  {
   "cell_type": "code",
   "execution_count": 28,
   "id": "f219c2b4",
   "metadata": {},
   "outputs": [
    {
     "data": {
      "text/plain": [
       "2203662515200"
      ]
     },
     "execution_count": 28,
     "metadata": {},
     "output_type": "execute_result"
    }
   ],
   "source": [
    "id(t)"
   ]
  },
  {
   "cell_type": "code",
   "execution_count": 31,
   "id": "880e7190",
   "metadata": {},
   "outputs": [
    {
     "data": {
      "text/plain": [
       "2203662447024"
      ]
     },
     "execution_count": 31,
     "metadata": {},
     "output_type": "execute_result"
    }
   ],
   "source": [
    "id(s)"
   ]
  },
  {
   "cell_type": "code",
   "execution_count": 30,
   "id": "e65f8a9a",
   "metadata": {},
   "outputs": [
    {
     "data": {
      "text/plain": [
       "['a', 'b', 'c', 'd', 'e', 'f']"
      ]
     },
     "execution_count": 30,
     "metadata": {},
     "output_type": "execute_result"
    }
   ],
   "source": [
    "d"
   ]
  },
  {
   "cell_type": "code",
   "execution_count": 32,
   "id": "da009ff6",
   "metadata": {},
   "outputs": [],
   "source": [
    "# list"
   ]
  },
  {
   "cell_type": "markdown",
   "id": "2b80da8d",
   "metadata": {},
   "source": [
    "     List  --> collection of elements/ data type:\n",
    "         1. homogeneous---> same data type elements\n",
    "         2. hetrogeneous---> diff data type elements\n",
    "         3. mutable ----> we can modify and update\n",
    "         4. ordered----->\n",
    "         "
   ]
  },
  {
   "cell_type": "code",
   "execution_count": 33,
   "id": "1aae7666",
   "metadata": {},
   "outputs": [],
   "source": [
    "#indexing----- and slicing"
   ]
  },
  {
   "cell_type": "code",
   "execution_count": 35,
   "id": "3140b0e0",
   "metadata": {},
   "outputs": [],
   "source": [
    "s='hello manish'"
   ]
  },
  {
   "cell_type": "code",
   "execution_count": null,
   "id": "c3c92f98",
   "metadata": {},
   "outputs": [],
   "source": [
    "-12 -11 -10 -9 -8 -7 -6 -5 -4 -3 -2 -1\n",
    "h    e   l   l  o     m  a  n  i  s  h\n",
    "0    1   2   3  4  5  6  7  8  9 10 11"
   ]
  },
  {
   "cell_type": "code",
   "execution_count": 36,
   "id": "f3a05deb",
   "metadata": {},
   "outputs": [
    {
     "data": {
      "text/plain": [
       "'h'"
      ]
     },
     "execution_count": 36,
     "metadata": {},
     "output_type": "execute_result"
    }
   ],
   "source": [
    "s[0]"
   ]
  },
  {
   "cell_type": "code",
   "execution_count": 37,
   "id": "47d51502",
   "metadata": {},
   "outputs": [
    {
     "data": {
      "text/plain": [
       "' '"
      ]
     },
     "execution_count": 37,
     "metadata": {},
     "output_type": "execute_result"
    }
   ],
   "source": [
    "s[5]"
   ]
  },
  {
   "cell_type": "code",
   "execution_count": 38,
   "id": "e50893ea",
   "metadata": {},
   "outputs": [
    {
     "data": {
      "text/plain": [
       "'i'"
      ]
     },
     "execution_count": 38,
     "metadata": {},
     "output_type": "execute_result"
    }
   ],
   "source": [
    "s[9]"
   ]
  },
  {
   "cell_type": "code",
   "execution_count": 39,
   "id": "e6c1f540",
   "metadata": {},
   "outputs": [
    {
     "data": {
      "text/plain": [
       "'i'"
      ]
     },
     "execution_count": 39,
     "metadata": {},
     "output_type": "execute_result"
    }
   ],
   "source": [
    "s[-3]"
   ]
  },
  {
   "cell_type": "code",
   "execution_count": 40,
   "id": "cd59be6f",
   "metadata": {},
   "outputs": [
    {
     "data": {
      "text/plain": [
       "'hello manish'"
      ]
     },
     "execution_count": 40,
     "metadata": {},
     "output_type": "execute_result"
    }
   ],
   "source": [
    "s"
   ]
  },
  {
   "cell_type": "code",
   "execution_count": 42,
   "id": "de4d455c",
   "metadata": {},
   "outputs": [
    {
     "data": {
      "text/plain": [
       "'man'"
      ]
     },
     "execution_count": 42,
     "metadata": {},
     "output_type": "execute_result"
    }
   ],
   "source": [
    "s[6:9]"
   ]
  },
  {
   "cell_type": "code",
   "execution_count": 43,
   "id": "d31a7f2f",
   "metadata": {},
   "outputs": [
    {
     "data": {
      "text/plain": [
       "'hello man'"
      ]
     },
     "execution_count": 43,
     "metadata": {},
     "output_type": "execute_result"
    }
   ],
   "source": [
    "s[:9]"
   ]
  },
  {
   "cell_type": "code",
   "execution_count": 44,
   "id": "46d645da",
   "metadata": {},
   "outputs": [
    {
     "data": {
      "text/plain": [
       "'ello manish'"
      ]
     },
     "execution_count": 44,
     "metadata": {},
     "output_type": "execute_result"
    }
   ],
   "source": [
    "s[1:]"
   ]
  },
  {
   "cell_type": "code",
   "execution_count": 45,
   "id": "efb9867d",
   "metadata": {},
   "outputs": [
    {
     "data": {
      "text/plain": [
       "'hello manish'"
      ]
     },
     "execution_count": 45,
     "metadata": {},
     "output_type": "execute_result"
    }
   ],
   "source": [
    "s"
   ]
  },
  {
   "cell_type": "code",
   "execution_count": 46,
   "id": "b57c100d",
   "metadata": {},
   "outputs": [
    {
     "data": {
      "text/plain": [
       "'hsinam olleh'"
      ]
     },
     "execution_count": 46,
     "metadata": {},
     "output_type": "execute_result"
    }
   ],
   "source": [
    "s[::-1]"
   ]
  },
  {
   "cell_type": "code",
   "execution_count": 48,
   "id": "df7cced9",
   "metadata": {},
   "outputs": [],
   "source": [
    "a='123'\n",
    "b='121'"
   ]
  },
  {
   "cell_type": "code",
   "execution_count": 49,
   "id": "7d243ba5",
   "metadata": {},
   "outputs": [
    {
     "data": {
      "text/plain": [
       "False"
      ]
     },
     "execution_count": 49,
     "metadata": {},
     "output_type": "execute_result"
    }
   ],
   "source": [
    "a[::-1]==a"
   ]
  },
  {
   "cell_type": "code",
   "execution_count": 50,
   "id": "981469c1",
   "metadata": {},
   "outputs": [
    {
     "data": {
      "text/plain": [
       "True"
      ]
     },
     "execution_count": 50,
     "metadata": {},
     "output_type": "execute_result"
    }
   ],
   "source": [
    "b[::-1]==b"
   ]
  },
  {
   "cell_type": "code",
   "execution_count": 51,
   "id": "df3e4ef6",
   "metadata": {},
   "outputs": [
    {
     "data": {
      "text/plain": [
       "'hello manish'"
      ]
     },
     "execution_count": 51,
     "metadata": {},
     "output_type": "execute_result"
    }
   ],
   "source": [
    "s"
   ]
  },
  {
   "cell_type": "code",
   "execution_count": 52,
   "id": "ac5fdd82",
   "metadata": {},
   "outputs": [
    {
     "data": {
      "text/plain": [
       "'manis'"
      ]
     },
     "execution_count": 52,
     "metadata": {},
     "output_type": "execute_result"
    }
   ],
   "source": [
    "s[-6:-1]"
   ]
  },
  {
   "cell_type": "code",
   "execution_count": 54,
   "id": "eda29bfd",
   "metadata": {},
   "outputs": [
    {
     "data": {
      "text/plain": [
       "'hsina'"
      ]
     },
     "execution_count": 54,
     "metadata": {},
     "output_type": "execute_result"
    }
   ],
   "source": [
    "s[-1:-6:-1]"
   ]
  },
  {
   "cell_type": "code",
   "execution_count": 56,
   "id": "0b53e1f1",
   "metadata": {},
   "outputs": [
    {
     "data": {
      "text/plain": [
       "'hsinam olleh'"
      ]
     },
     "execution_count": 56,
     "metadata": {},
     "output_type": "execute_result"
    }
   ],
   "source": [
    "s[::-1]"
   ]
  },
  {
   "cell_type": "code",
   "execution_count": 57,
   "id": "7f99a89d",
   "metadata": {},
   "outputs": [],
   "source": [
    "# [] , list()"
   ]
  },
  {
   "cell_type": "code",
   "execution_count": 61,
   "id": "a9ff1e1d",
   "metadata": {},
   "outputs": [],
   "source": [
    "l=['manish',23,66.5,'jaipur','manish']"
   ]
  },
  {
   "cell_type": "code",
   "execution_count": 62,
   "id": "2e563c87",
   "metadata": {},
   "outputs": [
    {
     "data": {
      "text/plain": [
       "list"
      ]
     },
     "execution_count": 62,
     "metadata": {},
     "output_type": "execute_result"
    }
   ],
   "source": [
    "type(l)"
   ]
  },
  {
   "cell_type": "code",
   "execution_count": 63,
   "id": "e2e9b12f",
   "metadata": {},
   "outputs": [
    {
     "data": {
      "text/plain": [
       "['manish', 23, 66.5, 'jaipur', 'manish']"
      ]
     },
     "execution_count": 63,
     "metadata": {},
     "output_type": "execute_result"
    }
   ],
   "source": [
    "l"
   ]
  },
  {
   "cell_type": "code",
   "execution_count": 68,
   "id": "2b050dda",
   "metadata": {},
   "outputs": [
    {
     "data": {
      "text/plain": [
       "'jaipur'"
      ]
     },
     "execution_count": 68,
     "metadata": {},
     "output_type": "execute_result"
    }
   ],
   "source": [
    "l[-2]"
   ]
  },
  {
   "cell_type": "code",
   "execution_count": 69,
   "id": "49acebb2",
   "metadata": {},
   "outputs": [
    {
     "data": {
      "text/plain": [
       "['manish', 23, 66.5]"
      ]
     },
     "execution_count": 69,
     "metadata": {},
     "output_type": "execute_result"
    }
   ],
   "source": [
    "l[0:3]"
   ]
  },
  {
   "cell_type": "code",
   "execution_count": 71,
   "id": "f7f93464",
   "metadata": {},
   "outputs": [
    {
     "data": {
      "text/plain": [
       "'i'"
      ]
     },
     "execution_count": 71,
     "metadata": {},
     "output_type": "execute_result"
    }
   ],
   "source": [
    "l[3][2]"
   ]
  },
  {
   "cell_type": "code",
   "execution_count": 72,
   "id": "62fbcc65",
   "metadata": {},
   "outputs": [],
   "source": [
    "data=[]\n",
    "for i in  range(4):\n",
    "    l=[]\n",
    "    for j in range(3):\n",
    "        l.append(random.choice(d))\n",
    "    data.append(l)"
   ]
  },
  {
   "cell_type": "code",
   "execution_count": 73,
   "id": "36541dea",
   "metadata": {},
   "outputs": [
    {
     "data": {
      "text/plain": [
       "[['b', 'f', 'f'], ['e', 'c', 'd'], ['c', 'd', 'b'], ['f', 'c', 'f']]"
      ]
     },
     "execution_count": 73,
     "metadata": {},
     "output_type": "execute_result"
    }
   ],
   "source": [
    "data"
   ]
  },
  {
   "cell_type": "code",
   "execution_count": 77,
   "id": "f183555b",
   "metadata": {},
   "outputs": [
    {
     "data": {
      "text/plain": [
       "'d'"
      ]
     },
     "execution_count": 77,
     "metadata": {},
     "output_type": "execute_result"
    }
   ],
   "source": [
    "data[2][1][]"
   ]
  },
  {
   "cell_type": "code",
   "execution_count": 78,
   "id": "c2cef4ef",
   "metadata": {},
   "outputs": [],
   "source": [
    "#list---> "
   ]
  },
  {
   "cell_type": "code",
   "execution_count": 79,
   "id": "3a5011bb",
   "metadata": {},
   "outputs": [
    {
     "data": {
      "text/plain": [
       "['f', 'c', 'f']"
      ]
     },
     "execution_count": 79,
     "metadata": {},
     "output_type": "execute_result"
    }
   ],
   "source": [
    "l"
   ]
  },
  {
   "cell_type": "code",
   "execution_count": 80,
   "id": "44e11919",
   "metadata": {},
   "outputs": [
    {
     "data": {
      "text/plain": [
       "2203662561472"
      ]
     },
     "execution_count": 80,
     "metadata": {},
     "output_type": "execute_result"
    }
   ],
   "source": [
    "id(l)"
   ]
  },
  {
   "cell_type": "code",
   "execution_count": 81,
   "id": "1400dae7",
   "metadata": {},
   "outputs": [],
   "source": [
    "# for add element in list:\n",
    "# append----> end of the list\n",
    "# insert--->location insert(index,element)\n",
    "# extend"
   ]
  },
  {
   "cell_type": "code",
   "execution_count": 82,
   "id": "29515232",
   "metadata": {},
   "outputs": [
    {
     "data": {
      "text/plain": [
       "['f', 'c', 'f']"
      ]
     },
     "execution_count": 82,
     "metadata": {},
     "output_type": "execute_result"
    }
   ],
   "source": [
    "l"
   ]
  },
  {
   "cell_type": "code",
   "execution_count": 83,
   "id": "e84eb6cb",
   "metadata": {},
   "outputs": [],
   "source": [
    "l.append('jaipur')"
   ]
  },
  {
   "cell_type": "code",
   "execution_count": 84,
   "id": "59cb7381",
   "metadata": {},
   "outputs": [
    {
     "data": {
      "text/plain": [
       "['f', 'c', 'f', 'jaipur']"
      ]
     },
     "execution_count": 84,
     "metadata": {},
     "output_type": "execute_result"
    }
   ],
   "source": [
    "l"
   ]
  },
  {
   "cell_type": "code",
   "execution_count": 85,
   "id": "0ebb8af8",
   "metadata": {},
   "outputs": [
    {
     "data": {
      "text/plain": [
       "2203662561472"
      ]
     },
     "execution_count": 85,
     "metadata": {},
     "output_type": "execute_result"
    }
   ],
   "source": [
    "id(l)"
   ]
  },
  {
   "cell_type": "code",
   "execution_count": 86,
   "id": "fa6511f3",
   "metadata": {},
   "outputs": [
    {
     "name": "stdout",
     "output_type": "stream",
     "text": [
      "['f', 'c', 'f', 'jaipur']\n"
     ]
    }
   ],
   "source": [
    "print(l)"
   ]
  },
  {
   "cell_type": "code",
   "execution_count": 87,
   "id": "9e1a20d7",
   "metadata": {},
   "outputs": [],
   "source": [
    "l.append('delhi')"
   ]
  },
  {
   "cell_type": "code",
   "execution_count": 88,
   "id": "e7de0f7f",
   "metadata": {},
   "outputs": [
    {
     "data": {
      "text/plain": [
       "['f', 'c', 'f', 'jaipur', 'delhi']"
      ]
     },
     "execution_count": 88,
     "metadata": {},
     "output_type": "execute_result"
    }
   ],
   "source": [
    "l"
   ]
  },
  {
   "cell_type": "code",
   "execution_count": 92,
   "id": "0ffbf3b6",
   "metadata": {},
   "outputs": [],
   "source": [
    "l.insert(2,'agra')"
   ]
  },
  {
   "cell_type": "code",
   "execution_count": 93,
   "id": "4c38b271",
   "metadata": {},
   "outputs": [
    {
     "data": {
      "text/plain": [
       "['f', 'c', 'agra', 'agra', 'f', 'jaipur', 'delhi']"
      ]
     },
     "execution_count": 93,
     "metadata": {},
     "output_type": "execute_result"
    }
   ],
   "source": [
    "l"
   ]
  },
  {
   "cell_type": "code",
   "execution_count": 94,
   "id": "e37e75bb",
   "metadata": {},
   "outputs": [],
   "source": [
    "l.extend(['neha','jeet','shan','rahul',100])"
   ]
  },
  {
   "cell_type": "code",
   "execution_count": 95,
   "id": "84f0ea55",
   "metadata": {},
   "outputs": [
    {
     "name": "stdout",
     "output_type": "stream",
     "text": [
      "['f', 'c', 'agra', 'agra', 'f', 'jaipur', 'delhi', 'neha', 'jeet', 'shan', 'rahul', 100]\n"
     ]
    }
   ],
   "source": [
    "print(l)"
   ]
  },
  {
   "cell_type": "code",
   "execution_count": 96,
   "id": "b2fa6961",
   "metadata": {},
   "outputs": [],
   "source": [
    "# remove element\n",
    "# pop----> remove last element\n",
    "# remove\n",
    "# del"
   ]
  },
  {
   "cell_type": "code",
   "execution_count": 97,
   "id": "fca5a964",
   "metadata": {},
   "outputs": [
    {
     "name": "stdout",
     "output_type": "stream",
     "text": [
      "['f', 'c', 'agra', 'agra', 'f', 'jaipur', 'delhi', 'neha', 'jeet', 'shan', 'rahul', 100]\n"
     ]
    }
   ],
   "source": [
    "print(l)"
   ]
  },
  {
   "cell_type": "code",
   "execution_count": 98,
   "id": "c8ca6b69",
   "metadata": {},
   "outputs": [
    {
     "data": {
      "text/plain": [
       "100"
      ]
     },
     "execution_count": 98,
     "metadata": {},
     "output_type": "execute_result"
    }
   ],
   "source": [
    "l.pop()"
   ]
  },
  {
   "cell_type": "code",
   "execution_count": 99,
   "id": "8c3936d7",
   "metadata": {},
   "outputs": [
    {
     "name": "stdout",
     "output_type": "stream",
     "text": [
      "['f', 'c', 'agra', 'agra', 'f', 'jaipur', 'delhi', 'neha', 'jeet', 'shan', 'rahul']\n"
     ]
    }
   ],
   "source": [
    "print(l)"
   ]
  },
  {
   "cell_type": "code",
   "execution_count": 100,
   "id": "88132d28",
   "metadata": {},
   "outputs": [
    {
     "data": {
      "text/plain": [
       "'rahul'"
      ]
     },
     "execution_count": 100,
     "metadata": {},
     "output_type": "execute_result"
    }
   ],
   "source": [
    "l.pop()"
   ]
  },
  {
   "cell_type": "code",
   "execution_count": 101,
   "id": "93e88023",
   "metadata": {},
   "outputs": [
    {
     "name": "stdout",
     "output_type": "stream",
     "text": [
      "['f', 'c', 'agra', 'agra', 'f', 'jaipur', 'delhi', 'neha', 'jeet', 'shan']\n"
     ]
    }
   ],
   "source": [
    "print(l)"
   ]
  },
  {
   "cell_type": "code",
   "execution_count": 102,
   "id": "96e1a49e",
   "metadata": {},
   "outputs": [
    {
     "data": {
      "text/plain": [
       "'jaipur'"
      ]
     },
     "execution_count": 102,
     "metadata": {},
     "output_type": "execute_result"
    }
   ],
   "source": [
    "l.pop(5)"
   ]
  },
  {
   "cell_type": "code",
   "execution_count": 103,
   "id": "d23477e4",
   "metadata": {},
   "outputs": [
    {
     "name": "stdout",
     "output_type": "stream",
     "text": [
      "['f', 'c', 'agra', 'agra', 'f', 'delhi', 'neha', 'jeet', 'shan']\n"
     ]
    }
   ],
   "source": [
    "print(l)"
   ]
  },
  {
   "cell_type": "code",
   "execution_count": 104,
   "id": "208e25a5",
   "metadata": {},
   "outputs": [],
   "source": [
    "l.remove('delhi')"
   ]
  },
  {
   "cell_type": "code",
   "execution_count": 105,
   "id": "526d38af",
   "metadata": {},
   "outputs": [
    {
     "name": "stdout",
     "output_type": "stream",
     "text": [
      "['f', 'c', 'agra', 'agra', 'f', 'neha', 'jeet', 'shan']\n"
     ]
    }
   ],
   "source": [
    "print(l)"
   ]
  },
  {
   "cell_type": "code",
   "execution_count": 106,
   "id": "d11b17f5",
   "metadata": {},
   "outputs": [],
   "source": [
    "del l[1:6]"
   ]
  },
  {
   "cell_type": "code",
   "execution_count": 107,
   "id": "41ee54e2",
   "metadata": {},
   "outputs": [
    {
     "data": {
      "text/plain": [
       "['f', 'jeet', 'shan']"
      ]
     },
     "execution_count": 107,
     "metadata": {},
     "output_type": "execute_result"
    }
   ],
   "source": [
    "l"
   ]
  },
  {
   "cell_type": "code",
   "execution_count": 108,
   "id": "cbf9473c",
   "metadata": {},
   "outputs": [],
   "source": [
    "# shallow copy and deep copy"
   ]
  },
  {
   "cell_type": "code",
   "execution_count": 109,
   "id": "5dde9281",
   "metadata": {},
   "outputs": [
    {
     "data": {
      "text/plain": [
       "['f', 'jeet', 'shan']"
      ]
     },
     "execution_count": 109,
     "metadata": {},
     "output_type": "execute_result"
    }
   ],
   "source": [
    "l"
   ]
  },
  {
   "cell_type": "code",
   "execution_count": 110,
   "id": "f24b9ed6",
   "metadata": {},
   "outputs": [],
   "source": [
    "l1=l"
   ]
  },
  {
   "cell_type": "code",
   "execution_count": 111,
   "id": "f236d865",
   "metadata": {},
   "outputs": [
    {
     "data": {
      "text/plain": [
       "['f', 'jeet', 'shan']"
      ]
     },
     "execution_count": 111,
     "metadata": {},
     "output_type": "execute_result"
    }
   ],
   "source": [
    "l1"
   ]
  },
  {
   "cell_type": "code",
   "execution_count": 112,
   "id": "e7b2f2c9",
   "metadata": {},
   "outputs": [
    {
     "data": {
      "text/plain": [
       "['f', 'jeet', 'shan']"
      ]
     },
     "execution_count": 112,
     "metadata": {},
     "output_type": "execute_result"
    }
   ],
   "source": [
    "l"
   ]
  },
  {
   "cell_type": "code",
   "execution_count": 113,
   "id": "03bf5905",
   "metadata": {},
   "outputs": [],
   "source": [
    "l.append('jaiput')"
   ]
  },
  {
   "cell_type": "code",
   "execution_count": 114,
   "id": "f5fbae5c",
   "metadata": {},
   "outputs": [
    {
     "data": {
      "text/plain": [
       "['f', 'jeet', 'shan', 'jaiput']"
      ]
     },
     "execution_count": 114,
     "metadata": {},
     "output_type": "execute_result"
    }
   ],
   "source": [
    "l"
   ]
  },
  {
   "cell_type": "code",
   "execution_count": 115,
   "id": "cd11d769",
   "metadata": {},
   "outputs": [
    {
     "data": {
      "text/plain": [
       "['f', 'jeet', 'shan', 'jaiput']"
      ]
     },
     "execution_count": 115,
     "metadata": {},
     "output_type": "execute_result"
    }
   ],
   "source": [
    "l1"
   ]
  },
  {
   "cell_type": "code",
   "execution_count": 116,
   "id": "cbdf5c94",
   "metadata": {},
   "outputs": [],
   "source": [
    "r=l.copy()"
   ]
  },
  {
   "cell_type": "code",
   "execution_count": 117,
   "id": "dddc01a0",
   "metadata": {},
   "outputs": [
    {
     "data": {
      "text/plain": [
       "['f', 'jeet', 'shan', 'jaiput']"
      ]
     },
     "execution_count": 117,
     "metadata": {},
     "output_type": "execute_result"
    }
   ],
   "source": [
    "r"
   ]
  },
  {
   "cell_type": "code",
   "execution_count": 118,
   "id": "725b973d",
   "metadata": {},
   "outputs": [
    {
     "data": {
      "text/plain": [
       "['f', 'jeet', 'shan', 'jaiput']"
      ]
     },
     "execution_count": 118,
     "metadata": {},
     "output_type": "execute_result"
    }
   ],
   "source": [
    "l"
   ]
  },
  {
   "cell_type": "code",
   "execution_count": 119,
   "id": "62fd008b",
   "metadata": {},
   "outputs": [],
   "source": [
    "l.append('delhi')"
   ]
  },
  {
   "cell_type": "code",
   "execution_count": 120,
   "id": "3da072bc",
   "metadata": {},
   "outputs": [
    {
     "data": {
      "text/plain": [
       "['f', 'jeet', 'shan', 'jaiput', 'delhi']"
      ]
     },
     "execution_count": 120,
     "metadata": {},
     "output_type": "execute_result"
    }
   ],
   "source": [
    "l"
   ]
  },
  {
   "cell_type": "code",
   "execution_count": 121,
   "id": "89ed93f1",
   "metadata": {},
   "outputs": [
    {
     "data": {
      "text/plain": [
       "['f', 'jeet', 'shan', 'jaiput']"
      ]
     },
     "execution_count": 121,
     "metadata": {},
     "output_type": "execute_result"
    }
   ],
   "source": [
    "r"
   ]
  },
  {
   "cell_type": "code",
   "execution_count": 122,
   "id": "2c03a1e7",
   "metadata": {},
   "outputs": [
    {
     "data": {
      "text/plain": [
       "['f', 'jeet', 'shan', 'jaiput', 'delhi']"
      ]
     },
     "execution_count": 122,
     "metadata": {},
     "output_type": "execute_result"
    }
   ],
   "source": [
    "l1"
   ]
  },
  {
   "cell_type": "code",
   "execution_count": 123,
   "id": "f3139932",
   "metadata": {},
   "outputs": [],
   "source": [
    "l1.clear()"
   ]
  },
  {
   "cell_type": "code",
   "execution_count": 124,
   "id": "712c274a",
   "metadata": {},
   "outputs": [
    {
     "data": {
      "text/plain": [
       "[]"
      ]
     },
     "execution_count": 124,
     "metadata": {},
     "output_type": "execute_result"
    }
   ],
   "source": [
    "l1"
   ]
  },
  {
   "cell_type": "code",
   "execution_count": 125,
   "id": "5fadf4e9",
   "metadata": {},
   "outputs": [],
   "source": [
    "#sort"
   ]
  },
  {
   "cell_type": "code",
   "execution_count": 126,
   "id": "c59b54ef",
   "metadata": {},
   "outputs": [
    {
     "data": {
      "text/plain": [
       "[]"
      ]
     },
     "execution_count": 126,
     "metadata": {},
     "output_type": "execute_result"
    }
   ],
   "source": [
    "l"
   ]
  },
  {
   "cell_type": "code",
   "execution_count": 127,
   "id": "4023ead0",
   "metadata": {},
   "outputs": [
    {
     "data": {
      "text/plain": [
       "['f', 'jeet', 'shan', 'jaiput']"
      ]
     },
     "execution_count": 127,
     "metadata": {},
     "output_type": "execute_result"
    }
   ],
   "source": [
    "r"
   ]
  },
  {
   "cell_type": "code",
   "execution_count": 128,
   "id": "63699699",
   "metadata": {},
   "outputs": [],
   "source": [
    "r.sort()"
   ]
  },
  {
   "cell_type": "code",
   "execution_count": 129,
   "id": "d3fd3c4d",
   "metadata": {},
   "outputs": [
    {
     "data": {
      "text/plain": [
       "['f', 'jaiput', 'jeet', 'shan']"
      ]
     },
     "execution_count": 129,
     "metadata": {},
     "output_type": "execute_result"
    }
   ],
   "source": [
    "r"
   ]
  },
  {
   "cell_type": "code",
   "execution_count": 130,
   "id": "26235d7b",
   "metadata": {},
   "outputs": [
    {
     "data": {
      "text/plain": [
       "['shan', 'jeet', 'jaiput', 'f']"
      ]
     },
     "execution_count": 130,
     "metadata": {},
     "output_type": "execute_result"
    }
   ],
   "source": [
    "r[::-1]"
   ]
  },
  {
   "cell_type": "code",
   "execution_count": 131,
   "id": "1426dd7f",
   "metadata": {},
   "outputs": [],
   "source": [
    "r.reverse()"
   ]
  },
  {
   "cell_type": "code",
   "execution_count": 132,
   "id": "bed289b3",
   "metadata": {},
   "outputs": [
    {
     "data": {
      "text/plain": [
       "['shan', 'jeet', 'jaiput', 'f']"
      ]
     },
     "execution_count": 132,
     "metadata": {},
     "output_type": "execute_result"
    }
   ],
   "source": [
    "r"
   ]
  },
  {
   "cell_type": "code",
   "execution_count": 133,
   "id": "caab628c",
   "metadata": {},
   "outputs": [
    {
     "name": "stdout",
     "output_type": "stream",
     "text": [
      "['__add__', '__class__', '__class_getitem__', '__contains__', '__delattr__', '__delitem__', '__dir__', '__doc__', '__eq__', '__format__', '__ge__', '__getattribute__', '__getitem__', '__gt__', '__hash__', '__iadd__', '__imul__', '__init__', '__init_subclass__', '__iter__', '__le__', '__len__', '__lt__', '__mul__', '__ne__', '__new__', '__reduce__', '__reduce_ex__', '__repr__', '__reversed__', '__rmul__', '__setattr__', '__setitem__', '__sizeof__', '__str__', '__subclasshook__', 'append', 'clear', 'copy', 'count', 'extend', 'index', 'insert', 'pop', 'remove', 'reverse', 'sort']\n"
     ]
    }
   ],
   "source": [
    "print(dir(list))"
   ]
  },
  {
   "cell_type": "code",
   "execution_count": 134,
   "id": "c27e3730",
   "metadata": {},
   "outputs": [
    {
     "name": "stderr",
     "output_type": "stream",
     "text": [
      "100%|█████████████████████████████████████████████████| 300/300 [05:01<00:00,  1.01s/it]\n"
     ]
    }
   ],
   "source": [
    "from tqdm import tqdm\n",
    "from time import sleep\n",
    "for i in tqdm(range(300)):\n",
    "    sleep(1)"
   ]
  },
  {
   "cell_type": "markdown",
   "id": "1445a1b1",
   "metadata": {},
   "source": [
    "    Dict----> key ,value pair \n",
    "    1. un-ordered \n",
    "    2. keys must be immutable and unique\n",
    "    3. key ---> value"
   ]
  },
  {
   "cell_type": "code",
   "execution_count": 135,
   "id": "312fdb20",
   "metadata": {},
   "outputs": [],
   "source": [
    "d={'name':'manish','age':23,'weight':66.5}"
   ]
  },
  {
   "cell_type": "code",
   "execution_count": 136,
   "id": "a0f41234",
   "metadata": {},
   "outputs": [
    {
     "data": {
      "text/plain": [
       "dict"
      ]
     },
     "execution_count": 136,
     "metadata": {},
     "output_type": "execute_result"
    }
   ],
   "source": [
    "type(d)"
   ]
  },
  {
   "cell_type": "code",
   "execution_count": 137,
   "id": "68d0175e",
   "metadata": {},
   "outputs": [
    {
     "data": {
      "text/plain": [
       "{'name': 'manish', 'age': 23, 'weight': 66.5}"
      ]
     },
     "execution_count": 137,
     "metadata": {},
     "output_type": "execute_result"
    }
   ],
   "source": [
    "d"
   ]
  },
  {
   "cell_type": "code",
   "execution_count": 138,
   "id": "fa28633f",
   "metadata": {},
   "outputs": [
    {
     "ename": "KeyError",
     "evalue": "0",
     "output_type": "error",
     "traceback": [
      "\u001b[1;31m---------------------------------------------------------------------------\u001b[0m",
      "\u001b[1;31mKeyError\u001b[0m                                  Traceback (most recent call last)",
      "\u001b[1;32m~\\AppData\\Local\\Temp/ipykernel_2416/1089268471.py\u001b[0m in \u001b[0;36m<module>\u001b[1;34m\u001b[0m\n\u001b[1;32m----> 1\u001b[1;33m \u001b[0md\u001b[0m\u001b[1;33m[\u001b[0m\u001b[1;36m0\u001b[0m\u001b[1;33m]\u001b[0m\u001b[1;33m\u001b[0m\u001b[1;33m\u001b[0m\u001b[0m\n\u001b[0m",
      "\u001b[1;31mKeyError\u001b[0m: 0"
     ]
    }
   ],
   "source": [
    "d[0]"
   ]
  },
  {
   "cell_type": "code",
   "execution_count": 139,
   "id": "12799d28",
   "metadata": {},
   "outputs": [
    {
     "data": {
      "text/plain": [
       "'manish'"
      ]
     },
     "execution_count": 139,
     "metadata": {},
     "output_type": "execute_result"
    }
   ],
   "source": [
    "d['name']"
   ]
  },
  {
   "cell_type": "code",
   "execution_count": 140,
   "id": "50fdffbf",
   "metadata": {},
   "outputs": [
    {
     "data": {
      "text/plain": [
       "23"
      ]
     },
     "execution_count": 140,
     "metadata": {},
     "output_type": "execute_result"
    }
   ],
   "source": [
    "d['age']"
   ]
  },
  {
   "cell_type": "code",
   "execution_count": 141,
   "id": "f3130c21",
   "metadata": {},
   "outputs": [
    {
     "data": {
      "text/plain": [
       "'manish'"
      ]
     },
     "execution_count": 141,
     "metadata": {},
     "output_type": "execute_result"
    }
   ],
   "source": [
    "d.get('name')"
   ]
  },
  {
   "cell_type": "code",
   "execution_count": 142,
   "id": "3f9fb9cf",
   "metadata": {},
   "outputs": [
    {
     "data": {
      "text/plain": [
       "23"
      ]
     },
     "execution_count": 142,
     "metadata": {},
     "output_type": "execute_result"
    }
   ],
   "source": [
    "d.get('age')"
   ]
  },
  {
   "cell_type": "code",
   "execution_count": 143,
   "id": "6618d668",
   "metadata": {},
   "outputs": [],
   "source": [
    "d.get('manish')"
   ]
  },
  {
   "cell_type": "code",
   "execution_count": 144,
   "id": "6f0a3354",
   "metadata": {},
   "outputs": [],
   "source": [
    "# mutable"
   ]
  },
  {
   "cell_type": "code",
   "execution_count": 147,
   "id": "3b32534b",
   "metadata": {},
   "outputs": [],
   "source": [
    "d['addr']='jaipur'"
   ]
  },
  {
   "cell_type": "code",
   "execution_count": 148,
   "id": "2310a7f9",
   "metadata": {},
   "outputs": [
    {
     "data": {
      "text/plain": [
       "{'name': 'manish', 'age': 23, 'weight': 66.5, 'addr': 'jaipur'}"
      ]
     },
     "execution_count": 148,
     "metadata": {},
     "output_type": "execute_result"
    }
   ],
   "source": [
    "d"
   ]
  },
  {
   "cell_type": "code",
   "execution_count": 150,
   "id": "262f0041",
   "metadata": {},
   "outputs": [],
   "source": [
    "d['city']='ahmedabad'"
   ]
  },
  {
   "cell_type": "code",
   "execution_count": 151,
   "id": "d95a75a2",
   "metadata": {},
   "outputs": [
    {
     "data": {
      "text/plain": [
       "{'name': 'manish',\n",
       " 'age': 23,\n",
       " 'weight': 66.5,\n",
       " 'addr': 'jaipur',\n",
       " 'city': 'ahmedabad'}"
      ]
     },
     "execution_count": 151,
     "metadata": {},
     "output_type": "execute_result"
    }
   ],
   "source": [
    "d"
   ]
  },
  {
   "cell_type": "code",
   "execution_count": 153,
   "id": "259cb0e7",
   "metadata": {},
   "outputs": [],
   "source": [
    "d['city']='Agra'"
   ]
  },
  {
   "cell_type": "code",
   "execution_count": 154,
   "id": "218cfcc9",
   "metadata": {},
   "outputs": [
    {
     "data": {
      "text/plain": [
       "{'name': 'manish', 'age': 23, 'weight': 66.5, 'addr': 'jaipur', 'city': 'Agra'}"
      ]
     },
     "execution_count": 154,
     "metadata": {},
     "output_type": "execute_result"
    }
   ],
   "source": [
    "d"
   ]
  },
  {
   "cell_type": "code",
   "execution_count": 155,
   "id": "24c05bc1",
   "metadata": {},
   "outputs": [
    {
     "data": {
      "text/plain": [
       "'master'"
      ]
     },
     "execution_count": 155,
     "metadata": {},
     "output_type": "execute_result"
    }
   ],
   "source": [
    "d.setdefault('qual','master')"
   ]
  },
  {
   "cell_type": "code",
   "execution_count": 156,
   "id": "d81e5d8a",
   "metadata": {},
   "outputs": [
    {
     "name": "stdout",
     "output_type": "stream",
     "text": [
      "{'name': 'manish', 'age': 23, 'weight': 66.5, 'addr': 'jaipur', 'city': 'Agra', 'qual': 'master'}\n"
     ]
    }
   ],
   "source": [
    "print(d)"
   ]
  },
  {
   "cell_type": "code",
   "execution_count": 157,
   "id": "5db81254",
   "metadata": {},
   "outputs": [
    {
     "data": {
      "text/plain": [
       "dict_keys(['name', 'age', 'weight', 'addr', 'city', 'qual'])"
      ]
     },
     "execution_count": 157,
     "metadata": {},
     "output_type": "execute_result"
    }
   ],
   "source": [
    "d.keys()"
   ]
  },
  {
   "cell_type": "code",
   "execution_count": 158,
   "id": "de035be8",
   "metadata": {},
   "outputs": [
    {
     "data": {
      "text/plain": [
       "dict_values(['manish', 23, 66.5, 'jaipur', 'Agra', 'master'])"
      ]
     },
     "execution_count": 158,
     "metadata": {},
     "output_type": "execute_result"
    }
   ],
   "source": [
    "d.values()"
   ]
  },
  {
   "cell_type": "code",
   "execution_count": null,
   "id": "dcfd041c",
   "metadata": {},
   "outputs": [],
   "source": []
  },
  {
   "cell_type": "code",
   "execution_count": 159,
   "id": "f111a522",
   "metadata": {},
   "outputs": [
    {
     "data": {
      "text/plain": [
       "dict_items([('name', 'manish'), ('age', 23), ('weight', 66.5), ('addr', 'jaipur'), ('city', 'Agra'), ('qual', 'master')])"
      ]
     },
     "execution_count": 159,
     "metadata": {},
     "output_type": "execute_result"
    }
   ],
   "source": [
    "d.items()"
   ]
  },
  {
   "cell_type": "code",
   "execution_count": 160,
   "id": "c3625dc5",
   "metadata": {},
   "outputs": [],
   "source": [
    "d1=d.copy()"
   ]
  },
  {
   "cell_type": "code",
   "execution_count": 161,
   "id": "4a0bb27e",
   "metadata": {},
   "outputs": [
    {
     "data": {
      "text/plain": [
       "{'name': 'manish',\n",
       " 'age': 23,\n",
       " 'weight': 66.5,\n",
       " 'addr': 'jaipur',\n",
       " 'city': 'Agra',\n",
       " 'qual': 'master'}"
      ]
     },
     "execution_count": 161,
     "metadata": {},
     "output_type": "execute_result"
    }
   ],
   "source": [
    "d1"
   ]
  },
  {
   "cell_type": "code",
   "execution_count": 162,
   "id": "ff15023f",
   "metadata": {},
   "outputs": [
    {
     "data": {
      "text/plain": [
       "{'name': 'manish',\n",
       " 'age': 23,\n",
       " 'weight': 66.5,\n",
       " 'addr': 'jaipur',\n",
       " 'city': 'Agra',\n",
       " 'qual': 'master'}"
      ]
     },
     "execution_count": 162,
     "metadata": {},
     "output_type": "execute_result"
    }
   ],
   "source": [
    "d"
   ]
  },
  {
   "cell_type": "code",
   "execution_count": 163,
   "id": "b16c2b28",
   "metadata": {},
   "outputs": [],
   "source": [
    "d1.clear()"
   ]
  },
  {
   "cell_type": "code",
   "execution_count": 164,
   "id": "4327b599",
   "metadata": {},
   "outputs": [
    {
     "data": {
      "text/plain": [
       "{}"
      ]
     },
     "execution_count": 164,
     "metadata": {},
     "output_type": "execute_result"
    }
   ],
   "source": [
    "d1"
   ]
  },
  {
   "cell_type": "code",
   "execution_count": 165,
   "id": "eb312af9",
   "metadata": {},
   "outputs": [
    {
     "data": {
      "text/plain": [
       "{'name': 'manish',\n",
       " 'age': 23,\n",
       " 'weight': 66.5,\n",
       " 'addr': 'jaipur',\n",
       " 'city': 'Agra',\n",
       " 'qual': 'master'}"
      ]
     },
     "execution_count": 165,
     "metadata": {},
     "output_type": "execute_result"
    }
   ],
   "source": [
    "d"
   ]
  },
  {
   "cell_type": "code",
   "execution_count": 166,
   "id": "85812937",
   "metadata": {},
   "outputs": [
    {
     "name": "stdout",
     "output_type": "stream",
     "text": [
      "['__class__', '__class_getitem__', '__contains__', '__delattr__', '__delitem__', '__dir__', '__doc__', '__eq__', '__format__', '__ge__', '__getattribute__', '__getitem__', '__gt__', '__hash__', '__init__', '__init_subclass__', '__ior__', '__iter__', '__le__', '__len__', '__lt__', '__ne__', '__new__', '__or__', '__reduce__', '__reduce_ex__', '__repr__', '__reversed__', '__ror__', '__setattr__', '__setitem__', '__sizeof__', '__str__', '__subclasshook__', 'clear', 'copy', 'fromkeys', 'get', 'items', 'keys', 'pop', 'popitem', 'setdefault', 'update', 'values']\n"
     ]
    }
   ],
   "source": [
    "print(dir(dict))"
   ]
  },
  {
   "cell_type": "code",
   "execution_count": 167,
   "id": "151ae369",
   "metadata": {},
   "outputs": [
    {
     "data": {
      "text/plain": [
       "{'name': 'manish',\n",
       " 'age': 23,\n",
       " 'weight': 66.5,\n",
       " 'addr': 'jaipur',\n",
       " 'city': 'Agra',\n",
       " 'qual': 'master'}"
      ]
     },
     "execution_count": 167,
     "metadata": {},
     "output_type": "execute_result"
    }
   ],
   "source": [
    "d"
   ]
  },
  {
   "cell_type": "code",
   "execution_count": 168,
   "id": "91dea5b8",
   "metadata": {},
   "outputs": [
    {
     "data": {
      "text/plain": [
       "'jaipur'"
      ]
     },
     "execution_count": 168,
     "metadata": {},
     "output_type": "execute_result"
    }
   ],
   "source": [
    "d.pop('addr')"
   ]
  },
  {
   "cell_type": "code",
   "execution_count": 169,
   "id": "f870ea65",
   "metadata": {},
   "outputs": [
    {
     "data": {
      "text/plain": [
       "{'name': 'manish', 'age': 23, 'weight': 66.5, 'city': 'Agra', 'qual': 'master'}"
      ]
     },
     "execution_count": 169,
     "metadata": {},
     "output_type": "execute_result"
    }
   ],
   "source": [
    "d"
   ]
  },
  {
   "cell_type": "code",
   "execution_count": 170,
   "id": "0c63edc1",
   "metadata": {},
   "outputs": [
    {
     "data": {
      "text/plain": [
       "('qual', 'master')"
      ]
     },
     "execution_count": 170,
     "metadata": {},
     "output_type": "execute_result"
    }
   ],
   "source": [
    "d.popitem()"
   ]
  },
  {
   "cell_type": "code",
   "execution_count": 171,
   "id": "417d34b7",
   "metadata": {},
   "outputs": [
    {
     "data": {
      "text/plain": [
       "{'name': 'manish', 'age': 23, 'weight': 66.5, 'city': 'Agra'}"
      ]
     },
     "execution_count": 171,
     "metadata": {},
     "output_type": "execute_result"
    }
   ],
   "source": [
    "d"
   ]
  },
  {
   "cell_type": "code",
   "execution_count": null,
   "id": "6a1d2334",
   "metadata": {},
   "outputs": [],
   "source": []
  }
 ],
 "metadata": {
  "kernelspec": {
   "display_name": "Python 3 (ipykernel)",
   "language": "python",
   "name": "python3"
  },
  "language_info": {
   "codemirror_mode": {
    "name": "ipython",
    "version": 3
   },
   "file_extension": ".py",
   "mimetype": "text/x-python",
   "name": "python",
   "nbconvert_exporter": "python",
   "pygments_lexer": "ipython3",
   "version": "3.9.6"
  }
 },
 "nbformat": 4,
 "nbformat_minor": 5
}
