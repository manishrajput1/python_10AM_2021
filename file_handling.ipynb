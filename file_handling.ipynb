{
 "cells": [
  {
   "cell_type": "markdown",
   "id": "ca9c42fb",
   "metadata": {},
   "source": [
    "\n",
    "     filepath---> file location\n",
    "     mode(text) --> \n",
    "     r --> read only\n",
    "     w---> write only\n",
    "     a ---> append\n",
    "     "
   ]
  },
  {
   "cell_type": "code",
   "execution_count": 1,
   "id": "8e96a289",
   "metadata": {},
   "outputs": [
    {
     "data": {
      "text/plain": [
       "'C:\\\\Users\\\\rmani'"
      ]
     },
     "execution_count": 1,
     "metadata": {},
     "output_type": "execute_result"
    }
   ],
   "source": [
    "pwd"
   ]
  },
  {
   "cell_type": "code",
   "execution_count": 2,
   "id": "83d8101b",
   "metadata": {},
   "outputs": [],
   "source": [
    "r=open('C:\\\\Users\\\\rmani\\\\Desktop\\\\rishi.txt',mode='w')"
   ]
  },
  {
   "cell_type": "code",
   "execution_count": 3,
   "id": "36339a18",
   "metadata": {},
   "outputs": [
    {
     "data": {
      "text/plain": [
       "<_io.TextIOWrapper name='C:\\\\Users\\\\rmani\\\\Desktop\\\\rishi.txt' mode='w' encoding='cp1252'>"
      ]
     },
     "execution_count": 3,
     "metadata": {},
     "output_type": "execute_result"
    }
   ],
   "source": [
    "r"
   ]
  },
  {
   "cell_type": "code",
   "execution_count": 4,
   "id": "7a14a075",
   "metadata": {},
   "outputs": [
    {
     "data": {
      "text/plain": [
       "24"
      ]
     },
     "execution_count": 4,
     "metadata": {},
     "output_type": "execute_result"
    }
   ],
   "source": [
    "r.write('hello manish how are you')"
   ]
  },
  {
   "cell_type": "code",
   "execution_count": 5,
   "id": "33adfb6a",
   "metadata": {},
   "outputs": [],
   "source": [
    "r.close()"
   ]
  },
  {
   "cell_type": "code",
   "execution_count": null,
   "id": "89e8f63a",
   "metadata": {},
   "outputs": [],
   "source": [
    "file=open('C:\\\\Users\\\\rmani\\\\Desktop\\\\')"
   ]
  },
  {
   "cell_type": "code",
   "execution_count": 6,
   "id": "72bc009f",
   "metadata": {},
   "outputs": [
    {
     "data": {
      "text/plain": [
       "'C:\\\\Users\\\\rmani'"
      ]
     },
     "execution_count": 6,
     "metadata": {},
     "output_type": "execute_result"
    }
   ],
   "source": [
    "pwd"
   ]
  },
  {
   "cell_type": "code",
   "execution_count": 7,
   "id": "2ab23807",
   "metadata": {},
   "outputs": [],
   "source": [
    "import os\n"
   ]
  },
  {
   "cell_type": "code",
   "execution_count": 8,
   "id": "5c66c197",
   "metadata": {},
   "outputs": [],
   "source": [
    "os.chdir('C:\\\\Users\\\\rmani\\\\Desktop')"
   ]
  },
  {
   "cell_type": "code",
   "execution_count": 15,
   "id": "e6f4b735",
   "metadata": {},
   "outputs": [],
   "source": [
    "\n",
    "p='C:\\\\Users\\\\rmani\\\\Desktop'"
   ]
  },
  {
   "cell_type": "code",
   "execution_count": 11,
   "id": "061e820a",
   "metadata": {},
   "outputs": [
    {
     "data": {
      "text/plain": [
       "['1294266.png',\n",
       " 'aa.html',\n",
       " 'apply.txt',\n",
       " 'database1.txt',\n",
       " 'desktop.ini',\n",
       " 'django_command.txt',\n",
       " 'document_management_system',\n",
       " 'document_management_system.zip',\n",
       " 'drive_lecture.txt',\n",
       " 'IMG_20210119_121106.jpg',\n",
       " 'meet.txt',\n",
       " 'Microsoft Teams.lnk',\n",
       " 'rishi.txt',\n",
       " 'Untitled.ipynb',\n",
       " 'user_name.txt',\n",
       " 'Visual Studio Code.lnk',\n",
       " 'web1',\n",
       " 'Zoom.lnk']"
      ]
     },
     "execution_count": 11,
     "metadata": {},
     "output_type": "execute_result"
    }
   ],
   "source": [
    "os.listdir()"
   ]
  },
  {
   "cell_type": "code",
   "execution_count": 16,
   "id": "4da9cae3",
   "metadata": {},
   "outputs": [
    {
     "data": {
      "text/plain": [
       "'C:\\\\Users\\\\rmani'"
      ]
     },
     "execution_count": 16,
     "metadata": {},
     "output_type": "execute_result"
    }
   ],
   "source": [
    "os.path.dirname(p)"
   ]
  },
  {
   "cell_type": "code",
   "execution_count": 19,
   "id": "c53b13df",
   "metadata": {},
   "outputs": [
    {
     "name": "stdout",
     "output_type": "stream",
     "text": [
      "['__all__', '__builtins__', '__cached__', '__doc__', '__file__', '__loader__', '__name__', '__package__', '__spec__', '_abspath_fallback', '_get_bothseps', '_getfinalpathname', '_getfinalpathname_nonstrict', '_getfullpathname', '_getvolumepathname', '_nt_readlink', '_readlink_deep', 'abspath', 'altsep', 'basename', 'commonpath', 'commonprefix', 'curdir', 'defpath', 'devnull', 'dirname', 'exists', 'expanduser', 'expandvars', 'extsep', 'genericpath', 'getatime', 'getctime', 'getmtime', 'getsize', 'isabs', 'isdir', 'isfile', 'islink', 'ismount', 'join', 'lexists', 'normcase', 'normpath', 'os', 'pardir', 'pathsep', 'realpath', 'relpath', 'samefile', 'sameopenfile', 'samestat', 'sep', 'split', 'splitdrive', 'splitext', 'stat', 'supports_unicode_filenames', 'sys']\n"
     ]
    }
   ],
   "source": [
    "print(dir(os.path))"
   ]
  },
  {
   "cell_type": "code",
   "execution_count": 20,
   "id": "c223ea65",
   "metadata": {},
   "outputs": [
    {
     "data": {
      "text/plain": [
       "'Desktop'"
      ]
     },
     "execution_count": 20,
     "metadata": {},
     "output_type": "execute_result"
    }
   ],
   "source": [
    "os.path.basename(p)"
   ]
  },
  {
   "cell_type": "code",
   "execution_count": 25,
   "id": "7f11d8b8",
   "metadata": {},
   "outputs": [],
   "source": [
    "file=open('C:\\\\Users\\\\rmani\\\\Desktop\\\\meet.txt')"
   ]
  },
  {
   "cell_type": "code",
   "execution_count": 22,
   "id": "d5f0f9ea",
   "metadata": {},
   "outputs": [],
   "source": [
    "r='hello manish\\\n",
    "how are you\\\n",
    "hello python'"
   ]
  },
  {
   "cell_type": "code",
   "execution_count": 24,
   "id": "dd8526a5",
   "metadata": {},
   "outputs": [
    {
     "name": "stdout",
     "output_type": "stream",
     "text": [
      "\\\n"
     ]
    }
   ],
   "source": [
    "print('\\\\')"
   ]
  },
  {
   "cell_type": "code",
   "execution_count": 26,
   "id": "15b02cdb",
   "metadata": {},
   "outputs": [
    {
     "data": {
      "text/plain": [
       "<_io.TextIOWrapper name='C:\\\\Users\\\\rmani\\\\Desktop\\\\meet.txt' mode='r' encoding='cp1252'>"
      ]
     },
     "execution_count": 26,
     "metadata": {},
     "output_type": "execute_result"
    }
   ],
   "source": [
    "file"
   ]
  },
  {
   "cell_type": "code",
   "execution_count": 27,
   "id": "3cea39e2",
   "metadata": {},
   "outputs": [
    {
     "ename": "UnsupportedOperation",
     "evalue": "not writable",
     "output_type": "error",
     "traceback": [
      "\u001b[1;31m---------------------------------------------------------------------------\u001b[0m",
      "\u001b[1;31mUnsupportedOperation\u001b[0m                      Traceback (most recent call last)",
      "\u001b[1;32m~\\AppData\\Local\\Temp/ipykernel_4064/4113197057.py\u001b[0m in \u001b[0;36m<module>\u001b[1;34m\u001b[0m\n\u001b[1;32m----> 1\u001b[1;33m \u001b[0mfile\u001b[0m\u001b[1;33m.\u001b[0m\u001b[0mwrite\u001b[0m\u001b[1;33m(\u001b[0m\u001b[1;34m'hello manishd'\u001b[0m\u001b[1;33m)\u001b[0m\u001b[1;33m\u001b[0m\u001b[1;33m\u001b[0m\u001b[0m\n\u001b[0m",
      "\u001b[1;31mUnsupportedOperation\u001b[0m: not writable"
     ]
    }
   ],
   "source": [
    "file.write('hello manishd')"
   ]
  },
  {
   "cell_type": "code",
   "execution_count": 31,
   "id": "ded656e4",
   "metadata": {},
   "outputs": [
    {
     "data": {
      "text/plain": [
       "True"
      ]
     },
     "execution_count": 31,
     "metadata": {},
     "output_type": "execute_result"
    }
   ],
   "source": [
    "file.readable()"
   ]
  },
  {
   "cell_type": "code",
   "execution_count": 32,
   "id": "2dae5ec2",
   "metadata": {},
   "outputs": [
    {
     "data": {
      "text/plain": [
       "False"
      ]
     },
     "execution_count": 32,
     "metadata": {},
     "output_type": "execute_result"
    }
   ],
   "source": [
    "file.writable()"
   ]
  },
  {
   "cell_type": "code",
   "execution_count": 33,
   "id": "89e2a50b",
   "metadata": {},
   "outputs": [
    {
     "name": "stdout",
     "output_type": "stream",
     "text": [
      "<_io.TextIOWrapper name='C:\\\\Users\\\\rmani\\\\Desktop\\\\meet.txt' mode='r' encoding='cp1252'>\n"
     ]
    }
   ],
   "source": [
    "print(file)"
   ]
  },
  {
   "cell_type": "code",
   "execution_count": 34,
   "id": "08e1a4fe",
   "metadata": {},
   "outputs": [
    {
     "name": "stdout",
     "output_type": "stream",
     "text": [
      "https://meet.google.com/dvb-rrqn-qhy\n"
     ]
    }
   ],
   "source": [
    "print(file.read())"
   ]
  },
  {
   "cell_type": "code",
   "execution_count": 38,
   "id": "39147d49",
   "metadata": {},
   "outputs": [],
   "source": [
    "file=open('C:\\\\Users\\\\rmani\\\\Desktop\\\\rishi.txt','w')"
   ]
  },
  {
   "cell_type": "code",
   "execution_count": 39,
   "id": "26abadd4",
   "metadata": {},
   "outputs": [
    {
     "data": {
      "text/plain": [
       "11"
      ]
     },
     "execution_count": 39,
     "metadata": {},
     "output_type": "execute_result"
    }
   ],
   "source": [
    "file.write('hello world')"
   ]
  },
  {
   "cell_type": "code",
   "execution_count": 40,
   "id": "00c741d3",
   "metadata": {},
   "outputs": [],
   "source": [
    "file.close()"
   ]
  },
  {
   "cell_type": "code",
   "execution_count": 41,
   "id": "32343090",
   "metadata": {},
   "outputs": [],
   "source": [
    "file=open('C:\\\\Users\\\\rmani\\\\Desktop\\\\rishi.html','w')"
   ]
  },
  {
   "cell_type": "code",
   "execution_count": 42,
   "id": "5766b24e",
   "metadata": {},
   "outputs": [
    {
     "data": {
      "text/plain": [
       "56"
      ]
     },
     "execution_count": 42,
     "metadata": {},
     "output_type": "execute_result"
    }
   ],
   "source": [
    "file.write(\"<h1 style='color:red;text-align:center'> hello word</h1>\")"
   ]
  },
  {
   "cell_type": "code",
   "execution_count": 43,
   "id": "d46f3cd7",
   "metadata": {},
   "outputs": [],
   "source": [
    "file.close()"
   ]
  },
  {
   "cell_type": "code",
   "execution_count": 44,
   "id": "66597d47",
   "metadata": {},
   "outputs": [
    {
     "data": {
      "text/plain": [
       "['1294266.png',\n",
       " 'aa.html',\n",
       " 'apply.txt',\n",
       " 'database1.txt',\n",
       " 'desktop.ini',\n",
       " 'django_command.txt',\n",
       " 'document_management_system',\n",
       " 'document_management_system.zip',\n",
       " 'drive_lecture.txt',\n",
       " 'IMG_20210119_121106.jpg',\n",
       " 'meet.txt',\n",
       " 'Microsoft Teams.lnk',\n",
       " 'rishi.html',\n",
       " 'rishi.txt',\n",
       " 'Untitled.ipynb',\n",
       " 'user_name.txt',\n",
       " 'Visual Studio Code.lnk',\n",
       " 'web1',\n",
       " 'Zoom.lnk']"
      ]
     },
     "execution_count": 44,
     "metadata": {},
     "output_type": "execute_result"
    }
   ],
   "source": [
    "os.listdir()"
   ]
  },
  {
   "cell_type": "code",
   "execution_count": 45,
   "id": "c0083a89",
   "metadata": {},
   "outputs": [],
   "source": [
    "f=open('C:\\\\Users\\\\rmani\\\\Desktop\\\\rishi.html',mode='r')"
   ]
  },
  {
   "cell_type": "code",
   "execution_count": 46,
   "id": "7b6db2a8",
   "metadata": {},
   "outputs": [],
   "source": [
    "data=f.read()"
   ]
  },
  {
   "cell_type": "code",
   "execution_count": 47,
   "id": "849eb44f",
   "metadata": {},
   "outputs": [
    {
     "name": "stdout",
     "output_type": "stream",
     "text": [
      "<h1 style='color:red;text-align:center'> hello word</h1>\n"
     ]
    }
   ],
   "source": [
    "print(data)"
   ]
  },
  {
   "cell_type": "code",
   "execution_count": 48,
   "id": "ff0ad021",
   "metadata": {},
   "outputs": [
    {
     "name": "stdout",
     "output_type": "stream",
     "text": [
      "Enter student data: roll name math sci com\n",
      "Enter student data: 101 mann 90 98 78\n",
      "Enter student data: 102 shan 76 56 56\n",
      "Enter student data: 103 jeet 90 89 88\n",
      "Enter student data: 104 niki 67 78 98\n",
      "Enter student data: 105 neha 67 76 78\n"
     ]
    }
   ],
   "source": [
    "file=open('C:\\\\Users\\\\rmani\\\\Desktop\\\\python_batch.txt','w')\n",
    "for i in range(6):\n",
    "    d=input('Enter student data: ').split()\n",
    "    d='\\t'.join(d)\n",
    "    d=d+'\\n'\n",
    "    file.write(d)\n",
    "file.close()"
   ]
  },
  {
   "cell_type": "code",
   "execution_count": 49,
   "id": "3ee5c31f",
   "metadata": {},
   "outputs": [],
   "source": [
    "file=open('C:\\\\Users\\\\rmani\\\\Desktop\\\\python_batch.txt','r')"
   ]
  },
  {
   "cell_type": "code",
   "execution_count": 50,
   "id": "bacc192a",
   "metadata": {},
   "outputs": [],
   "source": [
    "data=file.read()"
   ]
  },
  {
   "cell_type": "code",
   "execution_count": 51,
   "id": "e5ae0ac1",
   "metadata": {},
   "outputs": [
    {
     "name": "stdout",
     "output_type": "stream",
     "text": [
      "roll\tname\tmath\tsci\tcom\n",
      "101\tmann\t90\t98\t78\n",
      "102\tshan\t76\t56\t56\n",
      "103\tjeet\t90\t89\t88\n",
      "104\tniki\t67\t78\t98\n",
      "105\tneha\t67\t76\t78\n",
      "\n"
     ]
    }
   ],
   "source": [
    "print(data)"
   ]
  },
  {
   "cell_type": "code",
   "execution_count": 57,
   "id": "1d726ab4",
   "metadata": {},
   "outputs": [
    {
     "name": "stdout",
     "output_type": "stream",
     "text": [
      "'roll\\tname\\tmath\\tsci\\tcom\\n101\\tmann\\t90\\t98\\t78\\n102\\tshan\\t76\\t56\\t56\\n103\\tjeet\\t90\\t89\\t88\\n104\\tniki\\t67\\t78\\t98\\n105\\tneha\\t67\\t76\\t78\\n'\n"
     ]
    }
   ],
   "source": [
    "print(repr(data))"
   ]
  },
  {
   "cell_type": "code",
   "execution_count": 58,
   "id": "0f94a674",
   "metadata": {},
   "outputs": [],
   "source": [
    "res=data.split('\\n')"
   ]
  },
  {
   "cell_type": "code",
   "execution_count": 59,
   "id": "4bf6c3cb",
   "metadata": {},
   "outputs": [
    {
     "name": "stdout",
     "output_type": "stream",
     "text": [
      "['roll\\tname\\tmath\\tsci\\tcom', '101\\tmann\\t90\\t98\\t78', '102\\tshan\\t76\\t56\\t56', '103\\tjeet\\t90\\t89\\t88', '104\\tniki\\t67\\t78\\t98', '105\\tneha\\t67\\t76\\t78', '']\n"
     ]
    }
   ],
   "source": [
    "print(repr(res))"
   ]
  },
  {
   "cell_type": "code",
   "execution_count": 60,
   "id": "e563888a",
   "metadata": {},
   "outputs": [
    {
     "data": {
      "text/plain": [
       "'roll\\tname\\tmath\\tsci\\tcom'"
      ]
     },
     "execution_count": 60,
     "metadata": {},
     "output_type": "execute_result"
    }
   ],
   "source": [
    "res[0]"
   ]
  },
  {
   "cell_type": "code",
   "execution_count": 61,
   "id": "d007aa5f",
   "metadata": {},
   "outputs": [
    {
     "data": {
      "text/plain": [
       "'101\\tmann\\t90\\t98\\t78'"
      ]
     },
     "execution_count": 61,
     "metadata": {},
     "output_type": "execute_result"
    }
   ],
   "source": [
    "res[1]"
   ]
  },
  {
   "cell_type": "code",
   "execution_count": 62,
   "id": "1962b99b",
   "metadata": {},
   "outputs": [
    {
     "data": {
      "text/plain": [
       "'102\\tshan\\t76\\t56\\t56'"
      ]
     },
     "execution_count": 62,
     "metadata": {},
     "output_type": "execute_result"
    }
   ],
   "source": [
    "res[2]"
   ]
  },
  {
   "cell_type": "code",
   "execution_count": 77,
   "id": "09b3924a",
   "metadata": {},
   "outputs": [
    {
     "name": "stdout",
     "output_type": "stream",
     "text": [
      "['101', 'mann', '90', '98', '78', '88']\n",
      "['102', 'shan', '76', '56', '56', '62']\n",
      "['103', 'jeet', '90', '89', '88', '89']\n",
      "['104', 'niki', '67', '78', '98', '81']\n",
      "['105', 'neha', '67', '76', '78', '73']\n"
     ]
    }
   ],
   "source": [
    "result=[]\n",
    "for i in res[1:-1]:\n",
    "    i=i.split('\\t')\n",
    "    p=sum(map(int,i[2:]))//3\n",
    "    p=str(p)\n",
    "    i.append(p)\n",
    "    print(repr(i))\n",
    "    i='\\t'.join(i)\n",
    "    result.append(i)\n",
    "    \n",
    "    "
   ]
  },
  {
   "cell_type": "code",
   "execution_count": 78,
   "id": "fca1cd77",
   "metadata": {},
   "outputs": [
    {
     "name": "stdout",
     "output_type": "stream",
     "text": [
      "['101\\tmann\\t90\\t98\\t78\\t88', '102\\tshan\\t76\\t56\\t56\\t62', '103\\tjeet\\t90\\t89\\t88\\t89', '104\\tniki\\t67\\t78\\t98\\t81', '105\\tneha\\t67\\t76\\t78\\t73']\n"
     ]
    }
   ],
   "source": [
    "print(repr(result))"
   ]
  },
  {
   "cell_type": "code",
   "execution_count": 79,
   "id": "d400b19a",
   "metadata": {},
   "outputs": [],
   "source": [
    "final='\\n'.join(result)"
   ]
  },
  {
   "cell_type": "code",
   "execution_count": 80,
   "id": "f2e1c5c3",
   "metadata": {},
   "outputs": [
    {
     "name": "stdout",
     "output_type": "stream",
     "text": [
      "'101\\tmann\\t90\\t98\\t78\\t88\\n102\\tshan\\t76\\t56\\t56\\t62\\n103\\tjeet\\t90\\t89\\t88\\t89\\n104\\tniki\\t67\\t78\\t98\\t81\\n105\\tneha\\t67\\t76\\t78\\t73'\n"
     ]
    }
   ],
   "source": [
    "print(repr(final))"
   ]
  },
  {
   "cell_type": "code",
   "execution_count": 81,
   "id": "85523c12",
   "metadata": {},
   "outputs": [
    {
     "data": {
      "text/plain": [
       "'roll\\tname\\tmath\\tsci\\tcom'"
      ]
     },
     "execution_count": 81,
     "metadata": {},
     "output_type": "execute_result"
    }
   ],
   "source": [
    "res[0]"
   ]
  },
  {
   "cell_type": "code",
   "execution_count": 82,
   "id": "8875370b",
   "metadata": {},
   "outputs": [],
   "source": [
    "head=res[0]+'\\tpercentage\\n'"
   ]
  },
  {
   "cell_type": "code",
   "execution_count": 83,
   "id": "0084480b",
   "metadata": {},
   "outputs": [
    {
     "data": {
      "text/plain": [
       "'roll\\tname\\tmath\\tsci\\tcom\\tpercentage\\n'"
      ]
     },
     "execution_count": 83,
     "metadata": {},
     "output_type": "execute_result"
    }
   ],
   "source": [
    "head"
   ]
  },
  {
   "cell_type": "code",
   "execution_count": 84,
   "id": "f939746a",
   "metadata": {},
   "outputs": [],
   "source": [
    "final_data=head+final"
   ]
  },
  {
   "cell_type": "code",
   "execution_count": 85,
   "id": "9933aa1b",
   "metadata": {},
   "outputs": [
    {
     "name": "stdout",
     "output_type": "stream",
     "text": [
      "roll\tname\tmath\tsci\tcom\tpercentage\n",
      "101\tmann\t90\t98\t78\t88\n",
      "102\tshan\t76\t56\t56\t62\n",
      "103\tjeet\t90\t89\t88\t89\n",
      "104\tniki\t67\t78\t98\t81\n",
      "105\tneha\t67\t76\t78\t73\n"
     ]
    }
   ],
   "source": [
    "print(final_data)"
   ]
  },
  {
   "cell_type": "code",
   "execution_count": 86,
   "id": "5560a868",
   "metadata": {},
   "outputs": [],
   "source": [
    "fi=open('C:\\\\Users\\\\rmani\\\\Desktop\\\\python_batch_result.txt','w')"
   ]
  },
  {
   "cell_type": "code",
   "execution_count": 87,
   "id": "8d245050",
   "metadata": {},
   "outputs": [
    {
     "data": {
      "text/plain": [
       "138"
      ]
     },
     "execution_count": 87,
     "metadata": {},
     "output_type": "execute_result"
    }
   ],
   "source": [
    "fi.write(final_data)"
   ]
  },
  {
   "cell_type": "code",
   "execution_count": 88,
   "id": "52814062",
   "metadata": {},
   "outputs": [],
   "source": [
    "fi.close()"
   ]
  },
  {
   "cell_type": "code",
   "execution_count": null,
   "id": "deec76e3",
   "metadata": {},
   "outputs": [],
   "source": []
  }
 ],
 "metadata": {
  "kernelspec": {
   "display_name": "Python 3 (ipykernel)",
   "language": "python",
   "name": "python3"
  },
  "language_info": {
   "codemirror_mode": {
    "name": "ipython",
    "version": 3
   },
   "file_extension": ".py",
   "mimetype": "text/x-python",
   "name": "python",
   "nbconvert_exporter": "python",
   "pygments_lexer": "ipython3",
   "version": "3.9.6"
  }
 },
 "nbformat": 4,
 "nbformat_minor": 5
}
