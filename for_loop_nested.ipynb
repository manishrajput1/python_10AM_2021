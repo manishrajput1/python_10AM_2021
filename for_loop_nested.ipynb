{
 "cells": [
  {
   "cell_type": "markdown",
   "id": "f717290a",
   "metadata": {},
   "source": [
    "## Rock Paper Scissor"
   ]
  },
  {
   "cell_type": "code",
   "execution_count": 43,
   "id": "6f5eaa99",
   "metadata": {},
   "outputs": [
    {
     "name": "stdout",
     "output_type": "stream",
     "text": [
      "******************************************************************************\n",
      "\n",
      "                       Welcome to rock paper scissor game                       \n",
      "\n",
      "******************************************************************************\n",
      "\n",
      "Enter your choice Rock | paper | scissor : ········\n",
      "\n",
      "..\n",
      "..\n",
      "\n",
      "computer won \n",
      " user : 0 : computer : 1 : tie: 0\n",
      "\n",
      "your choice:  rock\n",
      "\n",
      "computer choice:  paper\n",
      "Enter your choice Rock | paper | scissor : ········\n",
      "\n",
      "..\n",
      "..\n",
      "\n",
      "you won the match\n",
      " user : 1 : computer : 1 : tie: 0\n",
      "\n",
      "your choice:  paper\n",
      "\n",
      "computer choice:  rock\n",
      "Enter your choice Rock | paper | scissor : ········\n",
      "\n",
      "..\n",
      "..\n",
      "\n",
      "match tie\n",
      " user : 1 : computer : 1 : tie: 1\n",
      "\n",
      "your choice:  rock\n",
      "\n",
      "computer choice:  rock\n"
     ]
    }
   ],
   "source": [
    "# user,com\n",
    "dashboard={'user':0,'computer':0,'tie':0}\n",
    "\n",
    "usr_win=[('paper','rock'),\n",
    "        ('scissor','paper'),\n",
    "        ('rock','scissor')]\n",
    "print('*'*78)\n",
    "print()\n",
    "print('Welcome to rock paper scissor game'.center(80))\n",
    "print()\n",
    "print('*'*78)\n",
    "print()\n",
    "from getpass import getpass\n",
    "import random\n",
    "from time import sleep\n",
    "c=1\n",
    "while c<=3:\n",
    "    usr=getpass('Enter your choice Rock | paper | scissor : ').lower()\n",
    "    \n",
    "    ch=['rock','paper','scissor']\n",
    "    com=random.choice(ch)\n",
    "    result =(usr,com)\n",
    "    print()\n",
    "    if result in usr_win:\n",
    "        print('..')\n",
    "        sleep(1)\n",
    "        print('..')\n",
    "        sleep(1)\n",
    "        print()\n",
    "        print('you won the match')\n",
    "        dashboard['user']+=1\n",
    "        print(f\" user : {dashboard['user']} : computer : {dashboard['computer']} : tie: {dashboard['tie']}\")\n",
    "    elif usr==com:\n",
    "        print('..')\n",
    "        sleep(1)\n",
    "        print('..')\n",
    "        sleep(1)\n",
    "        print()\n",
    "        print('match tie')\n",
    "        dashboard['tie']+=1\n",
    "        print(f\" user : {dashboard['user']} : computer : {dashboard['computer']} : tie: {dashboard['tie']}\")\n",
    "    else:\n",
    "        print('..')\n",
    "        sleep(1)\n",
    "        print('..')\n",
    "        sleep(1)\n",
    "        print()\n",
    "        print('computer won ')\n",
    "        dashboard['computer']+=1\n",
    "        print(f\" user : {dashboard['user']} : computer : {dashboard['computer']} : tie: {dashboard['tie']}\")     \n",
    "    print()\n",
    "    sleep(2)\n",
    "    print('your choice: ',usr)\n",
    "    print()\n",
    "    print('computer choice: ',com)\n",
    "    c+=1\n"
   ]
  },
  {
   "cell_type": "code",
   "execution_count": 14,
   "id": "79dd4fec",
   "metadata": {},
   "outputs": [],
   "source": [
    "import random"
   ]
  },
  {
   "cell_type": "code",
   "execution_count": 19,
   "id": "5da38161",
   "metadata": {},
   "outputs": [
    {
     "data": {
      "text/plain": [
       "0.39962205828087005"
      ]
     },
     "execution_count": 19,
     "metadata": {},
     "output_type": "execute_result"
    }
   ],
   "source": [
    "random.random()"
   ]
  },
  {
   "cell_type": "code",
   "execution_count": 24,
   "id": "fdbd7b7b",
   "metadata": {},
   "outputs": [
    {
     "data": {
      "text/plain": [
       "25"
      ]
     },
     "execution_count": 24,
     "metadata": {},
     "output_type": "execute_result"
    }
   ],
   "source": [
    "random.randint(10,100)"
   ]
  },
  {
   "cell_type": "code",
   "execution_count": 27,
   "id": "4f04a9e5",
   "metadata": {},
   "outputs": [],
   "source": [
    "p=[chr(i) for i in range(65,91)]"
   ]
  },
  {
   "cell_type": "code",
   "execution_count": 28,
   "id": "3605c47a",
   "metadata": {},
   "outputs": [
    {
     "name": "stdout",
     "output_type": "stream",
     "text": [
      "['A', 'B', 'C', 'D', 'E', 'F', 'G', 'H', 'I', 'J', 'K', 'L', 'M', 'N', 'O', 'P', 'Q', 'R', 'S', 'T', 'U', 'V', 'W', 'X', 'Y', 'Z']\n"
     ]
    }
   ],
   "source": [
    "print(p)"
   ]
  },
  {
   "cell_type": "code",
   "execution_count": 29,
   "id": "13e4cd36",
   "metadata": {},
   "outputs": [],
   "source": [
    "random.shuffle(p)"
   ]
  },
  {
   "cell_type": "code",
   "execution_count": 30,
   "id": "d3e03115",
   "metadata": {},
   "outputs": [
    {
     "name": "stdout",
     "output_type": "stream",
     "text": [
      "['H', 'F', 'D', 'P', 'Y', 'V', 'K', 'X', 'O', 'G', 'T', 'B', 'J', 'Z', 'M', 'S', 'U', 'I', 'N', 'E', 'W', 'Q', 'L', 'C', 'A', 'R']\n"
     ]
    }
   ],
   "source": [
    "print(p)"
   ]
  },
  {
   "cell_type": "code",
   "execution_count": 31,
   "id": "5b68f56c",
   "metadata": {},
   "outputs": [],
   "source": [
    "random.shuffle(p)"
   ]
  },
  {
   "cell_type": "code",
   "execution_count": 32,
   "id": "eeba7c50",
   "metadata": {},
   "outputs": [
    {
     "name": "stdout",
     "output_type": "stream",
     "text": [
      "['N', 'J', 'P', 'T', 'V', 'L', 'I', 'U', 'W', 'Y', 'Q', 'S', 'D', 'H', 'X', 'M', 'E', 'Z', 'R', 'B', 'G', 'F', 'A', 'C', 'K', 'O']\n"
     ]
    }
   ],
   "source": [
    "print(p)"
   ]
  },
  {
   "cell_type": "code",
   "execution_count": 39,
   "id": "8a0b1733",
   "metadata": {},
   "outputs": [
    {
     "data": {
      "text/plain": [
       "'G'"
      ]
     },
     "execution_count": 39,
     "metadata": {},
     "output_type": "execute_result"
    }
   ],
   "source": [
    "random.choice(p)"
   ]
  },
  {
   "cell_type": "code",
   "execution_count": null,
   "id": "74ea327b",
   "metadata": {},
   "outputs": [],
   "source": []
  },
  {
   "cell_type": "code",
   "execution_count": 44,
   "id": "2574ab00",
   "metadata": {},
   "outputs": [],
   "source": [
    "#pattern"
   ]
  },
  {
   "cell_type": "markdown",
   "id": "fac62674",
   "metadata": {},
   "source": [
    "    *\n",
    "    **\n",
    "    ***\n",
    "    ****\n",
    "    *****\n",
    "    ******"
   ]
  },
  {
   "cell_type": "code",
   "execution_count": 45,
   "id": "950b1933",
   "metadata": {},
   "outputs": [
    {
     "name": "stdout",
     "output_type": "stream",
     "text": [
      "*\n",
      "**\n",
      "***\n",
      "****\n",
      "*****\n",
      "******\n",
      "*******\n",
      "********\n",
      "*********\n",
      "**********\n"
     ]
    }
   ],
   "source": [
    "for i in range(1,11):\n",
    "    print(i*'*')"
   ]
  },
  {
   "cell_type": "code",
   "execution_count": 46,
   "id": "65f737cc",
   "metadata": {},
   "outputs": [
    {
     "name": "stdout",
     "output_type": "stream",
     "text": [
      "***********\n",
      "**********\n",
      "*********\n",
      "********\n",
      "*******\n",
      "******\n",
      "*****\n",
      "****\n",
      "***\n",
      "**\n",
      "*\n"
     ]
    }
   ],
   "source": [
    "for i in range(11,0,-1):\n",
    "    print(i*'*')"
   ]
  },
  {
   "cell_type": "markdown",
   "id": "c8a16f12",
   "metadata": {},
   "source": [
    "        *\n",
    "       **\n",
    "      ***\n",
    "     ****\n",
    "    *****\n",
    "   ******"
   ]
  },
  {
   "cell_type": "code",
   "execution_count": 50,
   "id": "49946ce6",
   "metadata": {},
   "outputs": [
    {
     "name": "stdout",
     "output_type": "stream",
     "text": [
      "         * \n",
      "        * * \n",
      "       * * * \n",
      "      * * * * \n",
      "     * * * * * \n",
      "    * * * * * * \n",
      "   * * * * * * * \n",
      "  * * * * * * * * \n",
      " * * * * * * * * * \n",
      "* * * * * * * * * * \n",
      "* * * * * * * * * * \n",
      " * * * * * * * * * \n",
      "  * * * * * * * * \n",
      "   * * * * * * * \n",
      "    * * * * * * \n",
      "     * * * * * \n",
      "      * * * * \n",
      "       * * * \n",
      "        * * \n",
      "         * \n"
     ]
    }
   ],
   "source": [
    "for i in range(1,11):\n",
    "    print(' '*(10-i)+'* '*i)\n",
    "for i in range(10,0,-1):\n",
    "    print(' '*(10-i)+'* '*i)"
   ]
  },
  {
   "cell_type": "markdown",
   "id": "e1725a3a",
   "metadata": {},
   "source": [
    "          *\n",
    "         * *\n",
    "        * * *\n",
    "       * * * *\n",
    "      * * * * *"
   ]
  },
  {
   "cell_type": "code",
   "execution_count": 51,
   "id": "9217cd67",
   "metadata": {},
   "outputs": [
    {
     "name": "stdout",
     "output_type": "stream",
     "text": [
      "A\n",
      "BB\n",
      "CCC\n",
      "DDDD\n",
      "EEEEE\n",
      "FFFFFF\n",
      "GGGGGGG\n",
      "HHHHHHHH\n",
      "IIIIIIIII\n",
      "JJJJJJJJJJ\n",
      "KKKKKKKKKKK\n",
      "LLLLLLLLLLLL\n",
      "MMMMMMMMMMMMM\n",
      "NNNNNNNNNNNNNN\n",
      "OOOOOOOOOOOOOOO\n",
      "PPPPPPPPPPPPPPPP\n",
      "QQQQQQQQQQQQQQQQQ\n",
      "RRRRRRRRRRRRRRRRRR\n",
      "SSSSSSSSSSSSSSSSSSS\n",
      "TTTTTTTTTTTTTTTTTTTT\n",
      "UUUUUUUUUUUUUUUUUUUUU\n",
      "VVVVVVVVVVVVVVVVVVVVVV\n",
      "WWWWWWWWWWWWWWWWWWWWWWW\n",
      "XXXXXXXXXXXXXXXXXXXXXXXX\n",
      "YYYYYYYYYYYYYYYYYYYYYYYYY\n",
      "ZZZZZZZZZZZZZZZZZZZZZZZZZZ\n"
     ]
    }
   ],
   "source": [
    "c=1\n",
    "for i in range(65,91):\n",
    "    print(f'{chr(i)}'*c)\n",
    "    c+=1"
   ]
  },
  {
   "cell_type": "code",
   "execution_count": 52,
   "id": "03605006",
   "metadata": {},
   "outputs": [
    {
     "data": {
      "text/plain": [
       "'A'"
      ]
     },
     "execution_count": 52,
     "metadata": {},
     "output_type": "execute_result"
    }
   ],
   "source": [
    "chr(65)"
   ]
  },
  {
   "cell_type": "code",
   "execution_count": 53,
   "id": "a9839c7c",
   "metadata": {},
   "outputs": [
    {
     "data": {
      "text/plain": [
       "'B'"
      ]
     },
     "execution_count": 53,
     "metadata": {},
     "output_type": "execute_result"
    }
   ],
   "source": [
    "chr(66)"
   ]
  },
  {
   "cell_type": "code",
   "execution_count": 56,
   "id": "61ead59d",
   "metadata": {},
   "outputs": [
    {
     "data": {
      "text/plain": [
       "'b'"
      ]
     },
     "execution_count": 56,
     "metadata": {},
     "output_type": "execute_result"
    }
   ],
   "source": [
    "chr(98)"
   ]
  },
  {
   "cell_type": "code",
   "execution_count": 61,
   "id": "52bf1741",
   "metadata": {},
   "outputs": [
    {
     "name": "stdout",
     "output_type": "stream",
     "text": [
      "\u0000 0 \u0001 1 \u0002 2 \u0003 3 \u0004 4 \u0005 5 \u0006 6 \u0007 7 8 \t 9 \n",
      " 13 \u000e 14 \u000f 15 \u0010 16 \u0011 17 \u0012 18 \u0013 19 \u0014 20 \u0015 21 \u0016 22 \u0017 23 \u0018 24 \u0019 25 \u001a 26 \u001b 27 \u001c",
      " 28 \u001d",
      " 29 \u001e",
      " 30 \u001f 31   32 ! 33 \" 34 # 35 $ 36 % 37 & 38 ' 39 ( 40 ) 41 * 42 + 43 , 44 - 45 . 46 / 47 0 48 1 49 2 50 3 51 4 52 5 53 6 54 7 55 8 56 9 57 : 58 ; 59 < 60 = 61 > 62 ? 63 @ 64 A 65 B 66 C 67 D 68 E 69 F 70 G 71 H 72 I 73 J 74 K 75 L 76 M 77 N 78 O 79 P 80 Q 81 R 82 S 83 T 84 U 85 V 86 W 87 X 88 Y 89 Z 90 [ 91 \\ 92 ] 93 ^ 94 _ 95 ` 96 a 97 b 98 c 99 d 100 e 101 f 102 g 103 h 104 i 105 j 106 k 107 l 108 m 109 n 110 o 111 p 112 q 113 r 114 s 115 t 116 u 117 v 118 w 119 x 120 y 121 z 122 { 123 | 124 } 125 ~ 126  127  128  129  130  131  132 ",
      " 133  134  135  136  137  138  139  140  141  142  143  144  145  146  147  148  149  150  151  152  153  154  155  156  157  158  159   160 ¡ 161 ¢ 162 £ 163 ¤ 164 ¥ 165 ¦ 166 § 167 ¨ 168 © 169 ª 170 « 171 ¬ 172 ­ 173 ® 174 ¯ 175 ° 176 ± 177 ² 178 ³ 179 ´ 180 µ 181 ¶ 182 · 183 ¸ 184 ¹ 185 º 186 » 187 ¼ 188 ½ 189 ¾ 190 ¿ 191 À 192 Á 193 Â 194 Ã 195 Ä 196 Å 197 Æ 198 Ç 199 È 200 É 201 Ê 202 Ë 203 Ì 204 Í 205 Î 206 Ï 207 Ð 208 Ñ 209 Ò 210 Ó 211 Ô 212 Õ 213 Ö 214 × 215 Ø 216 Ù 217 Ú 218 Û 219 Ü 220 Ý 221 Þ 222 ß 223 à 224 á 225 â 226 ã 227 ä 228 å 229 æ 230 ç 231 è 232 é 233 ê 234 ë 235 ì 236 í 237 î 238 ï 239 ð 240 ñ 241 ò 242 ó 243 ô 244 õ 245 ö 246 ÷ 247 ø 248 ù 249 ú 250 û 251 ü 252 ý 253 þ 254 ÿ 255 Ā 256 ā 257 Ă 258 ă 259 Ą 260 ą 261 Ć 262 ć 263 Ĉ 264 ĉ 265 Ċ 266 ċ 267 Č 268 č 269 Ď 270 ď 271 Đ 272 đ 273 Ē 274 ē 275 Ĕ 276 ĕ 277 Ė 278 ė 279 Ę 280 ę 281 Ě 282 ě 283 Ĝ 284 ĝ 285 Ğ 286 ğ 287 Ġ 288 ġ 289 Ģ 290 ģ 291 Ĥ 292 ĥ 293 Ħ 294 ħ 295 Ĩ 296 ĩ 297 Ī 298 ī 299 Ĭ 300 ĭ 301 Į 302 į 303 İ 304 ı 305 Ĳ 306 ĳ 307 Ĵ 308 ĵ 309 Ķ 310 ķ 311 ĸ 312 Ĺ 313 ĺ 314 Ļ 315 ļ 316 Ľ 317 ľ 318 Ŀ 319 ŀ 320 Ł 321 ł 322 Ń 323 ń 324 Ņ 325 ņ 326 Ň 327 ň 328 ŉ 329 Ŋ 330 ŋ 331 Ō 332 ō 333 Ŏ 334 ŏ 335 Ő 336 ő 337 Œ 338 œ 339 Ŕ 340 ŕ 341 Ŗ 342 ŗ 343 Ř 344 ř 345 Ś 346 ś 347 Ŝ 348 ŝ 349 Ş 350 ş 351 Š 352 š 353 Ţ 354 ţ 355 Ť 356 ť 357 Ŧ 358 ŧ 359 Ũ 360 ũ 361 Ū 362 ū 363 Ŭ 364 ŭ 365 Ů 366 ů 367 Ű 368 ű 369 Ų 370 ų 371 Ŵ 372 ŵ 373 Ŷ 374 ŷ 375 Ÿ 376 Ź 377 ź 378 Ż 379 ż 380 Ž 381 ž 382 ſ 383 ƀ 384 Ɓ 385 Ƃ 386 ƃ 387 Ƅ 388 ƅ 389 Ɔ 390 Ƈ 391 ƈ 392 Ɖ 393 Ɗ 394 Ƌ 395 ƌ 396 ƍ 397 Ǝ 398 Ə 399 Ɛ 400 Ƒ 401 ƒ 402 Ɠ 403 Ɣ 404 ƕ 405 Ɩ 406 Ɨ 407 Ƙ 408 ƙ 409 ƚ 410 ƛ 411 Ɯ 412 Ɲ 413 ƞ 414 Ɵ 415 Ơ 416 ơ 417 Ƣ 418 ƣ 419 Ƥ 420 ƥ 421 Ʀ 422 Ƨ 423 ƨ 424 Ʃ 425 ƪ 426 ƫ 427 Ƭ 428 ƭ 429 Ʈ 430 Ư 431 ư 432 Ʊ 433 Ʋ 434 Ƴ 435 ƴ 436 Ƶ 437 ƶ 438 Ʒ 439 Ƹ 440 ƹ 441 ƺ 442 ƻ 443 Ƽ 444 ƽ 445 ƾ 446 ƿ 447 ǀ 448 ǁ 449 ǂ 450 ǃ 451 Ǆ 452 ǅ 453 ǆ 454 Ǉ 455 ǈ 456 ǉ 457 Ǌ 458 ǋ 459 ǌ 460 Ǎ 461 ǎ 462 Ǐ 463 ǐ 464 Ǒ 465 ǒ 466 Ǔ 467 ǔ 468 Ǖ 469 ǖ 470 Ǘ 471 ǘ 472 Ǚ 473 ǚ 474 Ǜ 475 ǜ 476 ǝ 477 Ǟ 478 ǟ 479 Ǡ 480 ǡ 481 Ǣ 482 ǣ 483 Ǥ 484 ǥ 485 Ǧ 486 ǧ 487 Ǩ 488 ǩ 489 Ǫ 490 ǫ 491 Ǭ 492 ǭ 493 Ǯ 494 ǯ 495 ǰ 496 Ǳ 497 ǲ 498 ǳ 499 Ǵ 500 ǵ 501 Ƕ 502 Ƿ 503 Ǹ 504 ǹ 505 Ǻ 506 ǻ 507 Ǽ 508 ǽ 509 Ǿ 510 ǿ 511 Ȁ 512 ȁ 513 Ȃ 514 ȃ 515 Ȅ 516 ȅ 517 Ȇ 518 ȇ 519 Ȉ 520 ȉ 521 Ȋ 522 ȋ 523 Ȍ 524 ȍ 525 Ȏ 526 ȏ 527 Ȑ 528 ȑ 529 Ȓ 530 ȓ 531 Ȕ 532 ȕ 533 Ȗ 534 ȗ 535 Ș 536 ș 537 Ț 538 ț 539 Ȝ 540 ȝ 541 Ȟ 542 ȟ 543 Ƞ 544 ȡ 545 Ȣ 546 ȣ 547 Ȥ 548 ȥ 549 Ȧ 550 ȧ 551 Ȩ 552 ȩ 553 Ȫ 554 ȫ 555 Ȭ 556 ȭ 557 Ȯ 558 ȯ 559 Ȱ 560 ȱ 561 Ȳ 562 ȳ 563 ȴ 564 ȵ 565 ȶ 566 ȷ 567 ȸ 568 ȹ 569 Ⱥ 570 Ȼ 571 ȼ 572 Ƚ 573 Ⱦ 574 ȿ 575 ɀ 576 Ɂ 577 ɂ 578 Ƀ 579 Ʉ 580 Ʌ 581 Ɇ 582 ɇ 583 Ɉ 584 ɉ 585 Ɋ 586 ɋ 587 Ɍ 588 ɍ 589 Ɏ 590 ɏ 591 ɐ 592 ɑ 593 ɒ 594 ɓ 595 ɔ 596 ɕ 597 ɖ 598 ɗ 599 ɘ 600 ə 601 ɚ 602 ɛ 603 ɜ 604 ɝ 605 ɞ 606 ɟ 607 ɠ 608 ɡ 609 ɢ 610 ɣ 611 ɤ 612 ɥ 613 ɦ 614 ɧ 615 ɨ 616 ɩ 617 ɪ 618 ɫ 619 ɬ 620 ɭ 621 ɮ 622 ɯ 623 ɰ 624 ɱ 625 ɲ 626 ɳ 627 ɴ 628 ɵ 629 ɶ 630 ɷ 631 ɸ 632 ɹ 633 ɺ 634 ɻ 635 ɼ 636 ɽ 637 ɾ 638 ɿ 639 ʀ 640 ʁ 641 ʂ 642 ʃ 643 ʄ 644 ʅ 645 ʆ 646 ʇ 647 ʈ 648 ʉ 649 ʊ 650 ʋ 651 ʌ 652 ʍ 653 ʎ 654 ʏ 655 ʐ 656 ʑ 657 ʒ 658 ʓ 659 ʔ 660 ʕ 661 ʖ 662 ʗ 663 ʘ 664 ʙ 665 ʚ 666 ʛ 667 ʜ 668 ʝ 669 ʞ 670 ʟ 671 ʠ 672 ʡ 673 ʢ 674 ʣ 675 ʤ 676 ʥ 677 ʦ 678 ʧ 679 ʨ 680 ʩ 681 ʪ 682 ʫ 683 ʬ 684 ʭ 685 ʮ 686 ʯ 687 ʰ 688 ʱ 689 ʲ 690 ʳ 691 ʴ 692 ʵ 693 ʶ 694 ʷ 695 ʸ 696 ʹ 697 ʺ 698 ʻ 699 ʼ 700 ʽ 701 ʾ 702 ʿ 703 ˀ 704 ˁ 705 ˂ 706 ˃ 707 ˄ 708 ˅ 709 ˆ 710 ˇ 711 ˈ 712 ˉ 713 ˊ 714 ˋ 715 ˌ 716 ˍ 717 ˎ 718 ˏ 719 ː 720 ˑ 721 ˒ 722 ˓ 723 ˔ 724 ˕ 725 ˖ 726 ˗ 727 ˘ 728 ˙ 729 ˚ 730 ˛ 731 ˜ 732 ˝ 733 ˞ 734 ˟ 735 ˠ 736 ˡ 737 ˢ 738 ˣ 739 ˤ 740 ˥ 741 ˦ 742 ˧ 743 ˨ 744 ˩ 745 ˪ 746 ˫ 747 ˬ 748 ˭ 749 ˮ 750 ˯ 751 ˰ 752 ˱ 753 ˲ 754 ˳ 755 ˴ 756 ˵ 757 ˶ 758 ˷ 759 ˸ 760 ˹ 761 ˺ 762 ˻ 763 ˼ 764 ˽ 765 ˾ 766 ˿ 767 ̀ 768 ́ 769 ̂ 770 ̃ 771 ̄ 772 ̅ 773 ̆ 774 ̇ 775 ̈ 776 ̉ 777 ̊ 778 ̋ 779 ̌ 780 ̍ 781 ̎ 782 ̏ 783 ̐ 784 ̑ 785 ̒ 786 ̓ 787 ̔ 788 ̕ 789 ̖ 790 ̗ 791 ̘ 792 ̙ 793 ̚ 794 ̛ 795 ̜ 796 ̝ 797 ̞ 798 ̟ 799 ̠ 800 ̡ 801 ̢ 802 ̣ 803 ̤ 804 ̥ 805 ̦ 806 ̧ 807 ̨ 808 ̩ 809 ̪ 810 ̫ 811 ̬ 812 ̭ 813 ̮ 814 ̯ 815 ̰ 816 ̱ 817 ̲ 818 ̳ 819 ̴ 820 ̵ 821 ̶ 822 ̷ 823 ̸ 824 ̹ 825 ̺ 826 ̻ 827 ̼ 828 ̽ 829 ̾ 830 ̿ 831 ̀ 832 ́ 833 ͂ 834 ̓ 835 ̈́ 836 ͅ 837 ͆ 838 ͇ 839 ͈ 840 ͉ 841 ͊ 842 ͋ 843 ͌ 844 ͍ 845 ͎ 846 ͏ 847 ͐ 848 ͑ 849 ͒ 850 ͓ 851 ͔ 852 ͕ 853 ͖ 854 ͗ 855 ͘ 856 ͙ 857 ͚ 858 ͛ 859 ͜ 860 ͝ 861 ͞ 862 ͟ 863 ͠ 864 ͡ 865 ͢ 866 ͣ 867 ͤ 868 ͥ 869 ͦ 870 ͧ 871 ͨ 872 ͩ 873 ͪ 874 ͫ 875 ͬ 876 ͭ 877 ͮ 878 ͯ 879 Ͱ 880 ͱ 881 Ͳ 882 ͳ 883 ʹ 884 ͵ 885 Ͷ 886 ͷ 887 ͸ 888 ͹ 889 ͺ 890 ͻ 891 ͼ 892 ͽ 893 ; 894 Ϳ 895 ΀ 896 ΁ 897 ΂ 898 ΃ 899 ΄ 900 ΅ 901 Ά 902 · 903 Έ 904 Ή 905 Ί 906 ΋ 907 Ό 908 ΍ 909 Ύ 910 Ώ 911 ΐ 912 Α 913 Β 914 Γ 915 Δ 916 Ε 917 Ζ 918 Η 919 Θ 920 Ι 921 Κ 922 Λ 923 Μ 924 Ν 925 Ξ 926 Ο 927 Π 928 Ρ 929 ΢ 930 Σ 931 Τ 932 Υ 933 Φ 934 Χ 935 Ψ 936 Ω 937 Ϊ 938 Ϋ 939 ά 940 έ 941 ή 942 ί 943 ΰ 944 α 945 β 946 γ 947 δ 948 ε 949 ζ 950 η 951 θ 952 ι 953 κ 954 λ 955 μ 956 ν 957 ξ 958 ο 959 π 960 ρ 961 ς 962 σ 963 τ 964 υ 965 φ 966 χ 967 ψ 968 ω 969 ϊ 970 ϋ 971 ό 972 ύ 973 ώ 974 Ϗ 975 ϐ 976 ϑ 977 ϒ 978 ϓ 979 ϔ 980 ϕ 981 ϖ 982 ϗ 983 Ϙ 984 ϙ 985 Ϛ 986 ϛ 987 Ϝ 988 ϝ 989 Ϟ 990 ϟ 991 Ϡ 992 ϡ 993 Ϣ 994 ϣ 995 Ϥ 996 ϥ 997 Ϧ 998 ϧ 999 "
     ]
    }
   ],
   "source": [
    "for i,k in zip(range(1000),range(1000)):\n",
    "    print(chr(i),k,end=' ')"
   ]
  },
  {
   "cell_type": "code",
   "execution_count": 62,
   "id": "18e79043",
   "metadata": {},
   "outputs": [
    {
     "data": {
      "text/plain": [
       "'ȸ'"
      ]
     },
     "execution_count": 62,
     "metadata": {},
     "output_type": "execute_result"
    }
   ],
   "source": [
    "chr(568)"
   ]
  },
  {
   "cell_type": "code",
   "execution_count": 67,
   "id": "d89075b0",
   "metadata": {},
   "outputs": [
    {
     "name": "stdout",
     "output_type": "stream",
     "text": [
      "|10| |11| |12| |13| |14| |15| |16| |17| \n",
      "|18| |19| |20| |21| |22| |23| |24| |25| \n",
      "|26| |27| |28| |29| |30| |31| |32| |33| \n",
      "|34| |35| |36| |37| |38| |39| |40| |41| \n",
      "|42| |43| |44| |45| |46| |47| |48| |49| \n",
      "|50| |51| |52| |53| |54| |55| |56| |57| \n",
      "|58| |59| |60| |61| |62| |63| |64| |65| \n",
      "|66| |67| |68| |69| |70| |71| |72| |73| \n",
      "|74| |75| |76| |77| |78| |79| |80| |81| \n",
      "|82| |83| |84| |85| |86| |87| |88| |89| \n"
     ]
    }
   ],
   "source": [
    "c=10\n",
    "for i in range(10):\n",
    "    for j in range(8):\n",
    "        print(f'|{c}|',end=' ')\n",
    "        c+=1\n",
    "    print()"
   ]
  },
  {
   "cell_type": "code",
   "execution_count": 71,
   "id": "bb0614bf",
   "metadata": {},
   "outputs": [
    {
     "name": "stdout",
     "output_type": "stream",
     "text": [
      "hello hello hello hello hello hello hello hello \n",
      "hello hello hello hello hello hello hello hello \n",
      "hello hello hello hello hello hello hello hello \n",
      "hello hello hello hello hello hello hello hello \n",
      "hello hello hello hello hello hello hello hello \n",
      "hello hello hello hello hello hello hello hello \n",
      "hello hello hello hello hello hello hello hello \n",
      "hello hello hello hello hello hello hello hello \n",
      "hello hello hello hello hello hello hello hello \n",
      "hello hello hello hello hello hello hello hello \n"
     ]
    }
   ],
   "source": [
    "for i in range(10):\n",
    "    for j in  range(8):\n",
    "        print('hello',end=' ')\n",
    "    print()"
   ]
  },
  {
   "cell_type": "code",
   "execution_count": 79,
   "id": "3ba5ab73",
   "metadata": {},
   "outputs": [
    {
     "name": "stdout",
     "output_type": "stream",
     "text": [
      "*     * * * * \n",
      "*     *       \n",
      "*     *       \n",
      "* * * * * * * \n",
      "      *     * \n",
      "      *     * \n",
      "* * * *     * \n"
     ]
    }
   ],
   "source": [
    "for i in range(7):\n",
    "    for j in range(7):\n",
    "        if i==3 or j==3 or (i==0 and j>3) or (j==6 and i>3)or (i==6 and j<3) or (j==0 and i<3):\n",
    "            print('*',end=' ')\n",
    "        else:\n",
    "            print(end='  ')\n",
    "    print()\n",
    "            "
   ]
  },
  {
   "cell_type": "code",
   "execution_count": 80,
   "id": "1063507e",
   "metadata": {},
   "outputs": [
    {
     "name": "stdout",
     "output_type": "stream",
     "text": [
      "*           * \n",
      "* *       * * \n",
      "*   *   *   * \n",
      "*     *     * \n",
      "*           * \n",
      "*           * \n",
      "*           * \n"
     ]
    }
   ],
   "source": [
    "for i in range(7):\n",
    "    for j in range(7):\n",
    "        if j==0 or j==6 or (i==j and j<4) or (i+j==6 and i<4):\n",
    "            print('*',end=' ')\n",
    "        else:\n",
    "            print(end='  ')\n",
    "    print()\n",
    "        "
   ]
  },
  {
   "cell_type": "code",
   "execution_count": 82,
   "id": "4df7d993",
   "metadata": {},
   "outputs": [
    {
     "name": "stdout",
     "output_type": "stream",
     "text": [
      "hello manish 1\n",
      "hello manish 2\n",
      "hello manish 3\n",
      "hello manish 4\n",
      "hello manish 5\n",
      "hello manish 6\n",
      "hello manish 7\n",
      "hello manish 8\n",
      "hello manish 9\n",
      "hello manish 10\n",
      "hello manish 11\n",
      "hello manish 12\n",
      "hello manish 13\n",
      "hello manish 14\n",
      "hello manish 15\n",
      "hello manish 16\n",
      "hello manish 17\n",
      "hello manish 18\n",
      "hello manish 19\n",
      "hello manish 20\n",
      "hello manish 21\n",
      "hello manish 22\n",
      "hello manish 23\n",
      "hello manish 24\n",
      "hello manish 25\n",
      "hello manish 26\n",
      "hello manish 27\n",
      "hello manish 28\n",
      "hello manish 29\n",
      "hello manish 30\n",
      "hello manish 31\n",
      "hello manish 32\n",
      "hello manish 33\n",
      "hello manish 34\n",
      "hello manish 35\n",
      "hello manish 36\n",
      "hello manish 37\n",
      "hello manish 38\n",
      "hello manish 39\n",
      "hello manish 40\n",
      "hello manish 41\n",
      "hello manish 42\n",
      "hello manish 43\n",
      "hello manish 44\n",
      "hello manish 45\n"
     ]
    }
   ],
   "source": [
    "c=1\n",
    "for _ in range(10):\n",
    "    for _ in range(_):\n",
    "        print('hello manish',c)\n",
    "        c+=1"
   ]
  },
  {
   "cell_type": "code",
   "execution_count": null,
   "id": "f4d9c551",
   "metadata": {},
   "outputs": [],
   "source": []
  }
 ],
 "metadata": {
  "kernelspec": {
   "display_name": "Python 3 (ipykernel)",
   "language": "python",
   "name": "python3"
  },
  "language_info": {
   "codemirror_mode": {
    "name": "ipython",
    "version": 3
   },
   "file_extension": ".py",
   "mimetype": "text/x-python",
   "name": "python",
   "nbconvert_exporter": "python",
   "pygments_lexer": "ipython3",
   "version": "3.9.6"
  }
 },
 "nbformat": 4,
 "nbformat_minor": 5
}
